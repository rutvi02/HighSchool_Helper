{
 "cells": [
  {
   "cell_type": "code",
   "execution_count": 11,
   "metadata": {},
   "outputs": [],
   "source": [
    "from typing import Annotated\n",
    "\n",
    "from typing_extensions import TypedDict\n",
    "\n",
    "from langgraph.graph import StateGraph,START,END\n",
    "from langgraph.graph.message import add_messages"
   ]
  },
  {
   "cell_type": "code",
   "execution_count": 12,
   "metadata": {},
   "outputs": [],
   "source": [
    "from typing import Optional\n",
    "\n",
    "from pydantic import BaseModel, Field, ConfigDict"
   ]
  },
  {
   "cell_type": "code",
   "execution_count": 13,
   "metadata": {},
   "outputs": [
    {
     "data": {
      "text/plain": [
       "True"
      ]
     },
     "execution_count": 13,
     "metadata": {},
     "output_type": "execute_result"
    }
   ],
   "source": [
    "import os\n",
    "from dotenv import load_dotenv\n",
    "load_dotenv()"
   ]
  },
  {
   "cell_type": "code",
   "execution_count": 14,
   "metadata": {},
   "outputs": [
    {
     "data": {
      "text/plain": [
       "ChatGroq(client=<groq.resources.chat.completions.Completions object at 0x11eb85810>, async_client=<groq.resources.chat.completions.AsyncCompletions object at 0x11eb86210>, model_name='openai/gpt-oss-120b', model_kwargs={}, groq_api_key=SecretStr('**********'))"
      ]
     },
     "execution_count": 14,
     "metadata": {},
     "output_type": "execute_result"
    }
   ],
   "source": [
    "from langchain_groq import ChatGroq\n",
    "from langchain.chat_models import init_chat_model\n",
    "\n",
    "llm=init_chat_model(\"groq:openai/gpt-oss-120b\")\n",
    "llm"
   ]
  },
  {
   "cell_type": "code",
   "execution_count": 15,
   "metadata": {},
   "outputs": [],
   "source": [
    "from agent.prompts import *\n",
    "from agent.tools import sympy_code_generator_and_executor"
   ]
  },
  {
   "cell_type": "code",
   "execution_count": 16,
   "metadata": {},
   "outputs": [],
   "source": [
    "tools = [sympy_code_generator_and_executor]"
   ]
  },
  {
   "cell_type": "code",
   "execution_count": 17,
   "metadata": {},
   "outputs": [],
   "source": [
    "llm_with_tool = llm.bind_tools(tools)"
   ]
  },
  {
   "cell_type": "code",
   "execution_count": 18,
   "metadata": {},
   "outputs": [],
   "source": [
    "## Stategraph\n",
    "from langgraph.graph import StateGraph,START,END\n",
    "from langgraph.prebuilt import ToolNode\n",
    "from langgraph.prebuilt import tools_condition"
   ]
  },
  {
   "cell_type": "code",
   "execution_count": 19,
   "metadata": {},
   "outputs": [],
   "source": [
    "from langchain_core.messages import AIMessage, HumanMessage, SystemMessage"
   ]
  },
  {
   "cell_type": "code",
   "execution_count": 20,
   "metadata": {},
   "outputs": [],
   "source": [
    "from langgraph.graph import MessagesState\n",
    "\n",
    "# System message\n",
    "sys_msg = SystemMessage(content=agent_promt())\n",
    "\n",
    "# Node\n",
    "def math_assistant(state: MessagesState):\n",
    "   return {\"messages\": [llm_with_tool.invoke([sys_msg] + state[\"messages\"])]}\n"
   ]
  },
  {
   "cell_type": "code",
   "execution_count": 21,
   "metadata": {},
   "outputs": [],
   "source": [
    "# from langgraph.prebuilt import create_react_agent\n",
    "# from langchain_core.prompts import ChatPromptTemplate\n",
    "\n",
    "# system_prompt = math_agent_promt()\n",
    "\n",
    "# # Create the agent with a custom system prompt\n",
    "# math_agent = create_react_agent(\n",
    "#     llm,\n",
    "#     tools,\n",
    "#     state_modifier=system_prompt\n",
    "# )"
   ]
  },
  {
   "cell_type": "code",
   "execution_count": 22,
   "metadata": {},
   "outputs": [],
   "source": [
    "# ## Stategraph\n",
    "# from langgraph.graph import StateGraph,START,END\n",
    "# from langgraph.prebuilt import ToolNode\n",
    "# from langgraph.prebuilt import tools_condition\n",
    "\n",
    "# ## Node definition\n",
    "# def tool_calling_llm(state:State):\n",
    "#     return {\"messages\":[llm_with_tool.invoke(state[\"messages\"])]}\n",
    "\n",
    "# ## Grpah\n",
    "# builder=StateGraph(State)\n",
    "# builder.add_node(\"tool_calling_llm\",tool_calling_llm)\n",
    "# builder.add_node(\"tools\",ToolNode(tools))\n",
    "\n",
    "# ## Add Edges\n",
    "# builder.add_edge(START, \"tool_calling_llm\")\n",
    "# builder.add_conditional_edges(\n",
    "#     \"tool_calling_llm\",\n",
    "#     # If the latest message (result) from assistant is a tool call -> tools_condition routes to tools\n",
    "#     # If the latest message (result) from assistant is a not a tool call -> tools_condition routes to END\n",
    "#     tools_condition\n",
    "# )\n",
    "# builder.add_edge(\"tools\",\"tool_calling_llm\")\n",
    "\n",
    "# ## compile the graph\n",
    "# graph=builder.compile()\n",
    "\n",
    "# from IPython.display import Image, display\n",
    "# display(Image(graph.get_graph().draw_mermaid_png()))"
   ]
  },
  {
   "cell_type": "code",
   "execution_count": 23,
   "metadata": {},
   "outputs": [
    {
     "data": {
      "image/png": "[encoded data removed]",
      "text/plain": [
       "<langgraph.graph.state.CompiledStateGraph object at 0x11e8c2120>"
      ]
     },
     "execution_count": 23,
     "metadata": {},
     "output_type": "execute_result"
    }
   ],
   "source": [
    "from langgraph.graph import START, StateGraph\n",
    "from langgraph.prebuilt import tools_condition, ToolNode\n",
    "\n",
    "from langchain_core.messages import AIMessage, HumanMessage, SystemMessage\n",
    "\n",
    "# Graph\n",
    "builder = StateGraph(MessagesState)\n",
    "\n",
    "# Define nodes: these do the work\n",
    "builder.add_node(\"assistant\", math_assistant)\n",
    "builder.add_node(\"tools\", ToolNode(tools))\n",
    "\n",
    "# Define edges: these determine the control flow\n",
    "builder.add_edge(START, \"assistant\")\n",
    "builder.add_conditional_edges(\n",
    "    \"assistant\",\n",
    "    # If the latest message (result) from assistant is a tool call -> tools_condition routes to tools\n",
    "    # If the latest message (result) from assistant is a not a tool call -> tools_condition routes to END\n",
    "    tools_condition,\n",
    ")\n",
    "builder.add_edge(\"tools\", \"assistant\")\n",
    "graph = builder.compile()\n",
    "graph"
   ]
  },
  {
   "cell_type": "code",
   "execution_count": 24,
   "metadata": {},
   "outputs": [
    {
     "name": "stdout",
     "output_type": "stream",
     "text": [
      "Final Result: [2, 3]\n",
      "================================\u001b[1m Human Message \u001b[0m=================================\n",
      "\n",
      "Find the roots of x^2 - 5x + 6 = 0\n",
      "==================================\u001b[1m Ai Message \u001b[0m==================================\n",
      "Tool Calls:\n",
      "  sympy_code_generator_and_executor (fc_6ca27386-14d5-4154-aced-f3a4fdc3bab9)\n",
      " Call ID: fc_6ca27386-14d5-4154-aced-f3a4fdc3bab9\n",
      "  Args:\n",
      "    query: Solve x**2 - 5*x + 6 = 0 for x\n",
      "=================================\u001b[1m Tool Message \u001b[0m=================================\n",
      "Name: sympy_code_generator_and_executor\n",
      "\n",
      "{'Final_Result': [2, 3]}\n",
      "==================================\u001b[1m Ai Message \u001b[0m==================================\n",
      "\n",
      "**Understanding**  \n",
      "We need to find the values of x that satisfy the quadratic equation x² − 5x + 6 = 0.\n",
      "\n",
      "**Reasoning**  \n",
      "Factor the quadratic:  \n",
      "x² − 5x + 6 = (x − 2)(x − 3) = 0.  \n",
      "Set each factor equal to zero:  \n",
      "x − 2 = 0 → x = 2  \n",
      "x − 3 = 0 → x = 3  \n",
      "\n",
      "**Final Answer**  \n",
      "The roots of the equation are x = 2 and x = 3.\n"
     ]
    }
   ],
   "source": [
    "messages = [HumanMessage(content=\"Find the roots of x^2 - 5x + 6 = 0\")]\n",
    "messages = graph.invoke({\"messages\": messages})\n",
    "\n",
    "for m in messages['messages']:\n",
    "    m.pretty_print()"
   ]
  },
  {
   "cell_type": "code",
   "execution_count": 17,
   "metadata": {},
   "outputs": [
    {
     "data": {
      "text/plain": [
       "992157.5471400699"
      ]
     },
     "execution_count": 17,
     "metadata": {},
     "output_type": "execute_result"
    }
   ],
   "source": [
    "import math \n",
    "\n",
    "ans = math.sqrt(984376598347)\n",
    "ans"
   ]
  },
  {
   "cell_type": "code",
   "execution_count": 15,
   "metadata": {},
   "outputs": [
    {
     "name": "stdout",
     "output_type": "stream",
     "text": [
      "**Understanding**  \n",
      "We need to find the values of x that make the quadratic expression x² − 4 equal to zero.\n",
      "\n",
      "**Reasoning**  \n",
      "Set the expression to zero:  \n",
      "x² − 4 = 0  \n",
      "\n",
      "Add 4 to both sides:  \n",
      "x² = 4  \n",
      "\n",
      "Take the square root of both sides, remembering both the positive and negative roots:  \n",
      "x = ±2  \n",
      "\n",
      "Thus the solutions are x = 2 and x = −2.\n",
      "\n",
      "**Final Answer**  \n",
      "The roots of the parabola x² − 4 are -2 and 2.\n"
     ]
    }
   ],
   "source": [
    "print(messages['messages'][-1].content)"
   ]
  },
  {
   "cell_type": "code",
   "execution_count": 20,
   "metadata": {},
   "outputs": [
    {
     "name": "stdout",
     "output_type": "stream",
     "text": [
      "================================\u001b[1m Human Message \u001b[0m=================================\n",
      "\n",
      "Find the derivative of sin(x) * e^x\n",
      "==================================\u001b[1m Ai Message \u001b[0m==================================\n",
      "\n",
      "**Understanding**  \n",
      "We need the derivative with respect to x of the function f(x)=sin(x)·eˣ.\n",
      "\n",
      "**Reasoning**  \n",
      "Use the product rule: (u·v)' = u'·v + u·v'.  \n",
      "Let u = sin(x) → u' = cos(x).  \n",
      "Let v = eˣ   → v' = eˣ.  \n",
      "\n",
      "Then  \n",
      "f'(x) = u'·v + u·v'  \n",
      "    = cos(x)·eˣ + sin(x)·eˣ  \n",
      "    = eˣ·(cos(x) + sin(x)).\n",
      "\n",
      "**Final Answer**  \n",
      "The derivative is eˣ (cos x + sin x).\n"
     ]
    }
   ],
   "source": [
    "messages = [HumanMessage(content=\"Find the derivative of sin(x) * e^x\")]\n",
    "messages = graph.invoke({\"messages\": messages})\n",
    "\n",
    "for m in messages['messages']:\n",
    "    m.pretty_print()"
   ]
  },
  {
   "cell_type": "code",
   "execution_count": 21,
   "metadata": {},
   "outputs": [
    {
     "name": "stdout",
     "output_type": "stream",
     "text": [
      "Final Result: 9.00000000000000\n",
      "================================\u001b[1m Human Message \u001b[0m=================================\n",
      "\n",
      "Compute the integral of x^2 from 0 to 3\n",
      "==================================\u001b[1m Ai Message \u001b[0m==================================\n",
      "Tool Calls:\n",
      "  sympy_code_generator_and_executor (fc_427e5781-5fb3-48a8-851e-30df67dd6a20)\n",
      " Call ID: fc_427e5781-5fb3-48a8-851e-30df67dd6a20\n",
      "  Args:\n",
      "    query: integrate(x**2, (x, 0, 3))\n",
      "=================================\u001b[1m Tool Message \u001b[0m=================================\n",
      "Name: sympy_code_generator_and_executor\n",
      "\n",
      "{'Final_Result': 9.00000000000000}\n",
      "==================================\u001b[1m Ai Message \u001b[0m==================================\n",
      "\n",
      "**Understanding**  \n",
      "We need to find the definite integral of the function x² over the interval from x = 0 to x = 3.\n",
      "\n",
      "**Reasoning**  \n",
      "1. Find an antiderivative of x².  \n",
      "   ∫ x² dx = x³ / 3 + C  \n",
      "\n",
      "2. Evaluate this antiderivative at the limits of integration:  \n",
      "\n",
      "   At x = 3: (3)³ / 3 = 27 / 3 = 9  \n",
      "   At x = 0: (0)³ / 3 = 0  \n",
      "\n",
      "3. Subtract the lower‑limit value from the upper‑limit value:  \n",
      "\n",
      "   9 – 0 = 9  \n",
      "\n",
      "**Final Answer**  \n",
      "The integral of x² from 0 to 3 equals 9.\n"
     ]
    }
   ],
   "source": [
    "messages = [HumanMessage(content=\"Compute the integral of x^2 from 0 to 3\")]\n",
    "messages = graph.invoke({\"messages\": messages})\n",
    "\n",
    "for m in messages['messages']:\n",
    "    m.pretty_print()\n"
   ]
  },
  {
   "cell_type": "code",
   "execution_count": 22,
   "metadata": {},
   "outputs": [
    {
     "name": "stdout",
     "output_type": "stream",
     "text": [
      "Final Result: 4.08163265306122\n",
      "================================\u001b[1m Human Message \u001b[0m=================================\n",
      "\n",
      "If I throw a ball upward with velocity 20 m/s, after how many seconds does it hit the ground? (assume g = 9.8 m/s^2, starting at height 0)\n",
      "==================================\u001b[1m Ai Message \u001b[0m==================================\n",
      "Tool Calls:\n",
      "  sympy_code_generator_and_executor (fc_21570290-7689-4eb0-a965-8d5101bab872)\n",
      " Call ID: fc_21570290-7689-4eb0-a965-8d5101bab872\n",
      "  Args:\n",
      "    query: 20/4.9\n",
      "=================================\u001b[1m Tool Message \u001b[0m=================================\n",
      "Name: sympy_code_generator_and_executor\n",
      "\n",
      "{'Final_Result': 4.08163265306122}\n",
      "==================================\u001b[1m Ai Message \u001b[0m==================================\n",
      "\n",
      "**Understanding**  \n",
      "A ball is thrown upward from ground level (height 0) with an initial speed of 20 m/s. Under constant downward acceleration g = 9.8 m/s², we need the time when the ball returns to height 0.\n",
      "\n",
      "**Reasoning**  \n",
      "The height as a function of time t (seconds) is  \n",
      "\n",
      "y(t) = v₀·t – (1/2)·g·t²  \n",
      "  = 20·t – 0.5·9.8·t²  \n",
      "  = 20·t – 4.9·t²  \n",
      "\n",
      "Set y(t) = 0 to find when the ball is back on the ground:  \n",
      "\n",
      "0 = 20·t – 4.9·t²  \n",
      "t·(20 – 4.9·t) = 0  \n",
      "\n",
      "The solutions are t = 0 s (launch moment) and  \n",
      "\n",
      "t = 20 / 4.9 ≈ 4.08163265306122 s  \n",
      "\n",
      "We discard t = 0 and keep the positive root.\n",
      "\n",
      "**Final Answer**  \n",
      "The ball hits the ground after approximately **4.08 seconds**.\n"
     ]
    }
   ],
   "source": [
    "messages = [HumanMessage(content=\"If I throw a ball upward with velocity 20 m/s, after how many seconds does it hit the ground? (assume g = 9.8 m/s^2, starting at height 0)\")]\n",
    "messages = graph.invoke({\"messages\": messages})\n",
    "\n",
    "for m in messages['messages']:\n",
    "    m.pretty_print()\n"
   ]
  },
  {
   "cell_type": "code",
   "execution_count": 23,
   "metadata": {},
   "outputs": [
    {
     "name": "stdout",
     "output_type": "stream",
     "text": [
      "Final Result: 20.0831604418561\n",
      "================================\u001b[1m Human Message \u001b[0m=================================\n",
      "\n",
      "If I throw a ball out a window that is 30 feet off of the ground at 10 miles per hour, how far from the building will the ball hit the ground assuming no air resistance?\n",
      "==================================\u001b[1m Ai Message \u001b[0m==================================\n",
      "Tool Calls:\n",
      "  sympy_code_generator_and_executor (fc_d2aa5d2c-70ce-4955-a112-45424bc8c90f)\n",
      " Call ID: fc_d2aa5d2c-70ce-4955-a112-45424bc8c90f\n",
      "  Args:\n",
      "    query: import sympy as sp\n",
      "v_mph = 10\n",
      "v_fps = v_mph * 5280 / 3600\n",
      "h = 30\n",
      "g = 32\n",
      "t = sp.sqrt(2*h/g)\n",
      "d = v_fps * t\n",
      "float(d)\n",
      "=================================\u001b[1m Tool Message \u001b[0m=================================\n",
      "Name: sympy_code_generator_and_executor\n",
      "\n",
      "{'Final_Result': 20.0831604418561}\n",
      "==================================\u001b[1m Ai Message \u001b[0m==================================\n",
      "\n",
      "**Understanding**  \n",
      "A ball is thrown horizontally from a window 30 ft above the ground with an initial speed of 10 mi/h. With no air resistance, we need the horizontal distance it travels before hitting the ground.\n",
      "\n",
      "**Reasoning**  \n",
      "1. Convert the speed to feet per second:  \n",
      "   10 mi/h × 5280 ft/mi ÷ 3600 s/h = 14.666… ft/s.  \n",
      "\n",
      "2. The vertical motion is free fall from rest, so the fall time \\(t\\) satisfies  \n",
      "   \\(h = \\tfrac{1}{2} g t^{2}\\) with \\(g ≈ 32\\) ft/s².  \n",
      "   Solve for \\(t\\):  \n",
      "   \\(t = \\sqrt{2h/g} = \\sqrt{2·30/32} ≈ 1.37\\) s.\n",
      "\n",
      "3. Horizontal distance = horizontal speed × time:  \n",
      "   \\(d = v·t = 14.666… ft/s × 1.37 s ≈ 20.08\\) ft.\n",
      "\n",
      "**Final Answer**  \n",
      "The ball will hit the ground about **20.1 feet** away from the building.\n"
     ]
    }
   ],
   "source": [
    "messages = [HumanMessage(content=\"If I throw a ball out a window that is 30 feet off of the ground at 10 miles per hour, how far from the building will the ball hit the ground assuming no air resistance?\")]\n",
    "messages = graph.invoke({\"messages\": messages})\n",
    "\n",
    "for m in messages['messages']:\n",
    "    m.pretty_print()\n"
   ]
  },
  {
   "cell_type": "code",
   "execution_count": 24,
   "metadata": {},
   "outputs": [
    {
     "name": "stdout",
     "output_type": "stream",
     "text": [
      "Final Result: -10.0 - 198.0*I\n",
      "================================\u001b[1m Human Message \u001b[0m=================================\n",
      "\n",
      "Express (5 - 3i)^3 in the form a + ib.\n",
      "==================================\u001b[1m Ai Message \u001b[0m==================================\n",
      "Tool Calls:\n",
      "  sympy_code_generator_and_executor (fc_9f86e148-0f1f-4b83-b362-26f0c1fc5ce0)\n",
      " Call ID: fc_9f86e148-0f1f-4b83-b362-26f0c1fc5ce0\n",
      "  Args:\n",
      "    query: (5 - 3*I)**3\n",
      "=================================\u001b[1m Tool Message \u001b[0m=================================\n",
      "Name: sympy_code_generator_and_executor\n",
      "\n",
      "{'Final_Result': -10.0 - 198.0*I}\n",
      "==================================\u001b[1m Ai Message \u001b[0m==================================\n",
      "\n",
      "**Understanding**  \n",
      "We need to expand \\((5 - 3i)^3\\) and write the result in the form \\(a + ib\\).\n",
      "\n",
      "**Reasoning**  \n",
      "Use the binomial theorem: \\((x+y)^3 = x^3 + 3x^2y + 3xy^2 + y^3\\).  \n",
      "Let \\(x = 5\\) and \\(y = -3i\\).\n",
      "\n",
      "1. Compute each term:  \n",
      "   - \\(x^3 = 5^3 = 125\\)  \n",
      "   - \\(3x^2y = 3(5^2)(-3i) = 3(25)(-3i) = -225i\\)  \n",
      "   - \\(3xy^2 = 3(5)(-3i)^2 = 15 \\times (9i^2) = 15 \\times (9 \\times -1) = -135\\)  \n",
      "   - \\(y^3 = (-3i)^3 = -27i^3 = -27(-i) = 27i\\)   (since \\(i^3 = -i\\))\n",
      "\n",
      "2. Add the real parts: \\(125 - 135 = -10\\).  \n",
      "   Add the imaginary parts: \\(-225i + 27i = -198i\\).\n",
      "\n",
      "Thus \\((5 - 3i)^3 = -10 - 198i\\).\n",
      "\n",
      "**Final Answer**  \n",
      "\\(-10 - 198i\\) (i.e., \\(a = -10\\), \\(b = -198\\)).\n"
     ]
    }
   ],
   "source": [
    "messages = [HumanMessage(content=\"Express (5 - 3i)^3 in the form a + ib.\")]\n",
    "messages = graph.invoke({\"messages\": messages})\n",
    "\n",
    "for m in messages['messages']:\n",
    "    m.pretty_print()\n"
   ]
  },
  {
   "cell_type": "code",
   "execution_count": 25,
   "metadata": {},
   "outputs": [
    {
     "name": "stdout",
     "output_type": "stream",
     "text": [
      "================================\u001b[1m Human Message \u001b[0m=================================\n",
      "\n",
      "Ravi obtained 70 and 75 marks in first two unit test. Find the minimum marks he should get in the third test to have an average of at least 60 marks.\n",
      "==================================\u001b[1m Ai Message \u001b[0m==================================\n",
      "\n",
      "**Understanding**  \n",
      "Ravi scored 70 and 75 in the first two unit tests. Let the marks needed in the third test be \\(x\\). We need the average of the three tests to be at least 60.\n",
      "\n",
      "**Reasoning**  \n",
      "Average of three tests: \\((70 + 75 + x) / 3 \\ge 60\\)  \n",
      "\n",
      "Multiply both sides by 3:  \n",
      "\\(70 + 75 + x \\ge 180\\)  \n",
      "\n",
      "Combine the known marks:  \n",
      "\\(145 + x \\ge 180\\)  \n",
      "\n",
      "Isolate \\(x\\):  \n",
      "\\(x \\ge 180 - 145\\)  \n",
      "\\(x \\ge 35\\)\n",
      "\n",
      "Thus Ravi must obtain at least 35 marks in the third test.\n",
      "\n",
      "**Final Answer**  \n",
      "The minimum marks Ravi should get in the third test is **35**.\n"
     ]
    }
   ],
   "source": [
    "messages = [HumanMessage(content=\"Ravi obtained 70 and 75 marks in first two unit test. Find the minimum marks he should get in the third test to have an average of at least 60 marks.\")]\n",
    "messages = graph.invoke({\"messages\": messages})\n",
    "\n",
    "for m in messages['messages']:\n",
    "    m.pretty_print()"
   ]
  },
  {
   "cell_type": "code",
   "execution_count": 30,
   "metadata": {},
   "outputs": [
    {
     "name": "stdout",
     "output_type": "stream",
     "text": [
      "Final Result: 0.703949464971046\n",
      "================================\u001b[1m Human Message \u001b[0m=================================\n",
      "\n",
      "Convert 40° 20' into radian measure\n",
      "==================================\u001b[1m Ai Message \u001b[0m==================================\n",
      "Tool Calls:\n",
      "  sympy_code_generator_and_executor (fc_bec32586-941f-4a71-893a-7e65553f7855)\n",
      " Call ID: fc_bec32586-941f-4a71-893a-7e65553f7855\n",
      "  Args:\n",
      "    query: 121*pi/540\n",
      "=================================\u001b[1m Tool Message \u001b[0m=================================\n",
      "Name: sympy_code_generator_and_executor\n",
      "\n",
      "{'Final_Result': 0.703949464971046}\n",
      "==================================\u001b[1m Ai Message \u001b[0m==================================\n",
      "\n",
      "**Understanding**  \n",
      "We need to change an angle of 40° 20′ (40 degrees and 20 minutes) into radians.\n",
      "\n",
      "**Reasoning**  \n",
      "- 1 degree = π / 180 radians.  \n",
      "- 1 minute = 1⁄60 degree, so in radians it is (π / 180) · (1⁄60) = π / 10800.  \n",
      "\n",
      "Convert the minutes to degrees:  \n",
      "20′ = 20 ⁄ 60 ° = 1⁄3 °.  \n",
      "\n",
      "Total degrees = 40 ° + 1⁄3 ° = (120⁄3 + 1⁄3) ° = 121⁄3 °.  \n",
      "\n",
      "Now convert to radians:  \n",
      "(121⁄3) ° · (π / 180) = 121 π / 540 radians.\n",
      "\n",
      "Numerically, 121 π / 540 ≈ 0.70394946497 rad.\n",
      "\n",
      "**Final Answer**  \n",
      "40° 20′ = 121 π / 540 radians ≈ 0.70395 rad.\n"
     ]
    }
   ],
   "source": [
    "messages = [HumanMessage(content=\"Convert 40° 20' into radian measure\")]\n",
    "messages = graph.invoke({\"messages\": messages})\n",
    "\n",
    "for m in messages['messages']:\n",
    "    m.pretty_print()"
   ]
  },
  {
   "cell_type": "code",
   "execution_count": 31,
   "metadata": {},
   "outputs": [
    {
     "name": "stdout",
     "output_type": "stream",
     "text": [
      "================================\u001b[1m Human Message \u001b[0m=================================\n",
      "\n",
      "What is dimensional formula of Heat Enery\n",
      "==================================\u001b[1m Ai Message \u001b[0m==================================\n",
      "\n",
      "**Understanding**  \n",
      "The question asks for the dimensional formula of heat energy. Heat is a form of energy, so its dimensions are the same as those of any other type of energy.\n",
      "\n",
      "**Reasoning**  \n",
      "Energy (or work) is defined as force multiplied by distance.  \n",
      "- Force has the dimensional formula M L T⁻².  \n",
      "- Distance has the dimensional formula L.  \n",
      "\n",
      "Multiplying these gives the dimensions of energy:  \n",
      "\n",
      "M L T⁻² × L = M L² T⁻²  \n",
      "\n",
      "Since heat is energy transferred due to temperature difference, it shares this same dimensional formula.\n",
      "\n",
      "**Final Answer**  \n",
      "The dimensional formula of heat energy is **M L² T⁻²**.\n"
     ]
    }
   ],
   "source": [
    "messages = [HumanMessage(content=\"What is dimensional formula of Heat Enery\")]\n",
    "messages = graph.invoke({\"messages\": messages})\n",
    "\n",
    "for m in messages['messages']:\n",
    "    m.pretty_print()"
   ]
  },
  {
   "cell_type": "code",
   "execution_count": 32,
   "metadata": {},
   "outputs": [
    {
     "name": "stdout",
     "output_type": "stream",
     "text": [
      "Final Result: 63.2455532033676\n",
      "================================\u001b[1m Human Message \u001b[0m=================================\n",
      "\n",
      "In a ballistic demonstration a police officer fires a bullet of mass 50.0g with speed 200m/s on soft plywood of thickness 2.00cm. The bullet emerges with only 10% of its initial kinetic energy. What is the emergent speed of the bullet?\n",
      "==================================\u001b[1m Ai Message \u001b[0m==================================\n",
      "Tool Calls:\n",
      "  sympy_code_generator_and_executor (fc_77cfb593-ff2c-4e9a-8044-1821efd146fe)\n",
      " Call ID: fc_77cfb593-ff2c-4e9a-8044-1821efd146fe\n",
      "  Args:\n",
      "    query: 200*sqrt(0.1)\n",
      "=================================\u001b[1m Tool Message \u001b[0m=================================\n",
      "Name: sympy_code_generator_and_executor\n",
      "\n",
      "{'Final_Result': 63.2455532033676}\n",
      "==================================\u001b[1m Ai Message \u001b[0m==================================\n",
      "\n",
      "**Understanding**  \n",
      "A bullet of mass 50.0 g leaves the plywood with only 10 % of its original kinetic energy. We need its speed after emerging.\n",
      "\n",
      "**Reasoning**  \n",
      "Kinetic energy \\(K = \\frac12 m v^2\\).  \n",
      "Let \\(v_i = 200 \\text{m/s}\\) be the initial speed and \\(v_f\\) the emergent speed.\n",
      "\n",
      "Given  \n",
      "\\(\\frac12 m v_f^2 = 0.10 \\times \\frac12 m v_i^2\\)\n",
      "\n",
      "The mass and the factor \\(\\frac12\\) cancel, leaving  \n",
      "\\(v_f^2 = 0.10 \\, v_i^2\\)\n",
      "\n",
      "Take the square root:  \n",
      "\\(v_f = v_i \\sqrt{0.10}\\)\n",
      "\n",
      "Compute:  \n",
      "\\(\\sqrt{0.10} \\approx 0.31622777\\)  \n",
      "\\(v_f = 200 \\times 0.31622777 \\approx 63.2456\\ \\text{m/s}\\)\n",
      "\n",
      "**Final Answer**  \n",
      "The emergent speed of the bullet is approximately 63.2 m/s.\n"
     ]
    }
   ],
   "source": [
    "messages = [HumanMessage(content=\"In a ballistic demonstration a police officer fires a bullet of mass 50.0g with speed 200m/s on soft plywood of thickness 2.00cm. The bullet emerges with only 10% of its initial kinetic energy. What is the emergent speed of the bullet?\")]\n",
    "messages = graph.invoke({\"messages\": messages})\n",
    "\n",
    "for m in messages['messages']:\n",
    "    m.pretty_print()"
   ]
  },
  {
   "cell_type": "code",
   "execution_count": 33,
   "metadata": {},
   "outputs": [
    {
     "name": "stdout",
     "output_type": "stream",
     "text": [
      "Final Result: 3.60000000000000\n",
      "================================\u001b[1m Human Message \u001b[0m=================================\n",
      "\n",
      "A batsman hits back a ball straight in the direction of the bowler without changing it's initial speed of 12m/s. If the mass of the ball is 0.15kg, determine the impulse imparted to the ball\n",
      "==================================\u001b[1m Ai Message \u001b[0m==================================\n",
      "Tool Calls:\n",
      "  sympy_code_generator_and_executor (fc_9ab195d7-d59a-4225-a193-72531cc06a2a)\n",
      " Call ID: fc_9ab195d7-d59a-4225-a193-72531cc06a2a\n",
      "  Args:\n",
      "    query: 0.15*(12 - (-12))\n",
      "=================================\u001b[1m Tool Message \u001b[0m=================================\n",
      "Name: sympy_code_generator_and_executor\n",
      "\n",
      "{'Final_Result': 3.60000000000000}\n",
      "==================================\u001b[1m Ai Message \u001b[0m==================================\n",
      "\n",
      "**Understanding**  \n",
      "A cricket ball of mass 0.15 kg is hit back so that its speed remains 12 m/s but its direction reverses. We need the impulse given to the ball.\n",
      "\n",
      "**Reasoning**  \n",
      "Impulse = change in momentum = m · (v_final − v_initial).  \n",
      "Take the initial direction as positive (+12 m/s). After being hit, the ball moves opposite, so v_final = −12 m/s.\n",
      "\n",
      "Change in velocity:  \n",
      "v_final − v_initial = (−12) − (+12) = −24 m/s  \n",
      "\n",
      "Magnitude of change: |Δv| = 24 m/s  \n",
      "\n",
      "Impulse magnitude:  \n",
      "I = m · |Δv| = 0.15 kg × 24 m/s = 3.6 N·s  \n",
      "\n",
      "The impulse is directed opposite to the ball’s original motion.\n",
      "\n",
      "**Final Answer**  \n",
      "Impulse imparted to the ball = 3.6 N·s (opposite to the initial direction).\n"
     ]
    }
   ],
   "source": [
    "messages = [HumanMessage(content=\"A batsman hits back a ball straight in the direction of the bowler without changing it's initial speed of 12m/s. If the mass of the ball is 0.15kg, determine the impulse imparted to the ball\")]\n",
    "messages = graph.invoke({\"messages\": messages})\n",
    "\n",
    "for m in messages['messages']:\n",
    "    m.pretty_print()"
   ]
  }
 ],
 "metadata": {
  "kernelspec": {
   "display_name": ".venv",
   "language": "python",
   "name": "python3"
  },
  "language_info": {
   "codemirror_mode": {
    "name": "ipython",
    "version": 3
   },
   "file_extension": ".py",
   "mimetype": "text/x-python",
   "name": "python",
   "nbconvert_exporter": "python",
   "pygments_lexer": "ipython3",
   "version": "3.13.1"
  }
 },
 "nbformat": 4,
 "nbformat_minor": 2
}
