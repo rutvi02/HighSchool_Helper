{
 "cells": [
  {
   "cell_type": "code",
   "execution_count": 1,
   "metadata": {},
   "outputs": [],
   "source": [
    "from typing import Annotated\n",
    "\n",
    "from typing_extensions import TypedDict\n",
    "\n",
    "from langgraph.graph import StateGraph,START,END\n",
    "from langgraph.graph.message import add_messages"
   ]
  },
  {
   "cell_type": "code",
   "execution_count": 2,
   "metadata": {},
   "outputs": [],
   "source": [
    "from typing import Optional\n",
    "\n",
    "from pydantic import BaseModel, Field, ConfigDict\n",
    "\n",
    "\n",
    "class File(BaseModel):\n",
    "    path: str = Field(description=\"The path to the file to be created or modified\")"
   ]
  },
  {
   "cell_type": "code",
   "execution_count": 3,
   "metadata": {},
   "outputs": [],
   "source": [
    "class State(TypedDict):\n",
    "    # Messages have the type \"list\". The `add_messages` function\n",
    "    # in the annotation defines how this state key should be updated\n",
    "    # (in this case, it appends messages to the list, rather than overwriting them)\n",
    "    messages:Annotated[list,add_messages]"
   ]
  },
  {
   "cell_type": "code",
   "execution_count": 3,
   "metadata": {},
   "outputs": [
    {
     "data": {
      "text/plain": [
       "True"
      ]
     },
     "execution_count": 3,
     "metadata": {},
     "output_type": "execute_result"
    }
   ],
   "source": [
    "import os\n",
    "from dotenv import load_dotenv\n",
    "load_dotenv()"
   ]
  },
  {
   "cell_type": "code",
   "execution_count": 4,
   "metadata": {},
   "outputs": [
    {
     "data": {
      "text/plain": [
       "ChatGroq(client=<groq.resources.chat.completions.Completions object at 0x108bcda90>, async_client=<groq.resources.chat.completions.AsyncCompletions object at 0x108bce660>, model_name='openai/gpt-oss-120b', model_kwargs={}, groq_api_key=SecretStr('**********'))"
      ]
     },
     "execution_count": 4,
     "metadata": {},
     "output_type": "execute_result"
    }
   ],
   "source": [
    "from langchain_groq import ChatGroq\n",
    "from langchain.chat_models import init_chat_model\n",
    "\n",
    "llm=init_chat_model(\"groq:openai/gpt-oss-120b\")\n",
    "llm"
   ]
  },
  {
   "cell_type": "code",
   "execution_count": null,
   "metadata": {},
   "outputs": [],
   "source": [
    "# Tool Order Matters\n",
    "# When combining structured output with additional tools, bind tools first, then apply structured output:\n",
    "\n",
    "# # Correct\n",
    "# model_with_tools = model.bind_tools([tool1, tool2])\n",
    "# structured_model = model_with_tools.with_structured_output(schema)\n",
    "\n",
    "# # Incorrect - will cause tool resolution errors\n",
    "# structured_model = model.with_structured_output(schema)\n",
    "# broken_model = structured_model.bind_tools([tool1, tool2])"
   ]
  },
  {
   "cell_type": "code",
   "execution_count": 6,
   "metadata": {},
   "outputs": [],
   "source": [
    "## Node Functionality\n",
    "def chatbot(state:State):\n",
    "    return {\"messages\":[llm.invoke(state[\"messages\"])]}"
   ]
  },
  {
   "cell_type": "code",
   "execution_count": 34,
   "metadata": {},
   "outputs": [],
   "source": [
    "from agent.states import *\n",
    "from agent.prompts import *"
   ]
  },
  {
   "cell_type": "code",
   "execution_count": 8,
   "metadata": {},
   "outputs": [],
   "source": [
    "def math_agent(state: dict) -> dict:\n",
    "    \"\"\"Breaks down a problem into simpler and understandable sub tasks.\"\"\"\n",
    "    user_prompt = state[\"user_prompt\"]\n",
    "    resp = llm.with_structured_output(MathPlan).invoke(\n",
    "        math_agent_prompt(user_prompt)\n",
    "    )\n",
    "    if resp is None:\n",
    "        raise ValueError(\"Planner did not return a valid response.\")\n",
    "    return resp\n"
   ]
  },
  {
   "cell_type": "code",
   "execution_count": 6,
   "metadata": {},
   "outputs": [],
   "source": [
    "def math_agent(user_query: str) -> str:\n",
    "    \"\"\"Breaks down a problem into simpler and understandable sub tasks.\"\"\"\n",
    "    user_prompt =  user_query\n",
    "    resp = llm.with_structured_output(MathPlan).invoke(\n",
    "        math_agent_prompt(user_prompt)\n",
    "    )\n",
    "    if resp is None:\n",
    "        raise ValueError(\"Planner did not return a valid response.\")\n",
    "    return resp\n"
   ]
  },
  {
   "cell_type": "code",
   "execution_count": 7,
   "metadata": {},
   "outputs": [],
   "source": [
    "class CodeOutput(TypedDict):\n",
    "    generated_code:Annotated[str, \"This has the generated sympy code\"]\n"
   ]
  },
  {
   "cell_type": "code",
   "execution_count": 17,
   "metadata": {},
   "outputs": [],
   "source": [
    "import sympy"
   ]
  },
  {
   "cell_type": "code",
   "execution_count": 35,
   "metadata": {},
   "outputs": [],
   "source": [
    "def sympy_code_generator_and_executor(query: str) -> dict:\n",
    "    \"\"\"\n",
    "    Solve a mathematical query by generating and executing Sympy code.\n",
    "\n",
    "    - Use this tool only for **numerical problem solving** (e.g., arithmetic, algebra, calculus, roots, equations).\n",
    "    - Do NOT use this tool for conceptual/theoretical explanations.\n",
    "    - The input is a math problem in natural language (string).\n",
    "    - The tool will:\n",
    "        1. Generate Sympy code relevant to the query.\n",
    "        2. Execute the code safely.\n",
    "        3. Return the result.\n",
    "    - The output is always a dictionary with a key \"Final_Result\" containing a strictly **numerical value**.\n",
    "      Example: {\"Final_Result\": 42.5}\n",
    "    \"\"\"\n",
    "    # math_plan = math_agent(query)\n",
    "\n",
    "    # # math_plan = state['math_plan']\n",
    "\n",
    "    code_generation_prompt = sympy_executor_prompt(query)\n",
    "\n",
    "    import re\n",
    "\n",
    "    # Step 1: Generate Sympy code\n",
    "    sympy_code = llm.invoke(code_generation_prompt).content\n",
    "\n",
    "    import json \n",
    "\n",
    "    sympy_code = json.loads(sympy_code)\n",
    "\n",
    "    sympy_code = sympy_code.get('generated_code', \"no code found\")\n",
    "\n",
    "    # Step 2: Clean the code (remove markdown fencing if present)\n",
    "    sympy_code_cleaned = re.sub(r\"^```python\\n|```$\", \"\", sympy_code, flags=re.MULTILINE).strip()\n",
    "\n",
    "    print(\"Generated Sympy Code:\\n\", sympy_code_cleaned)\n",
    "\n",
    "    # Step 3: Execute the generated Sympy code safely\n",
    "    global_vars = {\"sympy\": sympy}\n",
    "    local_vars = {}\n",
    "\n",
    "    try:\n",
    "        exec(sympy_code_cleaned, local_vars)\n",
    "        FINAL_RESULT = local_vars.get(\"final_answer\", \"No result found.\")\n",
    "    except Exception as e:\n",
    "        FINAL_RESULT = f\"Execution Error: {e}\"\n",
    "\n",
    "    print(\"Final Result:\", FINAL_RESULT)\n",
    "\n",
    "    return {\"Final_Result\": FINAL_RESULT}\n"
   ]
  },
  {
   "cell_type": "code",
   "execution_count": 10,
   "metadata": {},
   "outputs": [],
   "source": [
    "resp = math_agent(\" What are the roots of the following parabola: 3x^2 + 4x + 5 ?\")"
   ]
  },
  {
   "cell_type": "code",
   "execution_count": 11,
   "metadata": {},
   "outputs": [
    {
     "data": {
      "text/plain": [
       "MathPlan(problem_understanding='We need to find the two (possibly complex) roots of the quadratic polynomial 3*x**2 + 4*x + 5 = 0.', variables={'a': 'coefficient of x^2, value 3', 'b': 'coefficient of x, value 4', 'c': 'constant term, value 5', 'x': 'unknown variable (root of the quadratic)'}, formula='Quadratic formula: roots of ax^2+bx+c=0 are x = (-b ± sqrt(b^2 - 4ac)) / (2a)', step_by_step_plan=['Introduce a symbolic variable x.', 'Define the coefficients a=3, b=4, c=5.', 'Form the quadratic equation a*x**2 + b*x + c = 0.', \"Use Sympy's solve function (or quadratic_formula) to solve for x.\", 'Simplify the resulting expressions, which will involve complex numbers because the discriminant is negative.'], sympy_mapping=[SympyStep(description='Create symbolic variable for the unknown.', sympy_hint=\"x = symbols('x')\"), SympyStep(description='Assign numeric values to coefficients.', sympy_hint='a, b, c = 3, 4, 5'), SympyStep(description='Construct the equation a*x**2 + b*x + c = 0.', sympy_hint='eq = Eq(a*x**2 + b*x + c, 0)'), SympyStep(description='Solve the equation for x.', sympy_hint='roots = solve(eq, x)'), SympyStep(description='Optionally, simplify or evaluate the roots.', sympy_hint='simplify(roots) or N(roots) for numeric approximation')], next_step='Generate Sympy code to define symbols, construct the quadratic equation, and solve for x using solve or the quadratic formula.')"
      ]
     },
     "execution_count": 11,
     "metadata": {},
     "output_type": "execute_result"
    }
   ],
   "source": [
    "resp "
   ]
  },
  {
   "cell_type": "code",
   "execution_count": 12,
   "metadata": {},
   "outputs": [],
   "source": [
    "str_resp = str(resp)"
   ]
  },
  {
   "cell_type": "code",
   "execution_count": 13,
   "metadata": {},
   "outputs": [
    {
     "data": {
      "text/plain": [
       "'problem_understanding=\\'We need to find the two (possibly complex) roots of the quadratic polynomial 3*x**2 + 4*x + 5 = 0.\\' variables={\\'a\\': \\'coefficient of x^2, value 3\\', \\'b\\': \\'coefficient of x, value 4\\', \\'c\\': \\'constant term, value 5\\', \\'x\\': \\'unknown variable (root of the quadratic)\\'} formula=\\'Quadratic formula: roots of ax^2+bx+c=0 are x = (-b ± sqrt(b^2 - 4ac)) / (2a)\\' step_by_step_plan=[\\'Introduce a symbolic variable x.\\', \\'Define the coefficients a=3, b=4, c=5.\\', \\'Form the quadratic equation a*x**2 + b*x + c = 0.\\', \"Use Sympy\\'s solve function (or quadratic_formula) to solve for x.\", \\'Simplify the resulting expressions, which will involve complex numbers because the discriminant is negative.\\'] sympy_mapping=[SympyStep(description=\\'Create symbolic variable for the unknown.\\', sympy_hint=\"x = symbols(\\'x\\')\"), SympyStep(description=\\'Assign numeric values to coefficients.\\', sympy_hint=\\'a, b, c = 3, 4, 5\\'), SympyStep(description=\\'Construct the equation a*x**2 + b*x + c = 0.\\', sympy_hint=\\'eq = Eq(a*x**2 + b*x + c, 0)\\'), SympyStep(description=\\'Solve the equation for x.\\', sympy_hint=\\'roots = solve(eq, x)\\'), SympyStep(description=\\'Optionally, simplify or evaluate the roots.\\', sympy_hint=\\'simplify(roots) or N(roots) for numeric approximation\\')] next_step=\\'Generate Sympy code to define symbols, construct the quadratic equation, and solve for x using solve or the quadratic formula.\\''"
      ]
     },
     "execution_count": 13,
     "metadata": {},
     "output_type": "execute_result"
    }
   ],
   "source": [
    "str_resp"
   ]
  },
  {
   "cell_type": "code",
   "execution_count": 36,
   "metadata": {},
   "outputs": [
    {
     "name": "stdout",
     "output_type": "stream",
     "text": [
      "Generated Sympy Code:\n",
      " from sympy import symbols, sqrt, Rational, simplify\n",
      "\n",
      "# Define the side length variable\n",
      "s = symbols('s')\n",
      "\n",
      "# Area formula for a regular hexagon: (3*sqrt(3)/2) * side^2\n",
      "area_expr = (3 * sqrt(3) / 2) * s**2\n",
      "\n",
      "# Substitute the given side length (5 cm) into the expression\n",
      "final_answer = area_expr.subs(s, 5)\n",
      "Final Result: 75*sqrt(3)/2\n"
     ]
    }
   ],
   "source": [
    "resp_code = sympy_code_generator_and_executor(\" What is the area of a hexagon with side 5 cm\")"
   ]
  },
  {
   "cell_type": "code",
   "execution_count": 33,
   "metadata": {},
   "outputs": [
    {
     "name": "stdout",
     "output_type": "stream",
     "text": [
      "Generated Sympy Code:\n",
      " from sympy import sqrt, N\n",
      "\n",
      "# Define the expression\n",
      "expr = 75 * sqrt(3) / 2\n",
      "\n",
      "# Compute its numerical (floating‑point) value\n",
      "final_answer = N(expr)\n",
      "Final Result: 64.9519052838329\n"
     ]
    }
   ],
   "source": [
    "resp_code = sympy_code_generator_and_executor(\" solve 75*sqrt(3)/2 to get a numerical value\")"
   ]
  },
  {
   "cell_type": "code",
   "execution_count": 23,
   "metadata": {},
   "outputs": [],
   "source": [
    "from sympy import symbols, sqrt"
   ]
  },
  {
   "cell_type": "code",
   "execution_count": 24,
   "metadata": {},
   "outputs": [],
   "source": [
    "# Define the constant\n",
    "n = 9843765983475\n",
    "\n",
    "# Compute the square root\n",
    "final_answer = sqrt(n)"
   ]
  },
  {
   "cell_type": "code",
   "execution_count": 26,
   "metadata": {},
   "outputs": [
    {
     "data": {
      "text/latex": [
       "$\\displaystyle 3137477.6466893$"
      ],
      "text/plain": [
       "3137477.64668930"
      ]
     },
     "execution_count": 26,
     "metadata": {},
     "output_type": "execute_result"
    }
   ],
   "source": [
    "final_answer.evalf()"
   ]
  },
  {
   "cell_type": "code",
   "execution_count": 32,
   "metadata": {},
   "outputs": [],
   "source": [
    "graph_builder = StateGraph(dict)\n",
    "\n",
    "graph_builder.add_node(\"math_test\", sympy_code_generator_and_executor)\n",
    "\n",
    "graph_builder.add_edge(START, \"math_test\")\n",
    "\n",
    "graph_builder.add_edge(\"math_test\", END)\n",
    "\n",
    "graph = graph_builder.compile()"
   ]
  },
  {
   "cell_type": "code",
   "execution_count": 33,
   "metadata": {},
   "outputs": [
    {
     "data": {
      "image/png": "[encoded data removed]",
      "text/plain": [
       "<IPython.core.display.Image object>"
      ]
     },
     "metadata": {},
     "output_type": "display_data"
    }
   ],
   "source": [
    "## Visualize the graph\n",
    "from IPython.display import Image,display\n",
    "\n",
    "try:\n",
    "    display(Image(graph.get_graph().draw_mermaid_png()))\n",
    "except Exception:\n",
    "    pass"
   ]
  },
  {
   "cell_type": "code",
   "execution_count": 34,
   "metadata": {},
   "outputs": [
    {
     "ename": "BadRequestError",
     "evalue": "Error code: 400 - {'error': {'message': 'Tool choice is required, but model did not call a tool', 'type': 'invalid_request_error', 'code': 'tool_use_failed', 'failed_generation': '**1. Problem Understanding**  \\nWe need to determine the (principal) square root of the integer\\u202f9843765983475. The task is to obtain either an exact symbolic form\\u202f√9843765983475\\u202for a numerical approximation (e.g., decimal) if the number is not a perfect square.\\n\\n---\\n\\n**2. Variables**  \\n\\n| Symbol | Description | Type |\\n|--------|-------------|------|\\n|\\u202fN\\u202f|The given integer\\u202f9843765983475 | known constant |\\n|\\u202fr\\u202f|The principal square root of\\u202fN\\u202f| unknown (to be found) |\\n\\n---\\n\\n**3. Relevant Concept/Formula**  \\n\\n- **Square‑root definition**:\\u202f\\\\(r = \\\\sqrt{N}\\\\).  \\n- If\\u202fN\\u202fis not a perfect square, the result is an irrational number; we can express it as `sqrt(N)` symbolically or evaluate it numerically with a desired precision.  \\n- **Sympy functions**: `sqrt` for the exact radical, `N` (or `evalf`) for a numeric approximation, and optionally `is_square` to test whether\\u202fN\\u202fis a perfect square.\\n\\n---\\n\\n**4. Step‑by‑Step Plan**  \\n\\n1. **Create the integer**\\u202fN\\u202fin Sympy.  \\n2. **Check perfect‑square status** (optional): use `N.is_square` to see if an integer square root exists.  \\n3. **Form the radical**: construct the symbolic expression `sqrt(N)`.  \\n4. **If a numeric answer is required**, evaluate the radical to a chosen number of decimal places using `N(expr, prec)` or `expr.evalf(prec)`.  \\n5. **Return** either the exact symbolic radical (if the problem only asks for “the square root”) or the numeric approximation (if a decimal answer is desired).\\n\\n---\\n\\n**5. Sympy Mapping**  \\n\\n| Step | Sympy construct / function | How it is used (plain‑language description) |\\n|------|---------------------------|---------------------------------------------|\\n| 1. Define N | `N = Integer(9843765983475)` | Store the given integer as a Sympy `Integer`. |\\n| 2. Test perfect square (optional) | `N.is_square` | Returns `True` if N = k² for some integer k; otherwise `False`. |\\n| 3. Symbolic square root | `r = sqrt(N)` | Creates the exact radical expression √9843765983475. |\\n| 4. Numeric approximation | `r_numeric = r.evalf(20)` (or `N(r, 20)`) | Computes a decimal approximation of the root with, e.g., 20 significant digits. |\\n| 5. Output | `r` (symbolic) or `r_numeric` (numeric) | Provide the final answer in the requested form. |\\n\\n---\\n\\n**6. Next Step**  \\nAnother agent should now generate the Sympy code following the mapping above, execute it, and return either the exact expression\\u202f√9843765983475\\u202for its numeric approximation (to a reasonable precision).'}}",
     "output_type": "error",
     "traceback": [
      "\u001b[31m---------------------------------------------------------------------------\u001b[39m",
      "\u001b[31mBadRequestError\u001b[39m                           Traceback (most recent call last)",
      "\u001b[36mCell\u001b[39m\u001b[36m \u001b[39m\u001b[32mIn[34]\u001b[39m\u001b[32m, line 1\u001b[39m\n\u001b[32m----> \u001b[39m\u001b[32m1\u001b[39m response = \u001b[43mgraph\u001b[49m\u001b[43m.\u001b[49m\u001b[43minvoke\u001b[49m\u001b[43m(\u001b[49m\u001b[43m{\u001b[49m\u001b[33;43m\"\u001b[39;49m\u001b[33;43muser_prompt\u001b[39;49m\u001b[33;43m\"\u001b[39;49m\u001b[43m:\u001b[49m\u001b[43m \u001b[49m\u001b[33;43m\"\u001b[39;49m\u001b[33;43mWhat is the square root of 9843765983475 ?\u001b[39;49m\u001b[33;43m\"\u001b[39;49m\u001b[43m}\u001b[49m\u001b[43m)\u001b[49m\n",
      "\u001b[36mFile \u001b[39m\u001b[32m~/Desktop/HighSchool_Helper/.venv/lib/python3.13/site-packages/langgraph/pregel/main.py:3026\u001b[39m, in \u001b[36mPregel.invoke\u001b[39m\u001b[34m(self, input, config, context, stream_mode, print_mode, output_keys, interrupt_before, interrupt_after, durability, **kwargs)\u001b[39m\n\u001b[32m   3023\u001b[39m chunks: \u001b[38;5;28mlist\u001b[39m[\u001b[38;5;28mdict\u001b[39m[\u001b[38;5;28mstr\u001b[39m, Any] | Any] = []\n\u001b[32m   3024\u001b[39m interrupts: \u001b[38;5;28mlist\u001b[39m[Interrupt] = []\n\u001b[32m-> \u001b[39m\u001b[32m3026\u001b[39m \u001b[43m\u001b[49m\u001b[38;5;28;43;01mfor\u001b[39;49;00m\u001b[43m \u001b[49m\u001b[43mchunk\u001b[49m\u001b[43m \u001b[49m\u001b[38;5;129;43;01min\u001b[39;49;00m\u001b[43m \u001b[49m\u001b[38;5;28;43mself\u001b[39;49m\u001b[43m.\u001b[49m\u001b[43mstream\u001b[49m\u001b[43m(\u001b[49m\n\u001b[32m   3027\u001b[39m \u001b[43m    \u001b[49m\u001b[38;5;28;43minput\u001b[39;49m\u001b[43m,\u001b[49m\n\u001b[32m   3028\u001b[39m \u001b[43m    \u001b[49m\u001b[43mconfig\u001b[49m\u001b[43m,\u001b[49m\n\u001b[32m   3029\u001b[39m \u001b[43m    \u001b[49m\u001b[43mcontext\u001b[49m\u001b[43m=\u001b[49m\u001b[43mcontext\u001b[49m\u001b[43m,\u001b[49m\n\u001b[32m   3030\u001b[39m \u001b[43m    \u001b[49m\u001b[43mstream_mode\u001b[49m\u001b[43m=\u001b[49m\u001b[43m[\u001b[49m\u001b[33;43m\"\u001b[39;49m\u001b[33;43mupdates\u001b[39;49m\u001b[33;43m\"\u001b[39;49m\u001b[43m,\u001b[49m\u001b[43m \u001b[49m\u001b[33;43m\"\u001b[39;49m\u001b[33;43mvalues\u001b[39;49m\u001b[33;43m\"\u001b[39;49m\u001b[43m]\u001b[49m\n\u001b[32m   3031\u001b[39m \u001b[43m    \u001b[49m\u001b[38;5;28;43;01mif\u001b[39;49;00m\u001b[43m \u001b[49m\u001b[43mstream_mode\u001b[49m\u001b[43m \u001b[49m\u001b[43m==\u001b[49m\u001b[43m \u001b[49m\u001b[33;43m\"\u001b[39;49m\u001b[33;43mvalues\u001b[39;49m\u001b[33;43m\"\u001b[39;49m\n\u001b[32m   3032\u001b[39m \u001b[43m    \u001b[49m\u001b[38;5;28;43;01melse\u001b[39;49;00m\u001b[43m \u001b[49m\u001b[43mstream_mode\u001b[49m\u001b[43m,\u001b[49m\n\u001b[32m   3033\u001b[39m \u001b[43m    \u001b[49m\u001b[43mprint_mode\u001b[49m\u001b[43m=\u001b[49m\u001b[43mprint_mode\u001b[49m\u001b[43m,\u001b[49m\n\u001b[32m   3034\u001b[39m \u001b[43m    \u001b[49m\u001b[43moutput_keys\u001b[49m\u001b[43m=\u001b[49m\u001b[43moutput_keys\u001b[49m\u001b[43m,\u001b[49m\n\u001b[32m   3035\u001b[39m \u001b[43m    \u001b[49m\u001b[43minterrupt_before\u001b[49m\u001b[43m=\u001b[49m\u001b[43minterrupt_before\u001b[49m\u001b[43m,\u001b[49m\n\u001b[32m   3036\u001b[39m \u001b[43m    \u001b[49m\u001b[43minterrupt_after\u001b[49m\u001b[43m=\u001b[49m\u001b[43minterrupt_after\u001b[49m\u001b[43m,\u001b[49m\n\u001b[32m   3037\u001b[39m \u001b[43m    \u001b[49m\u001b[43mdurability\u001b[49m\u001b[43m=\u001b[49m\u001b[43mdurability\u001b[49m\u001b[43m,\u001b[49m\n\u001b[32m   3038\u001b[39m \u001b[43m    \u001b[49m\u001b[43m*\u001b[49m\u001b[43m*\u001b[49m\u001b[43mkwargs\u001b[49m\u001b[43m,\u001b[49m\n\u001b[32m   3039\u001b[39m \u001b[43m\u001b[49m\u001b[43m)\u001b[49m\u001b[43m:\u001b[49m\n\u001b[32m   3040\u001b[39m \u001b[43m    \u001b[49m\u001b[38;5;28;43;01mif\u001b[39;49;00m\u001b[43m \u001b[49m\u001b[43mstream_mode\u001b[49m\u001b[43m \u001b[49m\u001b[43m==\u001b[49m\u001b[43m \u001b[49m\u001b[33;43m\"\u001b[39;49m\u001b[33;43mvalues\u001b[39;49m\u001b[33;43m\"\u001b[39;49m\u001b[43m:\u001b[49m\n\u001b[32m   3041\u001b[39m \u001b[43m        \u001b[49m\u001b[38;5;28;43;01mif\u001b[39;49;00m\u001b[43m \u001b[49m\u001b[38;5;28;43mlen\u001b[39;49m\u001b[43m(\u001b[49m\u001b[43mchunk\u001b[49m\u001b[43m)\u001b[49m\u001b[43m \u001b[49m\u001b[43m==\u001b[49m\u001b[43m \u001b[49m\u001b[32;43m2\u001b[39;49m\u001b[43m:\u001b[49m\n",
      "\u001b[36mFile \u001b[39m\u001b[32m~/Desktop/HighSchool_Helper/.venv/lib/python3.13/site-packages/langgraph/pregel/main.py:2647\u001b[39m, in \u001b[36mPregel.stream\u001b[39m\u001b[34m(self, input, config, context, stream_mode, print_mode, output_keys, interrupt_before, interrupt_after, durability, subgraphs, debug, **kwargs)\u001b[39m\n\u001b[32m   2645\u001b[39m \u001b[38;5;28;01mfor\u001b[39;00m task \u001b[38;5;129;01min\u001b[39;00m loop.match_cached_writes():\n\u001b[32m   2646\u001b[39m     loop.output_writes(task.id, task.writes, cached=\u001b[38;5;28;01mTrue\u001b[39;00m)\n\u001b[32m-> \u001b[39m\u001b[32m2647\u001b[39m \u001b[43m\u001b[49m\u001b[38;5;28;43;01mfor\u001b[39;49;00m\u001b[43m \u001b[49m\u001b[43m_\u001b[49m\u001b[43m \u001b[49m\u001b[38;5;129;43;01min\u001b[39;49;00m\u001b[43m \u001b[49m\u001b[43mrunner\u001b[49m\u001b[43m.\u001b[49m\u001b[43mtick\u001b[49m\u001b[43m(\u001b[49m\n\u001b[32m   2648\u001b[39m \u001b[43m    \u001b[49m\u001b[43m[\u001b[49m\u001b[43mt\u001b[49m\u001b[43m \u001b[49m\u001b[38;5;28;43;01mfor\u001b[39;49;00m\u001b[43m \u001b[49m\u001b[43mt\u001b[49m\u001b[43m \u001b[49m\u001b[38;5;129;43;01min\u001b[39;49;00m\u001b[43m \u001b[49m\u001b[43mloop\u001b[49m\u001b[43m.\u001b[49m\u001b[43mtasks\u001b[49m\u001b[43m.\u001b[49m\u001b[43mvalues\u001b[49m\u001b[43m(\u001b[49m\u001b[43m)\u001b[49m\u001b[43m \u001b[49m\u001b[38;5;28;43;01mif\u001b[39;49;00m\u001b[43m \u001b[49m\u001b[38;5;129;43;01mnot\u001b[39;49;00m\u001b[43m \u001b[49m\u001b[43mt\u001b[49m\u001b[43m.\u001b[49m\u001b[43mwrites\u001b[49m\u001b[43m]\u001b[49m\u001b[43m,\u001b[49m\n\u001b[32m   2649\u001b[39m \u001b[43m    \u001b[49m\u001b[43mtimeout\u001b[49m\u001b[43m=\u001b[49m\u001b[38;5;28;43mself\u001b[39;49m\u001b[43m.\u001b[49m\u001b[43mstep_timeout\u001b[49m\u001b[43m,\u001b[49m\n\u001b[32m   2650\u001b[39m \u001b[43m    \u001b[49m\u001b[43mget_waiter\u001b[49m\u001b[43m=\u001b[49m\u001b[43mget_waiter\u001b[49m\u001b[43m,\u001b[49m\n\u001b[32m   2651\u001b[39m \u001b[43m    \u001b[49m\u001b[43mschedule_task\u001b[49m\u001b[43m=\u001b[49m\u001b[43mloop\u001b[49m\u001b[43m.\u001b[49m\u001b[43maccept_push\u001b[49m\u001b[43m,\u001b[49m\n\u001b[32m   2652\u001b[39m \u001b[43m\u001b[49m\u001b[43m)\u001b[49m\u001b[43m:\u001b[49m\n\u001b[32m   2653\u001b[39m \u001b[43m    \u001b[49m\u001b[38;5;66;43;03m# emit output\u001b[39;49;00m\n\u001b[32m   2654\u001b[39m \u001b[43m    \u001b[49m\u001b[38;5;28;43;01myield from\u001b[39;49;00m\u001b[43m \u001b[49m\u001b[43m_output\u001b[49m\u001b[43m(\u001b[49m\n\u001b[32m   2655\u001b[39m \u001b[43m        \u001b[49m\u001b[43mstream_mode\u001b[49m\u001b[43m,\u001b[49m\u001b[43m \u001b[49m\u001b[43mprint_mode\u001b[49m\u001b[43m,\u001b[49m\u001b[43m \u001b[49m\u001b[43msubgraphs\u001b[49m\u001b[43m,\u001b[49m\u001b[43m \u001b[49m\u001b[43mstream\u001b[49m\u001b[43m.\u001b[49m\u001b[43mget\u001b[49m\u001b[43m,\u001b[49m\u001b[43m \u001b[49m\u001b[43mqueue\u001b[49m\u001b[43m.\u001b[49m\u001b[43mEmpty\u001b[49m\n\u001b[32m   2656\u001b[39m \u001b[43m    \u001b[49m\u001b[43m)\u001b[49m\n\u001b[32m   2657\u001b[39m loop.after_tick()\n",
      "\u001b[36mFile \u001b[39m\u001b[32m~/Desktop/HighSchool_Helper/.venv/lib/python3.13/site-packages/langgraph/pregel/_runner.py:162\u001b[39m, in \u001b[36mPregelRunner.tick\u001b[39m\u001b[34m(self, tasks, reraise, timeout, retry_policy, get_waiter, schedule_task)\u001b[39m\n\u001b[32m    160\u001b[39m t = tasks[\u001b[32m0\u001b[39m]\n\u001b[32m    161\u001b[39m \u001b[38;5;28;01mtry\u001b[39;00m:\n\u001b[32m--> \u001b[39m\u001b[32m162\u001b[39m     \u001b[43mrun_with_retry\u001b[49m\u001b[43m(\u001b[49m\n\u001b[32m    163\u001b[39m \u001b[43m        \u001b[49m\u001b[43mt\u001b[49m\u001b[43m,\u001b[49m\n\u001b[32m    164\u001b[39m \u001b[43m        \u001b[49m\u001b[43mretry_policy\u001b[49m\u001b[43m,\u001b[49m\n\u001b[32m    165\u001b[39m \u001b[43m        \u001b[49m\u001b[43mconfigurable\u001b[49m\u001b[43m=\u001b[49m\u001b[43m{\u001b[49m\n\u001b[32m    166\u001b[39m \u001b[43m            \u001b[49m\u001b[43mCONFIG_KEY_CALL\u001b[49m\u001b[43m:\u001b[49m\u001b[43m \u001b[49m\u001b[43mpartial\u001b[49m\u001b[43m(\u001b[49m\n\u001b[32m    167\u001b[39m \u001b[43m                \u001b[49m\u001b[43m_call\u001b[49m\u001b[43m,\u001b[49m\n\u001b[32m    168\u001b[39m \u001b[43m                \u001b[49m\u001b[43mweakref\u001b[49m\u001b[43m.\u001b[49m\u001b[43mref\u001b[49m\u001b[43m(\u001b[49m\u001b[43mt\u001b[49m\u001b[43m)\u001b[49m\u001b[43m,\u001b[49m\n\u001b[32m    169\u001b[39m \u001b[43m                \u001b[49m\u001b[43mretry_policy\u001b[49m\u001b[43m=\u001b[49m\u001b[43mretry_policy\u001b[49m\u001b[43m,\u001b[49m\n\u001b[32m    170\u001b[39m \u001b[43m                \u001b[49m\u001b[43mfutures\u001b[49m\u001b[43m=\u001b[49m\u001b[43mweakref\u001b[49m\u001b[43m.\u001b[49m\u001b[43mref\u001b[49m\u001b[43m(\u001b[49m\u001b[43mfutures\u001b[49m\u001b[43m)\u001b[49m\u001b[43m,\u001b[49m\n\u001b[32m    171\u001b[39m \u001b[43m                \u001b[49m\u001b[43mschedule_task\u001b[49m\u001b[43m=\u001b[49m\u001b[43mschedule_task\u001b[49m\u001b[43m,\u001b[49m\n\u001b[32m    172\u001b[39m \u001b[43m                \u001b[49m\u001b[43msubmit\u001b[49m\u001b[43m=\u001b[49m\u001b[38;5;28;43mself\u001b[39;49m\u001b[43m.\u001b[49m\u001b[43msubmit\u001b[49m\u001b[43m,\u001b[49m\n\u001b[32m    173\u001b[39m \u001b[43m            \u001b[49m\u001b[43m)\u001b[49m\u001b[43m,\u001b[49m\n\u001b[32m    174\u001b[39m \u001b[43m        \u001b[49m\u001b[43m}\u001b[49m\u001b[43m,\u001b[49m\n\u001b[32m    175\u001b[39m \u001b[43m    \u001b[49m\u001b[43m)\u001b[49m\n\u001b[32m    176\u001b[39m     \u001b[38;5;28mself\u001b[39m.commit(t, \u001b[38;5;28;01mNone\u001b[39;00m)\n\u001b[32m    177\u001b[39m \u001b[38;5;28;01mexcept\u001b[39;00m \u001b[38;5;167;01mException\u001b[39;00m \u001b[38;5;28;01mas\u001b[39;00m exc:\n",
      "\u001b[36mFile \u001b[39m\u001b[32m~/Desktop/HighSchool_Helper/.venv/lib/python3.13/site-packages/langgraph/pregel/_retry.py:42\u001b[39m, in \u001b[36mrun_with_retry\u001b[39m\u001b[34m(task, retry_policy, configurable)\u001b[39m\n\u001b[32m     40\u001b[39m     task.writes.clear()\n\u001b[32m     41\u001b[39m     \u001b[38;5;66;03m# run the task\u001b[39;00m\n\u001b[32m---> \u001b[39m\u001b[32m42\u001b[39m     \u001b[38;5;28;01mreturn\u001b[39;00m \u001b[43mtask\u001b[49m\u001b[43m.\u001b[49m\u001b[43mproc\u001b[49m\u001b[43m.\u001b[49m\u001b[43minvoke\u001b[49m\u001b[43m(\u001b[49m\u001b[43mtask\u001b[49m\u001b[43m.\u001b[49m\u001b[43minput\u001b[49m\u001b[43m,\u001b[49m\u001b[43m \u001b[49m\u001b[43mconfig\u001b[49m\u001b[43m)\u001b[49m\n\u001b[32m     43\u001b[39m \u001b[38;5;28;01mexcept\u001b[39;00m ParentCommand \u001b[38;5;28;01mas\u001b[39;00m exc:\n\u001b[32m     44\u001b[39m     ns: \u001b[38;5;28mstr\u001b[39m = config[CONF][CONFIG_KEY_CHECKPOINT_NS]\n",
      "\u001b[36mFile \u001b[39m\u001b[32m~/Desktop/HighSchool_Helper/.venv/lib/python3.13/site-packages/langgraph/_internal/_runnable.py:657\u001b[39m, in \u001b[36mRunnableSeq.invoke\u001b[39m\u001b[34m(self, input, config, **kwargs)\u001b[39m\n\u001b[32m    655\u001b[39m     \u001b[38;5;66;03m# run in context\u001b[39;00m\n\u001b[32m    656\u001b[39m     \u001b[38;5;28;01mwith\u001b[39;00m set_config_context(config, run) \u001b[38;5;28;01mas\u001b[39;00m context:\n\u001b[32m--> \u001b[39m\u001b[32m657\u001b[39m         \u001b[38;5;28minput\u001b[39m = \u001b[43mcontext\u001b[49m\u001b[43m.\u001b[49m\u001b[43mrun\u001b[49m\u001b[43m(\u001b[49m\u001b[43mstep\u001b[49m\u001b[43m.\u001b[49m\u001b[43minvoke\u001b[49m\u001b[43m,\u001b[49m\u001b[43m \u001b[49m\u001b[38;5;28;43minput\u001b[39;49m\u001b[43m,\u001b[49m\u001b[43m \u001b[49m\u001b[43mconfig\u001b[49m\u001b[43m,\u001b[49m\u001b[43m \u001b[49m\u001b[43m*\u001b[49m\u001b[43m*\u001b[49m\u001b[43mkwargs\u001b[49m\u001b[43m)\u001b[49m\n\u001b[32m    658\u001b[39m \u001b[38;5;28;01melse\u001b[39;00m:\n\u001b[32m    659\u001b[39m     \u001b[38;5;28minput\u001b[39m = step.invoke(\u001b[38;5;28minput\u001b[39m, config)\n",
      "\u001b[36mFile \u001b[39m\u001b[32m~/Desktop/HighSchool_Helper/.venv/lib/python3.13/site-packages/langgraph/_internal/_runnable.py:401\u001b[39m, in \u001b[36mRunnableCallable.invoke\u001b[39m\u001b[34m(self, input, config, **kwargs)\u001b[39m\n\u001b[32m    399\u001b[39m         run_manager.on_chain_end(ret)\n\u001b[32m    400\u001b[39m \u001b[38;5;28;01melse\u001b[39;00m:\n\u001b[32m--> \u001b[39m\u001b[32m401\u001b[39m     ret = \u001b[38;5;28;43mself\u001b[39;49m\u001b[43m.\u001b[49m\u001b[43mfunc\u001b[49m\u001b[43m(\u001b[49m\u001b[43m*\u001b[49m\u001b[43margs\u001b[49m\u001b[43m,\u001b[49m\u001b[43m \u001b[49m\u001b[43m*\u001b[49m\u001b[43m*\u001b[49m\u001b[43mkwargs\u001b[49m\u001b[43m)\u001b[49m\n\u001b[32m    402\u001b[39m \u001b[38;5;28;01mif\u001b[39;00m \u001b[38;5;28mself\u001b[39m.recurse \u001b[38;5;129;01mand\u001b[39;00m \u001b[38;5;28misinstance\u001b[39m(ret, Runnable):\n\u001b[32m    403\u001b[39m     \u001b[38;5;28;01mreturn\u001b[39;00m ret.invoke(\u001b[38;5;28minput\u001b[39m, config)\n",
      "\u001b[36mCell\u001b[39m\u001b[36m \u001b[39m\u001b[32mIn[31]\u001b[39m\u001b[32m, line 6\u001b[39m, in \u001b[36msympy_code_generator_and_executor\u001b[39m\u001b[34m(state)\u001b[39m\n\u001b[32m      1\u001b[39m \u001b[38;5;28;01mdef\u001b[39;00m\u001b[38;5;250m \u001b[39m\u001b[34msympy_code_generator_and_executor\u001b[39m(state: \u001b[38;5;28mdict\u001b[39m) -> \u001b[38;5;28mdict\u001b[39m:\n\u001b[32m      2\u001b[39m \u001b[38;5;250m    \u001b[39m\u001b[33;03m\"\"\"\u001b[39;00m\n\u001b[32m      3\u001b[39m \u001b[33;03m    This is used to execute sympy code by generatinf relevat code to the query\u001b[39;00m\n\u001b[32m      4\u001b[39m \u001b[33;03m    and executes it to get the final asnwer \u001b[39;00m\n\u001b[32m      5\u001b[39m \u001b[33;03m    \"\"\"\u001b[39;00m\n\u001b[32m----> \u001b[39m\u001b[32m6\u001b[39m     state[\u001b[33m'\u001b[39m\u001b[33mmath_plan\u001b[39m\u001b[33m'\u001b[39m] = \u001b[43mmath_agent\u001b[49m\u001b[43m(\u001b[49m\u001b[43mstate\u001b[49m\u001b[43m)\u001b[49m\n\u001b[32m      8\u001b[39m     math_plan = state[\u001b[33m'\u001b[39m\u001b[33mmath_plan\u001b[39m\u001b[33m'\u001b[39m]\n\u001b[32m     10\u001b[39m     code_generation_prompt = sympy_executor_prompt(math_plan)\n",
      "\u001b[36mCell\u001b[39m\u001b[36m \u001b[39m\u001b[32mIn[8]\u001b[39m\u001b[32m, line 4\u001b[39m, in \u001b[36mmath_agent\u001b[39m\u001b[34m(state)\u001b[39m\n\u001b[32m      2\u001b[39m \u001b[38;5;250m\u001b[39m\u001b[33;03m\"\"\"Breaks down a problem into simpler and understandable sub tasks.\"\"\"\u001b[39;00m\n\u001b[32m      3\u001b[39m user_prompt = state[\u001b[33m\"\u001b[39m\u001b[33muser_prompt\u001b[39m\u001b[33m\"\u001b[39m]\n\u001b[32m----> \u001b[39m\u001b[32m4\u001b[39m resp = \u001b[43mllm\u001b[49m\u001b[43m.\u001b[49m\u001b[43mwith_structured_output\u001b[49m\u001b[43m(\u001b[49m\u001b[43mMathPlan\u001b[49m\u001b[43m)\u001b[49m\u001b[43m.\u001b[49m\u001b[43minvoke\u001b[49m\u001b[43m(\u001b[49m\n\u001b[32m      5\u001b[39m \u001b[43m    \u001b[49m\u001b[43mmath_agent_prompt\u001b[49m\u001b[43m(\u001b[49m\u001b[43muser_prompt\u001b[49m\u001b[43m)\u001b[49m\n\u001b[32m      6\u001b[39m \u001b[43m\u001b[49m\u001b[43m)\u001b[49m\n\u001b[32m      7\u001b[39m \u001b[38;5;28;01mif\u001b[39;00m resp \u001b[38;5;129;01mis\u001b[39;00m \u001b[38;5;28;01mNone\u001b[39;00m:\n\u001b[32m      8\u001b[39m     \u001b[38;5;28;01mraise\u001b[39;00m \u001b[38;5;167;01mValueError\u001b[39;00m(\u001b[33m\"\u001b[39m\u001b[33mPlanner did not return a valid response.\u001b[39m\u001b[33m\"\u001b[39m)\n",
      "\u001b[36mFile \u001b[39m\u001b[32m~/Desktop/HighSchool_Helper/.venv/lib/python3.13/site-packages/langchain_core/runnables/base.py:3080\u001b[39m, in \u001b[36mRunnableSequence.invoke\u001b[39m\u001b[34m(self, input, config, **kwargs)\u001b[39m\n\u001b[32m   3078\u001b[39m \u001b[38;5;28;01mwith\u001b[39;00m set_config_context(config) \u001b[38;5;28;01mas\u001b[39;00m context:\n\u001b[32m   3079\u001b[39m     \u001b[38;5;28;01mif\u001b[39;00m i == \u001b[32m0\u001b[39m:\n\u001b[32m-> \u001b[39m\u001b[32m3080\u001b[39m         input_ = \u001b[43mcontext\u001b[49m\u001b[43m.\u001b[49m\u001b[43mrun\u001b[49m\u001b[43m(\u001b[49m\u001b[43mstep\u001b[49m\u001b[43m.\u001b[49m\u001b[43minvoke\u001b[49m\u001b[43m,\u001b[49m\u001b[43m \u001b[49m\u001b[43minput_\u001b[49m\u001b[43m,\u001b[49m\u001b[43m \u001b[49m\u001b[43mconfig\u001b[49m\u001b[43m,\u001b[49m\u001b[43m \u001b[49m\u001b[43m*\u001b[49m\u001b[43m*\u001b[49m\u001b[43mkwargs\u001b[49m\u001b[43m)\u001b[49m\n\u001b[32m   3081\u001b[39m     \u001b[38;5;28;01melse\u001b[39;00m:\n\u001b[32m   3082\u001b[39m         input_ = context.run(step.invoke, input_, config)\n",
      "\u001b[36mFile \u001b[39m\u001b[32m~/Desktop/HighSchool_Helper/.venv/lib/python3.13/site-packages/langchain_core/runnables/base.py:5495\u001b[39m, in \u001b[36mRunnableBindingBase.invoke\u001b[39m\u001b[34m(self, input, config, **kwargs)\u001b[39m\n\u001b[32m   5488\u001b[39m \u001b[38;5;129m@override\u001b[39m\n\u001b[32m   5489\u001b[39m \u001b[38;5;28;01mdef\u001b[39;00m\u001b[38;5;250m \u001b[39m\u001b[34minvoke\u001b[39m(\n\u001b[32m   5490\u001b[39m     \u001b[38;5;28mself\u001b[39m,\n\u001b[32m   (...)\u001b[39m\u001b[32m   5493\u001b[39m     **kwargs: Optional[Any],\n\u001b[32m   5494\u001b[39m ) -> Output:\n\u001b[32m-> \u001b[39m\u001b[32m5495\u001b[39m     \u001b[38;5;28;01mreturn\u001b[39;00m \u001b[38;5;28;43mself\u001b[39;49m\u001b[43m.\u001b[49m\u001b[43mbound\u001b[49m\u001b[43m.\u001b[49m\u001b[43minvoke\u001b[49m\u001b[43m(\u001b[49m\n\u001b[32m   5496\u001b[39m \u001b[43m        \u001b[49m\u001b[38;5;28;43minput\u001b[39;49m\u001b[43m,\u001b[49m\n\u001b[32m   5497\u001b[39m \u001b[43m        \u001b[49m\u001b[38;5;28;43mself\u001b[39;49m\u001b[43m.\u001b[49m\u001b[43m_merge_configs\u001b[49m\u001b[43m(\u001b[49m\u001b[43mconfig\u001b[49m\u001b[43m)\u001b[49m\u001b[43m,\u001b[49m\n\u001b[32m   5498\u001b[39m \u001b[43m        \u001b[49m\u001b[43m*\u001b[49m\u001b[43m*\u001b[49m\u001b[43m{\u001b[49m\u001b[43m*\u001b[49m\u001b[43m*\u001b[49m\u001b[38;5;28;43mself\u001b[39;49m\u001b[43m.\u001b[49m\u001b[43mkwargs\u001b[49m\u001b[43m,\u001b[49m\u001b[43m \u001b[49m\u001b[43m*\u001b[49m\u001b[43m*\u001b[49m\u001b[43mkwargs\u001b[49m\u001b[43m}\u001b[49m\u001b[43m,\u001b[49m\n\u001b[32m   5499\u001b[39m \u001b[43m    \u001b[49m\u001b[43m)\u001b[49m\n",
      "\u001b[36mFile \u001b[39m\u001b[32m~/Desktop/HighSchool_Helper/.venv/lib/python3.13/site-packages/langchain_core/language_models/chat_models.py:393\u001b[39m, in \u001b[36mBaseChatModel.invoke\u001b[39m\u001b[34m(self, input, config, stop, **kwargs)\u001b[39m\n\u001b[32m    381\u001b[39m \u001b[38;5;129m@override\u001b[39m\n\u001b[32m    382\u001b[39m \u001b[38;5;28;01mdef\u001b[39;00m\u001b[38;5;250m \u001b[39m\u001b[34minvoke\u001b[39m(\n\u001b[32m    383\u001b[39m     \u001b[38;5;28mself\u001b[39m,\n\u001b[32m   (...)\u001b[39m\u001b[32m    388\u001b[39m     **kwargs: Any,\n\u001b[32m    389\u001b[39m ) -> BaseMessage:\n\u001b[32m    390\u001b[39m     config = ensure_config(config)\n\u001b[32m    391\u001b[39m     \u001b[38;5;28;01mreturn\u001b[39;00m cast(\n\u001b[32m    392\u001b[39m         \u001b[33m\"\u001b[39m\u001b[33mChatGeneration\u001b[39m\u001b[33m\"\u001b[39m,\n\u001b[32m--> \u001b[39m\u001b[32m393\u001b[39m         \u001b[38;5;28;43mself\u001b[39;49m\u001b[43m.\u001b[49m\u001b[43mgenerate_prompt\u001b[49m\u001b[43m(\u001b[49m\n\u001b[32m    394\u001b[39m \u001b[43m            \u001b[49m\u001b[43m[\u001b[49m\u001b[38;5;28;43mself\u001b[39;49m\u001b[43m.\u001b[49m\u001b[43m_convert_input\u001b[49m\u001b[43m(\u001b[49m\u001b[38;5;28;43minput\u001b[39;49m\u001b[43m)\u001b[49m\u001b[43m]\u001b[49m\u001b[43m,\u001b[49m\n\u001b[32m    395\u001b[39m \u001b[43m            \u001b[49m\u001b[43mstop\u001b[49m\u001b[43m=\u001b[49m\u001b[43mstop\u001b[49m\u001b[43m,\u001b[49m\n\u001b[32m    396\u001b[39m \u001b[43m            \u001b[49m\u001b[43mcallbacks\u001b[49m\u001b[43m=\u001b[49m\u001b[43mconfig\u001b[49m\u001b[43m.\u001b[49m\u001b[43mget\u001b[49m\u001b[43m(\u001b[49m\u001b[33;43m\"\u001b[39;49m\u001b[33;43mcallbacks\u001b[39;49m\u001b[33;43m\"\u001b[39;49m\u001b[43m)\u001b[49m\u001b[43m,\u001b[49m\n\u001b[32m    397\u001b[39m \u001b[43m            \u001b[49m\u001b[43mtags\u001b[49m\u001b[43m=\u001b[49m\u001b[43mconfig\u001b[49m\u001b[43m.\u001b[49m\u001b[43mget\u001b[49m\u001b[43m(\u001b[49m\u001b[33;43m\"\u001b[39;49m\u001b[33;43mtags\u001b[39;49m\u001b[33;43m\"\u001b[39;49m\u001b[43m)\u001b[49m\u001b[43m,\u001b[49m\n\u001b[32m    398\u001b[39m \u001b[43m            \u001b[49m\u001b[43mmetadata\u001b[49m\u001b[43m=\u001b[49m\u001b[43mconfig\u001b[49m\u001b[43m.\u001b[49m\u001b[43mget\u001b[49m\u001b[43m(\u001b[49m\u001b[33;43m\"\u001b[39;49m\u001b[33;43mmetadata\u001b[39;49m\u001b[33;43m\"\u001b[39;49m\u001b[43m)\u001b[49m\u001b[43m,\u001b[49m\n\u001b[32m    399\u001b[39m \u001b[43m            \u001b[49m\u001b[43mrun_name\u001b[49m\u001b[43m=\u001b[49m\u001b[43mconfig\u001b[49m\u001b[43m.\u001b[49m\u001b[43mget\u001b[49m\u001b[43m(\u001b[49m\u001b[33;43m\"\u001b[39;49m\u001b[33;43mrun_name\u001b[39;49m\u001b[33;43m\"\u001b[39;49m\u001b[43m)\u001b[49m\u001b[43m,\u001b[49m\n\u001b[32m    400\u001b[39m \u001b[43m            \u001b[49m\u001b[43mrun_id\u001b[49m\u001b[43m=\u001b[49m\u001b[43mconfig\u001b[49m\u001b[43m.\u001b[49m\u001b[43mpop\u001b[49m\u001b[43m(\u001b[49m\u001b[33;43m\"\u001b[39;49m\u001b[33;43mrun_id\u001b[39;49m\u001b[33;43m\"\u001b[39;49m\u001b[43m,\u001b[49m\u001b[43m \u001b[49m\u001b[38;5;28;43;01mNone\u001b[39;49;00m\u001b[43m)\u001b[49m\u001b[43m,\u001b[49m\n\u001b[32m    401\u001b[39m \u001b[43m            \u001b[49m\u001b[43m*\u001b[49m\u001b[43m*\u001b[49m\u001b[43mkwargs\u001b[49m\u001b[43m,\u001b[49m\n\u001b[32m    402\u001b[39m \u001b[43m        \u001b[49m\u001b[43m)\u001b[49m.generations[\u001b[32m0\u001b[39m][\u001b[32m0\u001b[39m],\n\u001b[32m    403\u001b[39m     ).message\n",
      "\u001b[36mFile \u001b[39m\u001b[32m~/Desktop/HighSchool_Helper/.venv/lib/python3.13/site-packages/langchain_core/language_models/chat_models.py:1019\u001b[39m, in \u001b[36mBaseChatModel.generate_prompt\u001b[39m\u001b[34m(self, prompts, stop, callbacks, **kwargs)\u001b[39m\n\u001b[32m   1010\u001b[39m \u001b[38;5;129m@override\u001b[39m\n\u001b[32m   1011\u001b[39m \u001b[38;5;28;01mdef\u001b[39;00m\u001b[38;5;250m \u001b[39m\u001b[34mgenerate_prompt\u001b[39m(\n\u001b[32m   1012\u001b[39m     \u001b[38;5;28mself\u001b[39m,\n\u001b[32m   (...)\u001b[39m\u001b[32m   1016\u001b[39m     **kwargs: Any,\n\u001b[32m   1017\u001b[39m ) -> LLMResult:\n\u001b[32m   1018\u001b[39m     prompt_messages = [p.to_messages() \u001b[38;5;28;01mfor\u001b[39;00m p \u001b[38;5;129;01min\u001b[39;00m prompts]\n\u001b[32m-> \u001b[39m\u001b[32m1019\u001b[39m     \u001b[38;5;28;01mreturn\u001b[39;00m \u001b[38;5;28;43mself\u001b[39;49m\u001b[43m.\u001b[49m\u001b[43mgenerate\u001b[49m\u001b[43m(\u001b[49m\u001b[43mprompt_messages\u001b[49m\u001b[43m,\u001b[49m\u001b[43m \u001b[49m\u001b[43mstop\u001b[49m\u001b[43m=\u001b[49m\u001b[43mstop\u001b[49m\u001b[43m,\u001b[49m\u001b[43m \u001b[49m\u001b[43mcallbacks\u001b[49m\u001b[43m=\u001b[49m\u001b[43mcallbacks\u001b[49m\u001b[43m,\u001b[49m\u001b[43m \u001b[49m\u001b[43m*\u001b[49m\u001b[43m*\u001b[49m\u001b[43mkwargs\u001b[49m\u001b[43m)\u001b[49m\n",
      "\u001b[36mFile \u001b[39m\u001b[32m~/Desktop/HighSchool_Helper/.venv/lib/python3.13/site-packages/langchain_core/language_models/chat_models.py:837\u001b[39m, in \u001b[36mBaseChatModel.generate\u001b[39m\u001b[34m(self, messages, stop, callbacks, tags, metadata, run_name, run_id, **kwargs)\u001b[39m\n\u001b[32m    834\u001b[39m \u001b[38;5;28;01mfor\u001b[39;00m i, m \u001b[38;5;129;01min\u001b[39;00m \u001b[38;5;28menumerate\u001b[39m(input_messages):\n\u001b[32m    835\u001b[39m     \u001b[38;5;28;01mtry\u001b[39;00m:\n\u001b[32m    836\u001b[39m         results.append(\n\u001b[32m--> \u001b[39m\u001b[32m837\u001b[39m             \u001b[38;5;28;43mself\u001b[39;49m\u001b[43m.\u001b[49m\u001b[43m_generate_with_cache\u001b[49m\u001b[43m(\u001b[49m\n\u001b[32m    838\u001b[39m \u001b[43m                \u001b[49m\u001b[43mm\u001b[49m\u001b[43m,\u001b[49m\n\u001b[32m    839\u001b[39m \u001b[43m                \u001b[49m\u001b[43mstop\u001b[49m\u001b[43m=\u001b[49m\u001b[43mstop\u001b[49m\u001b[43m,\u001b[49m\n\u001b[32m    840\u001b[39m \u001b[43m                \u001b[49m\u001b[43mrun_manager\u001b[49m\u001b[43m=\u001b[49m\u001b[43mrun_managers\u001b[49m\u001b[43m[\u001b[49m\u001b[43mi\u001b[49m\u001b[43m]\u001b[49m\u001b[43m \u001b[49m\u001b[38;5;28;43;01mif\u001b[39;49;00m\u001b[43m \u001b[49m\u001b[43mrun_managers\u001b[49m\u001b[43m \u001b[49m\u001b[38;5;28;43;01melse\u001b[39;49;00m\u001b[43m \u001b[49m\u001b[38;5;28;43;01mNone\u001b[39;49;00m\u001b[43m,\u001b[49m\n\u001b[32m    841\u001b[39m \u001b[43m                \u001b[49m\u001b[43m*\u001b[49m\u001b[43m*\u001b[49m\u001b[43mkwargs\u001b[49m\u001b[43m,\u001b[49m\n\u001b[32m    842\u001b[39m \u001b[43m            \u001b[49m\u001b[43m)\u001b[49m\n\u001b[32m    843\u001b[39m         )\n\u001b[32m    844\u001b[39m     \u001b[38;5;28;01mexcept\u001b[39;00m \u001b[38;5;167;01mBaseException\u001b[39;00m \u001b[38;5;28;01mas\u001b[39;00m e:\n\u001b[32m    845\u001b[39m         \u001b[38;5;28;01mif\u001b[39;00m run_managers:\n",
      "\u001b[36mFile \u001b[39m\u001b[32m~/Desktop/HighSchool_Helper/.venv/lib/python3.13/site-packages/langchain_core/language_models/chat_models.py:1085\u001b[39m, in \u001b[36mBaseChatModel._generate_with_cache\u001b[39m\u001b[34m(self, messages, stop, run_manager, **kwargs)\u001b[39m\n\u001b[32m   1083\u001b[39m     result = generate_from_stream(\u001b[38;5;28miter\u001b[39m(chunks))\n\u001b[32m   1084\u001b[39m \u001b[38;5;28;01melif\u001b[39;00m inspect.signature(\u001b[38;5;28mself\u001b[39m._generate).parameters.get(\u001b[33m\"\u001b[39m\u001b[33mrun_manager\u001b[39m\u001b[33m\"\u001b[39m):\n\u001b[32m-> \u001b[39m\u001b[32m1085\u001b[39m     result = \u001b[38;5;28;43mself\u001b[39;49m\u001b[43m.\u001b[49m\u001b[43m_generate\u001b[49m\u001b[43m(\u001b[49m\n\u001b[32m   1086\u001b[39m \u001b[43m        \u001b[49m\u001b[43mmessages\u001b[49m\u001b[43m,\u001b[49m\u001b[43m \u001b[49m\u001b[43mstop\u001b[49m\u001b[43m=\u001b[49m\u001b[43mstop\u001b[49m\u001b[43m,\u001b[49m\u001b[43m \u001b[49m\u001b[43mrun_manager\u001b[49m\u001b[43m=\u001b[49m\u001b[43mrun_manager\u001b[49m\u001b[43m,\u001b[49m\u001b[43m \u001b[49m\u001b[43m*\u001b[49m\u001b[43m*\u001b[49m\u001b[43mkwargs\u001b[49m\n\u001b[32m   1087\u001b[39m \u001b[43m    \u001b[49m\u001b[43m)\u001b[49m\n\u001b[32m   1088\u001b[39m \u001b[38;5;28;01melse\u001b[39;00m:\n\u001b[32m   1089\u001b[39m     result = \u001b[38;5;28mself\u001b[39m._generate(messages, stop=stop, **kwargs)\n",
      "\u001b[36mFile \u001b[39m\u001b[32m~/Desktop/HighSchool_Helper/.venv/lib/python3.13/site-packages/langchain_groq/chat_models.py:527\u001b[39m, in \u001b[36mChatGroq._generate\u001b[39m\u001b[34m(self, messages, stop, run_manager, **kwargs)\u001b[39m\n\u001b[32m    522\u001b[39m message_dicts, params = \u001b[38;5;28mself\u001b[39m._create_message_dicts(messages, stop)\n\u001b[32m    523\u001b[39m params = {\n\u001b[32m    524\u001b[39m     **params,\n\u001b[32m    525\u001b[39m     **kwargs,\n\u001b[32m    526\u001b[39m }\n\u001b[32m--> \u001b[39m\u001b[32m527\u001b[39m response = \u001b[38;5;28;43mself\u001b[39;49m\u001b[43m.\u001b[49m\u001b[43mclient\u001b[49m\u001b[43m.\u001b[49m\u001b[43mcreate\u001b[49m\u001b[43m(\u001b[49m\u001b[43mmessages\u001b[49m\u001b[43m=\u001b[49m\u001b[43mmessage_dicts\u001b[49m\u001b[43m,\u001b[49m\u001b[43m \u001b[49m\u001b[43m*\u001b[49m\u001b[43m*\u001b[49m\u001b[43mparams\u001b[49m\u001b[43m)\u001b[49m\n\u001b[32m    528\u001b[39m \u001b[38;5;28;01mreturn\u001b[39;00m \u001b[38;5;28mself\u001b[39m._create_chat_result(response, params)\n",
      "\u001b[36mFile \u001b[39m\u001b[32m~/Desktop/HighSchool_Helper/.venv/lib/python3.13/site-packages/groq/resources/chat/completions.py:448\u001b[39m, in \u001b[36mCompletions.create\u001b[39m\u001b[34m(self, messages, model, compound_custom, documents, exclude_domains, frequency_penalty, function_call, functions, include_domains, include_reasoning, logit_bias, logprobs, max_completion_tokens, max_tokens, metadata, n, parallel_tool_calls, presence_penalty, reasoning_effort, reasoning_format, response_format, search_settings, seed, service_tier, stop, store, stream, temperature, tool_choice, tools, top_logprobs, top_p, user, extra_headers, extra_query, extra_body, timeout)\u001b[39m\n\u001b[32m    238\u001b[39m \u001b[38;5;28;01mdef\u001b[39;00m\u001b[38;5;250m \u001b[39m\u001b[34mcreate\u001b[39m(\n\u001b[32m    239\u001b[39m     \u001b[38;5;28mself\u001b[39m,\n\u001b[32m    240\u001b[39m     *,\n\u001b[32m   (...)\u001b[39m\u001b[32m    295\u001b[39m     timeout: \u001b[38;5;28mfloat\u001b[39m | httpx.Timeout | \u001b[38;5;28;01mNone\u001b[39;00m | NotGiven = NOT_GIVEN,\n\u001b[32m    296\u001b[39m ) -> ChatCompletion | Stream[ChatCompletionChunk]:\n\u001b[32m    297\u001b[39m \u001b[38;5;250m    \u001b[39m\u001b[33;03m\"\"\"\u001b[39;00m\n\u001b[32m    298\u001b[39m \u001b[33;03m    Creates a model response for the given chat conversation.\u001b[39;00m\n\u001b[32m    299\u001b[39m \n\u001b[32m   (...)\u001b[39m\u001b[32m    446\u001b[39m \u001b[33;03m      timeout: Override the client-level default timeout for this request, in seconds\u001b[39;00m\n\u001b[32m    447\u001b[39m \u001b[33;03m    \"\"\"\u001b[39;00m\n\u001b[32m--> \u001b[39m\u001b[32m448\u001b[39m     \u001b[38;5;28;01mreturn\u001b[39;00m \u001b[38;5;28;43mself\u001b[39;49m\u001b[43m.\u001b[49m\u001b[43m_post\u001b[49m\u001b[43m(\u001b[49m\n\u001b[32m    449\u001b[39m \u001b[43m        \u001b[49m\u001b[33;43m\"\u001b[39;49m\u001b[33;43m/openai/v1/chat/completions\u001b[39;49m\u001b[33;43m\"\u001b[39;49m\u001b[43m,\u001b[49m\n\u001b[32m    450\u001b[39m \u001b[43m        \u001b[49m\u001b[43mbody\u001b[49m\u001b[43m=\u001b[49m\u001b[43mmaybe_transform\u001b[49m\u001b[43m(\u001b[49m\n\u001b[32m    451\u001b[39m \u001b[43m            \u001b[49m\u001b[43m{\u001b[49m\n\u001b[32m    452\u001b[39m \u001b[43m                \u001b[49m\u001b[33;43m\"\u001b[39;49m\u001b[33;43mmessages\u001b[39;49m\u001b[33;43m\"\u001b[39;49m\u001b[43m:\u001b[49m\u001b[43m \u001b[49m\u001b[43mmessages\u001b[49m\u001b[43m,\u001b[49m\n\u001b[32m    453\u001b[39m \u001b[43m                \u001b[49m\u001b[33;43m\"\u001b[39;49m\u001b[33;43mmodel\u001b[39;49m\u001b[33;43m\"\u001b[39;49m\u001b[43m:\u001b[49m\u001b[43m \u001b[49m\u001b[43mmodel\u001b[49m\u001b[43m,\u001b[49m\n\u001b[32m    454\u001b[39m \u001b[43m                \u001b[49m\u001b[33;43m\"\u001b[39;49m\u001b[33;43mcompound_custom\u001b[39;49m\u001b[33;43m\"\u001b[39;49m\u001b[43m:\u001b[49m\u001b[43m \u001b[49m\u001b[43mcompound_custom\u001b[49m\u001b[43m,\u001b[49m\n\u001b[32m    455\u001b[39m \u001b[43m                \u001b[49m\u001b[33;43m\"\u001b[39;49m\u001b[33;43mdocuments\u001b[39;49m\u001b[33;43m\"\u001b[39;49m\u001b[43m:\u001b[49m\u001b[43m \u001b[49m\u001b[43mdocuments\u001b[49m\u001b[43m,\u001b[49m\n\u001b[32m    456\u001b[39m \u001b[43m                \u001b[49m\u001b[33;43m\"\u001b[39;49m\u001b[33;43mexclude_domains\u001b[39;49m\u001b[33;43m\"\u001b[39;49m\u001b[43m:\u001b[49m\u001b[43m \u001b[49m\u001b[43mexclude_domains\u001b[49m\u001b[43m,\u001b[49m\n\u001b[32m    457\u001b[39m \u001b[43m                \u001b[49m\u001b[33;43m\"\u001b[39;49m\u001b[33;43mfrequency_penalty\u001b[39;49m\u001b[33;43m\"\u001b[39;49m\u001b[43m:\u001b[49m\u001b[43m \u001b[49m\u001b[43mfrequency_penalty\u001b[49m\u001b[43m,\u001b[49m\n\u001b[32m    458\u001b[39m \u001b[43m                \u001b[49m\u001b[33;43m\"\u001b[39;49m\u001b[33;43mfunction_call\u001b[39;49m\u001b[33;43m\"\u001b[39;49m\u001b[43m:\u001b[49m\u001b[43m \u001b[49m\u001b[43mfunction_call\u001b[49m\u001b[43m,\u001b[49m\n\u001b[32m    459\u001b[39m \u001b[43m                \u001b[49m\u001b[33;43m\"\u001b[39;49m\u001b[33;43mfunctions\u001b[39;49m\u001b[33;43m\"\u001b[39;49m\u001b[43m:\u001b[49m\u001b[43m \u001b[49m\u001b[43mfunctions\u001b[49m\u001b[43m,\u001b[49m\n\u001b[32m    460\u001b[39m \u001b[43m                \u001b[49m\u001b[33;43m\"\u001b[39;49m\u001b[33;43minclude_domains\u001b[39;49m\u001b[33;43m\"\u001b[39;49m\u001b[43m:\u001b[49m\u001b[43m \u001b[49m\u001b[43minclude_domains\u001b[49m\u001b[43m,\u001b[49m\n\u001b[32m    461\u001b[39m \u001b[43m                \u001b[49m\u001b[33;43m\"\u001b[39;49m\u001b[33;43minclude_reasoning\u001b[39;49m\u001b[33;43m\"\u001b[39;49m\u001b[43m:\u001b[49m\u001b[43m \u001b[49m\u001b[43minclude_reasoning\u001b[49m\u001b[43m,\u001b[49m\n\u001b[32m    462\u001b[39m \u001b[43m                \u001b[49m\u001b[33;43m\"\u001b[39;49m\u001b[33;43mlogit_bias\u001b[39;49m\u001b[33;43m\"\u001b[39;49m\u001b[43m:\u001b[49m\u001b[43m \u001b[49m\u001b[43mlogit_bias\u001b[49m\u001b[43m,\u001b[49m\n\u001b[32m    463\u001b[39m \u001b[43m                \u001b[49m\u001b[33;43m\"\u001b[39;49m\u001b[33;43mlogprobs\u001b[39;49m\u001b[33;43m\"\u001b[39;49m\u001b[43m:\u001b[49m\u001b[43m \u001b[49m\u001b[43mlogprobs\u001b[49m\u001b[43m,\u001b[49m\n\u001b[32m    464\u001b[39m \u001b[43m                \u001b[49m\u001b[33;43m\"\u001b[39;49m\u001b[33;43mmax_completion_tokens\u001b[39;49m\u001b[33;43m\"\u001b[39;49m\u001b[43m:\u001b[49m\u001b[43m \u001b[49m\u001b[43mmax_completion_tokens\u001b[49m\u001b[43m,\u001b[49m\n\u001b[32m    465\u001b[39m \u001b[43m                \u001b[49m\u001b[33;43m\"\u001b[39;49m\u001b[33;43mmax_tokens\u001b[39;49m\u001b[33;43m\"\u001b[39;49m\u001b[43m:\u001b[49m\u001b[43m \u001b[49m\u001b[43mmax_tokens\u001b[49m\u001b[43m,\u001b[49m\n\u001b[32m    466\u001b[39m \u001b[43m                \u001b[49m\u001b[33;43m\"\u001b[39;49m\u001b[33;43mmetadata\u001b[39;49m\u001b[33;43m\"\u001b[39;49m\u001b[43m:\u001b[49m\u001b[43m \u001b[49m\u001b[43mmetadata\u001b[49m\u001b[43m,\u001b[49m\n\u001b[32m    467\u001b[39m \u001b[43m                \u001b[49m\u001b[33;43m\"\u001b[39;49m\u001b[33;43mn\u001b[39;49m\u001b[33;43m\"\u001b[39;49m\u001b[43m:\u001b[49m\u001b[43m \u001b[49m\u001b[43mn\u001b[49m\u001b[43m,\u001b[49m\n\u001b[32m    468\u001b[39m \u001b[43m                \u001b[49m\u001b[33;43m\"\u001b[39;49m\u001b[33;43mparallel_tool_calls\u001b[39;49m\u001b[33;43m\"\u001b[39;49m\u001b[43m:\u001b[49m\u001b[43m \u001b[49m\u001b[43mparallel_tool_calls\u001b[49m\u001b[43m,\u001b[49m\n\u001b[32m    469\u001b[39m \u001b[43m                \u001b[49m\u001b[33;43m\"\u001b[39;49m\u001b[33;43mpresence_penalty\u001b[39;49m\u001b[33;43m\"\u001b[39;49m\u001b[43m:\u001b[49m\u001b[43m \u001b[49m\u001b[43mpresence_penalty\u001b[49m\u001b[43m,\u001b[49m\n\u001b[32m    470\u001b[39m \u001b[43m                \u001b[49m\u001b[33;43m\"\u001b[39;49m\u001b[33;43mreasoning_effort\u001b[39;49m\u001b[33;43m\"\u001b[39;49m\u001b[43m:\u001b[49m\u001b[43m \u001b[49m\u001b[43mreasoning_effort\u001b[49m\u001b[43m,\u001b[49m\n\u001b[32m    471\u001b[39m \u001b[43m                \u001b[49m\u001b[33;43m\"\u001b[39;49m\u001b[33;43mreasoning_format\u001b[39;49m\u001b[33;43m\"\u001b[39;49m\u001b[43m:\u001b[49m\u001b[43m \u001b[49m\u001b[43mreasoning_format\u001b[49m\u001b[43m,\u001b[49m\n\u001b[32m    472\u001b[39m \u001b[43m                \u001b[49m\u001b[33;43m\"\u001b[39;49m\u001b[33;43mresponse_format\u001b[39;49m\u001b[33;43m\"\u001b[39;49m\u001b[43m:\u001b[49m\u001b[43m \u001b[49m\u001b[43mresponse_format\u001b[49m\u001b[43m,\u001b[49m\n\u001b[32m    473\u001b[39m \u001b[43m                \u001b[49m\u001b[33;43m\"\u001b[39;49m\u001b[33;43msearch_settings\u001b[39;49m\u001b[33;43m\"\u001b[39;49m\u001b[43m:\u001b[49m\u001b[43m \u001b[49m\u001b[43msearch_settings\u001b[49m\u001b[43m,\u001b[49m\n\u001b[32m    474\u001b[39m \u001b[43m                \u001b[49m\u001b[33;43m\"\u001b[39;49m\u001b[33;43mseed\u001b[39;49m\u001b[33;43m\"\u001b[39;49m\u001b[43m:\u001b[49m\u001b[43m \u001b[49m\u001b[43mseed\u001b[49m\u001b[43m,\u001b[49m\n\u001b[32m    475\u001b[39m \u001b[43m                \u001b[49m\u001b[33;43m\"\u001b[39;49m\u001b[33;43mservice_tier\u001b[39;49m\u001b[33;43m\"\u001b[39;49m\u001b[43m:\u001b[49m\u001b[43m \u001b[49m\u001b[43mservice_tier\u001b[49m\u001b[43m,\u001b[49m\n\u001b[32m    476\u001b[39m \u001b[43m                \u001b[49m\u001b[33;43m\"\u001b[39;49m\u001b[33;43mstop\u001b[39;49m\u001b[33;43m\"\u001b[39;49m\u001b[43m:\u001b[49m\u001b[43m \u001b[49m\u001b[43mstop\u001b[49m\u001b[43m,\u001b[49m\n\u001b[32m    477\u001b[39m \u001b[43m                \u001b[49m\u001b[33;43m\"\u001b[39;49m\u001b[33;43mstore\u001b[39;49m\u001b[33;43m\"\u001b[39;49m\u001b[43m:\u001b[49m\u001b[43m \u001b[49m\u001b[43mstore\u001b[49m\u001b[43m,\u001b[49m\n\u001b[32m    478\u001b[39m \u001b[43m                \u001b[49m\u001b[33;43m\"\u001b[39;49m\u001b[33;43mstream\u001b[39;49m\u001b[33;43m\"\u001b[39;49m\u001b[43m:\u001b[49m\u001b[43m \u001b[49m\u001b[43mstream\u001b[49m\u001b[43m,\u001b[49m\n\u001b[32m    479\u001b[39m \u001b[43m                \u001b[49m\u001b[33;43m\"\u001b[39;49m\u001b[33;43mtemperature\u001b[39;49m\u001b[33;43m\"\u001b[39;49m\u001b[43m:\u001b[49m\u001b[43m \u001b[49m\u001b[43mtemperature\u001b[49m\u001b[43m,\u001b[49m\n\u001b[32m    480\u001b[39m \u001b[43m                \u001b[49m\u001b[33;43m\"\u001b[39;49m\u001b[33;43mtool_choice\u001b[39;49m\u001b[33;43m\"\u001b[39;49m\u001b[43m:\u001b[49m\u001b[43m \u001b[49m\u001b[43mtool_choice\u001b[49m\u001b[43m,\u001b[49m\n\u001b[32m    481\u001b[39m \u001b[43m                \u001b[49m\u001b[33;43m\"\u001b[39;49m\u001b[33;43mtools\u001b[39;49m\u001b[33;43m\"\u001b[39;49m\u001b[43m:\u001b[49m\u001b[43m \u001b[49m\u001b[43mtools\u001b[49m\u001b[43m,\u001b[49m\n\u001b[32m    482\u001b[39m \u001b[43m                \u001b[49m\u001b[33;43m\"\u001b[39;49m\u001b[33;43mtop_logprobs\u001b[39;49m\u001b[33;43m\"\u001b[39;49m\u001b[43m:\u001b[49m\u001b[43m \u001b[49m\u001b[43mtop_logprobs\u001b[49m\u001b[43m,\u001b[49m\n\u001b[32m    483\u001b[39m \u001b[43m                \u001b[49m\u001b[33;43m\"\u001b[39;49m\u001b[33;43mtop_p\u001b[39;49m\u001b[33;43m\"\u001b[39;49m\u001b[43m:\u001b[49m\u001b[43m \u001b[49m\u001b[43mtop_p\u001b[49m\u001b[43m,\u001b[49m\n\u001b[32m    484\u001b[39m \u001b[43m                \u001b[49m\u001b[33;43m\"\u001b[39;49m\u001b[33;43muser\u001b[39;49m\u001b[33;43m\"\u001b[39;49m\u001b[43m:\u001b[49m\u001b[43m \u001b[49m\u001b[43muser\u001b[49m\u001b[43m,\u001b[49m\n\u001b[32m    485\u001b[39m \u001b[43m            \u001b[49m\u001b[43m}\u001b[49m\u001b[43m,\u001b[49m\n\u001b[32m    486\u001b[39m \u001b[43m            \u001b[49m\u001b[43mcompletion_create_params\u001b[49m\u001b[43m.\u001b[49m\u001b[43mCompletionCreateParams\u001b[49m\u001b[43m,\u001b[49m\n\u001b[32m    487\u001b[39m \u001b[43m        \u001b[49m\u001b[43m)\u001b[49m\u001b[43m,\u001b[49m\n\u001b[32m    488\u001b[39m \u001b[43m        \u001b[49m\u001b[43moptions\u001b[49m\u001b[43m=\u001b[49m\u001b[43mmake_request_options\u001b[49m\u001b[43m(\u001b[49m\n\u001b[32m    489\u001b[39m \u001b[43m            \u001b[49m\u001b[43mextra_headers\u001b[49m\u001b[43m=\u001b[49m\u001b[43mextra_headers\u001b[49m\u001b[43m,\u001b[49m\u001b[43m \u001b[49m\u001b[43mextra_query\u001b[49m\u001b[43m=\u001b[49m\u001b[43mextra_query\u001b[49m\u001b[43m,\u001b[49m\u001b[43m \u001b[49m\u001b[43mextra_body\u001b[49m\u001b[43m=\u001b[49m\u001b[43mextra_body\u001b[49m\u001b[43m,\u001b[49m\u001b[43m \u001b[49m\u001b[43mtimeout\u001b[49m\u001b[43m=\u001b[49m\u001b[43mtimeout\u001b[49m\n\u001b[32m    490\u001b[39m \u001b[43m        \u001b[49m\u001b[43m)\u001b[49m\u001b[43m,\u001b[49m\n\u001b[32m    491\u001b[39m \u001b[43m        \u001b[49m\u001b[43mcast_to\u001b[49m\u001b[43m=\u001b[49m\u001b[43mChatCompletion\u001b[49m\u001b[43m,\u001b[49m\n\u001b[32m    492\u001b[39m \u001b[43m        \u001b[49m\u001b[43mstream\u001b[49m\u001b[43m=\u001b[49m\u001b[43mstream\u001b[49m\u001b[43m \u001b[49m\u001b[38;5;129;43;01mor\u001b[39;49;00m\u001b[43m \u001b[49m\u001b[38;5;28;43;01mFalse\u001b[39;49;00m\u001b[43m,\u001b[49m\n\u001b[32m    493\u001b[39m \u001b[43m        \u001b[49m\u001b[43mstream_cls\u001b[49m\u001b[43m=\u001b[49m\u001b[43mStream\u001b[49m\u001b[43m[\u001b[49m\u001b[43mChatCompletionChunk\u001b[49m\u001b[43m]\u001b[49m\u001b[43m,\u001b[49m\n\u001b[32m    494\u001b[39m \u001b[43m    \u001b[49m\u001b[43m)\u001b[49m\n",
      "\u001b[36mFile \u001b[39m\u001b[32m~/Desktop/HighSchool_Helper/.venv/lib/python3.13/site-packages/groq/_base_client.py:1242\u001b[39m, in \u001b[36mSyncAPIClient.post\u001b[39m\u001b[34m(self, path, cast_to, body, options, files, stream, stream_cls)\u001b[39m\n\u001b[32m   1228\u001b[39m \u001b[38;5;28;01mdef\u001b[39;00m\u001b[38;5;250m \u001b[39m\u001b[34mpost\u001b[39m(\n\u001b[32m   1229\u001b[39m     \u001b[38;5;28mself\u001b[39m,\n\u001b[32m   1230\u001b[39m     path: \u001b[38;5;28mstr\u001b[39m,\n\u001b[32m   (...)\u001b[39m\u001b[32m   1237\u001b[39m     stream_cls: \u001b[38;5;28mtype\u001b[39m[_StreamT] | \u001b[38;5;28;01mNone\u001b[39;00m = \u001b[38;5;28;01mNone\u001b[39;00m,\n\u001b[32m   1238\u001b[39m ) -> ResponseT | _StreamT:\n\u001b[32m   1239\u001b[39m     opts = FinalRequestOptions.construct(\n\u001b[32m   1240\u001b[39m         method=\u001b[33m\"\u001b[39m\u001b[33mpost\u001b[39m\u001b[33m\"\u001b[39m, url=path, json_data=body, files=to_httpx_files(files), **options\n\u001b[32m   1241\u001b[39m     )\n\u001b[32m-> \u001b[39m\u001b[32m1242\u001b[39m     \u001b[38;5;28;01mreturn\u001b[39;00m cast(ResponseT, \u001b[38;5;28;43mself\u001b[39;49m\u001b[43m.\u001b[49m\u001b[43mrequest\u001b[49m\u001b[43m(\u001b[49m\u001b[43mcast_to\u001b[49m\u001b[43m,\u001b[49m\u001b[43m \u001b[49m\u001b[43mopts\u001b[49m\u001b[43m,\u001b[49m\u001b[43m \u001b[49m\u001b[43mstream\u001b[49m\u001b[43m=\u001b[49m\u001b[43mstream\u001b[49m\u001b[43m,\u001b[49m\u001b[43m \u001b[49m\u001b[43mstream_cls\u001b[49m\u001b[43m=\u001b[49m\u001b[43mstream_cls\u001b[49m\u001b[43m)\u001b[49m)\n",
      "\u001b[36mFile \u001b[39m\u001b[32m~/Desktop/HighSchool_Helper/.venv/lib/python3.13/site-packages/groq/_base_client.py:1044\u001b[39m, in \u001b[36mSyncAPIClient.request\u001b[39m\u001b[34m(self, cast_to, options, stream, stream_cls)\u001b[39m\n\u001b[32m   1041\u001b[39m             err.response.read()\n\u001b[32m   1043\u001b[39m         log.debug(\u001b[33m\"\u001b[39m\u001b[33mRe-raising status error\u001b[39m\u001b[33m\"\u001b[39m)\n\u001b[32m-> \u001b[39m\u001b[32m1044\u001b[39m         \u001b[38;5;28;01mraise\u001b[39;00m \u001b[38;5;28mself\u001b[39m._make_status_error_from_response(err.response) \u001b[38;5;28;01mfrom\u001b[39;00m\u001b[38;5;250m \u001b[39m\u001b[38;5;28;01mNone\u001b[39;00m\n\u001b[32m   1046\u001b[39m     \u001b[38;5;28;01mbreak\u001b[39;00m\n\u001b[32m   1048\u001b[39m \u001b[38;5;28;01massert\u001b[39;00m response \u001b[38;5;129;01mis\u001b[39;00m \u001b[38;5;129;01mnot\u001b[39;00m \u001b[38;5;28;01mNone\u001b[39;00m, \u001b[33m\"\u001b[39m\u001b[33mcould not resolve response (should never happen)\u001b[39m\u001b[33m\"\u001b[39m\n",
      "\u001b[31mBadRequestError\u001b[39m: Error code: 400 - {'error': {'message': 'Tool choice is required, but model did not call a tool', 'type': 'invalid_request_error', 'code': 'tool_use_failed', 'failed_generation': '**1. Problem Understanding**  \\nWe need to determine the (principal) square root of the integer\\u202f9843765983475. The task is to obtain either an exact symbolic form\\u202f√9843765983475\\u202for a numerical approximation (e.g., decimal) if the number is not a perfect square.\\n\\n---\\n\\n**2. Variables**  \\n\\n| Symbol | Description | Type |\\n|--------|-------------|------|\\n|\\u202fN\\u202f|The given integer\\u202f9843765983475 | known constant |\\n|\\u202fr\\u202f|The principal square root of\\u202fN\\u202f| unknown (to be found) |\\n\\n---\\n\\n**3. Relevant Concept/Formula**  \\n\\n- **Square‑root definition**:\\u202f\\\\(r = \\\\sqrt{N}\\\\).  \\n- If\\u202fN\\u202fis not a perfect square, the result is an irrational number; we can express it as `sqrt(N)` symbolically or evaluate it numerically with a desired precision.  \\n- **Sympy functions**: `sqrt` for the exact radical, `N` (or `evalf`) for a numeric approximation, and optionally `is_square` to test whether\\u202fN\\u202fis a perfect square.\\n\\n---\\n\\n**4. Step‑by‑Step Plan**  \\n\\n1. **Create the integer**\\u202fN\\u202fin Sympy.  \\n2. **Check perfect‑square status** (optional): use `N.is_square` to see if an integer square root exists.  \\n3. **Form the radical**: construct the symbolic expression `sqrt(N)`.  \\n4. **If a numeric answer is required**, evaluate the radical to a chosen number of decimal places using `N(expr, prec)` or `expr.evalf(prec)`.  \\n5. **Return** either the exact symbolic radical (if the problem only asks for “the square root”) or the numeric approximation (if a decimal answer is desired).\\n\\n---\\n\\n**5. Sympy Mapping**  \\n\\n| Step | Sympy construct / function | How it is used (plain‑language description) |\\n|------|---------------------------|---------------------------------------------|\\n| 1. Define N | `N = Integer(9843765983475)` | Store the given integer as a Sympy `Integer`. |\\n| 2. Test perfect square (optional) | `N.is_square` | Returns `True` if N = k² for some integer k; otherwise `False`. |\\n| 3. Symbolic square root | `r = sqrt(N)` | Creates the exact radical expression √9843765983475. |\\n| 4. Numeric approximation | `r_numeric = r.evalf(20)` (or `N(r, 20)`) | Computes a decimal approximation of the root with, e.g., 20 significant digits. |\\n| 5. Output | `r` (symbolic) or `r_numeric` (numeric) | Provide the final answer in the requested form. |\\n\\n---\\n\\n**6. Next Step**  \\nAnother agent should now generate the Sympy code following the mapping above, execute it, and return either the exact expression\\u202f√9843765983475\\u202for its numeric approximation (to a reasonable precision).'}}",
      "During task with name 'math_test' and id 'd8d864dc-8355-b463-d025-9321800108e6'"
     ]
    }
   ],
   "source": [
    "response = graph.invoke({\"user_prompt\": \"What is the square root of 9843765983475 ?\"})"
   ]
  },
  {
   "cell_type": "code",
   "execution_count": 35,
   "metadata": {},
   "outputs": [
    {
     "name": "stdout",
     "output_type": "stream",
     "text": [
      "('problem_understanding', 'We need to find the two (possibly complex) roots of the quadratic polynomial 3x^2 + 4x + 5 = 0.')\n",
      "('variables', {'a': 'coefficient of x^2, value 3', 'b': 'coefficient of x, value 4', 'c': 'constant term, value 5', 'x': 'unknown variable representing the root(s) of the quadratic'})\n",
      "('formula', 'Quadratic formula: For ax^2 + bx + c = 0, roots are x = (-b ± sqrt(b^2 - 4ac)) / (2a).')\n",
      "('step_by_step_plan', ['Introduce a symbolic variable x.', 'Define the coefficients: a = 3, b = 4, c = 5.', 'Form the quadratic equation a*x**2 + b*x + c = 0.', \"Apply the quadratic formula to obtain the two roots, or simply call Sympy's solve function on the equation.\", 'Simplify the resulting expressions (Sympy will automatically handle complex numbers).'])\n",
      "('sympy_mapping', [SympyStep(description='Create symbolic variable for the unknown root.', sympy_hint=\"x = symbols('x')\"), SympyStep(description='Assign numeric values to the coefficients a, b, c.', sympy_hint='a, b, c = 3, 4, 5'), SympyStep(description='Construct the quadratic equation a*x**2 + b*x + c = 0.', sympy_hint='eq = Eq(a*x**2 + b*x + c, 0)'), SympyStep(description=\"Solve the equation for x using Sympy's solve function (which internally applies the quadratic formula).\", sympy_hint='roots = solve(eq, x)'), SympyStep(description='Optionally, explicitly compute using the quadratic formula for verification.', sympy_hint='roots_explicit = [(-b + sqrt(b**2 - 4*a*c))/(2*a), (-b - sqrt(b**2 - 4*a*c))/(2*a)]')])\n",
      "('next_step', 'Generate Sympy code that defines the symbols, constructs the quadratic equation 3*x**2 + 4*x + 5 = 0, and uses solve (or directly applies the quadratic formula) to compute the roots.')\n"
     ]
    }
   ],
   "source": [
    "for m in response['plan']:\n",
    "    print(m)"
   ]
  },
  {
   "cell_type": "code",
   "execution_count": 20,
   "metadata": {},
   "outputs": [],
   "source": [
    "response = graph.invoke({\"user_prompt\": \"What are the roots of the following parabola: 3x^2 + 4x + 5 ?\"})\n"
   ]
  },
  {
   "cell_type": "code",
   "execution_count": 21,
   "metadata": {},
   "outputs": [
    {
     "name": "stdout",
     "output_type": "stream",
     "text": [
      "('problem_understanding', 'We need to find the two (possibly complex) roots of the quadratic polynomial 3x^2 + 4x + 5 = 0.')\n",
      "('variables', {'a': 'coefficient of x^2, value 3', 'b': 'coefficient of x, value 4', 'c': 'constant term, value 5', 'x': 'unknown variable representing the root(s) of the quadratic'})\n",
      "('formula', 'Quadratic formula: For ax^2 + bx + c = 0, roots are x = (-b ± sqrt(b^2 - 4ac)) / (2a).')\n",
      "('step_by_step_plan', ['Introduce a symbolic variable x.', 'Define the coefficients: a = 3, b = 4, c = 5.', 'Form the quadratic equation a*x**2 + b*x + c = 0.', \"Apply the quadratic formula to obtain the two roots, or simply call Sympy's solve function on the equation.\", 'Simplify the resulting expressions (Sympy will automatically handle complex numbers).'])\n",
      "('sympy_mapping', [SympyStep(description='Create symbolic variable for the unknown root.', sympy_hint=\"x = symbols('x')\"), SympyStep(description='Assign numeric values to the coefficients a, b, c.', sympy_hint='a, b, c = 3, 4, 5'), SympyStep(description='Construct the quadratic equation a*x**2 + b*x + c = 0.', sympy_hint='eq = Eq(a*x**2 + b*x + c, 0)'), SympyStep(description=\"Solve the equation for x using Sympy's solve function (which internally applies the quadratic formula).\", sympy_hint='roots = solve(eq, x)'), SympyStep(description='Optionally, explicitly compute using the quadratic formula for verification.', sympy_hint='roots_explicit = [(-b + sqrt(b**2 - 4*a*c))/(2*a), (-b - sqrt(b**2 - 4*a*c))/(2*a)]')])\n",
      "('next_step', 'Generate Sympy code that defines the symbols, constructs the quadratic equation 3*x**2 + 4*x + 5 = 0, and uses solve (or directly applies the quadratic formula) to compute the roots.')\n"
     ]
    }
   ],
   "source": [
    "for m in response['plan']:\n",
    "    print(m)"
   ]
  },
  {
   "cell_type": "code",
   "execution_count": 12,
   "metadata": {},
   "outputs": [
    {
     "data": {
      "text/plain": [
       "True"
      ]
     },
     "execution_count": 12,
     "metadata": {},
     "output_type": "execute_result"
    }
   ],
   "source": [
    "load_dotenv()"
   ]
  },
  {
   "cell_type": "code",
   "execution_count": 64,
   "metadata": {},
   "outputs": [
    {
     "data": {
      "text/plain": [
       "{'query': 'High school helper AI agent for solving maths andd physics problems',\n",
       " 'follow_up_questions': None,\n",
       " 'answer': None,\n",
       " 'images': [],\n",
       " 'results': [{'url': 'https://math-gpt.org/',\n",
       "   'title': 'MathGPT - AI Math Solver - Math Solver & Homework Helper',\n",
       "   'content': 'MathGPT Math Solver and AI Calculator MathGPT is your all-in-one math solver and AI tutor, serving as an AI math calculator that solves algebra, calculus, chemistry, and physics problems, making it the ultimate homework helper and AI math solver. MathGPT is the first to provide on-demand, AI-powered video explanations with engaging animations and diagrams for any homework question, making it the most interactive homework helper and math solver. With features like step-by-step explanations, personalized AI videos, and interactive quizzes, MathGPT helps make learning math easier and more engaging. Yes, MathGPT is an Math Solver App and Site that will solve math problems simply by dragging and dropping photos into the Ai Calculator',\n",
       "   'score': 0.5914643,\n",
       "   'raw_content': None},\n",
       "  {'url': 'https://learnfast.ai/',\n",
       "   'title': 'LearnFast AI',\n",
       "   'content': 'Instantly Solve Math & Physics Problems with LearnFast AI – Fast, Accurate, and AI-Powered Solutions LearnFast AI offers free daily problem-solving for both physics and math. ## How to Use LearnFast AI to Solve Math and Physics Problems ## Who Can Benefit from LearnFast AI for Solving Math and Physics Problems University students can use LearnFast AI to solve complex math equations and physics problems, helping to reinforce their understanding of advanced concepts in both subjects. LearnFast AI uses advanced GPT-4o technology to analyze both math and physics problems, providing accurate, step-by-step solutions for each subject. ### Can LearnFast AI solve complex physics and math problems? Yes, you can use LearnFast AI for free with daily limits on solving math and physics problems.',\n",
       "   'score': 0.5236402,\n",
       "   'raw_content': None}],\n",
       " 'response_time': 1.38,\n",
       " 'request_id': 'aa3f17fc-b822-4034-8549-0b1220ac8077'}"
      ]
     },
     "execution_count": 64,
     "metadata": {},
     "output_type": "execute_result"
    }
   ],
   "source": [
    "from langchain_tavily import TavilySearch\n",
    "\n",
    "tool = TavilySearch(max_results=2)\n",
    "tool.invoke(\"High school helper AI agent for solving maths andd physics problems\")"
   ]
  },
  {
   "cell_type": "code",
   "execution_count": 65,
   "metadata": {},
   "outputs": [
    {
     "data": {
      "text/plain": [
       "{'query': 'Can you explain what sympy functions used foe calculating sin values',\n",
       " 'follow_up_questions': None,\n",
       " 'answer': None,\n",
       " 'images': [],\n",
       " 'results': [{'url': 'https://docs.sympy.org/latest/modules/functions/elementary.html',\n",
       "   'title': 'sympy.functions.elementary.complexes',\n",
       "   'content': '*class* sympy.functions.elementary.complexes.re(*arg*)¶ *class* sympy.functions.elementary.complexes.im(*arg*)¶ re(x) *class* sympy.functions.elementary.complexes.sign(*arg*)¶ *class* sympy.functions.elementary.complexes.Abs(*arg*)¶ x**2 *class* sympy.functions.elementary.complexes.arg(*arg*)¶ >>> from sympy.abc import x *class* sympy.functions.elementary.complexes.conjugate(*arg*)¶ *class* sympy.functions.elementary.complexes.polar\\\\_lift(*arg*)¶ *class* sympy.functions.elementary.complexes.principal\\\\_branch(*x*, *period*)¶ *class* sympy.functions.elementary.trigonometric.sin(*arg*)¶ >>> from sympy.abc import x *class* sympy.functions.elementary.trigonometric.cos(*arg*)¶ >>> from sympy.abc import x *class* sympy.functions.elementary.trigonometric.tan(*arg*)¶ >>> from sympy.abc import x *class* sympy.functions.elementary.trigonometric.cot(*arg*)¶ >>> from sympy.abc import x *class* sympy.functions.elementary.trigonometric.sec(*arg*)¶ >>> from sympy.abc import x *class* sympy.functions.elementary.trigonometric.csc(*arg*)¶ >>> from sympy.abc import x *class* sympy.functions.elementary.trigonometric.sinc(*arg*)¶ >>> from sympy.abc import x *class* sympy.functions.elementary.trigonometric.asin(*arg*)¶ *class* sympy.functions.elementary.trigonometric.acos(*arg*)¶ >>> from sympy.abc import x >>> from sympy.abc import x sympy.functions.elementary.piecewise.piecewise\\\\_fold(*expr*, *evaluate=True*)¶ >>> from sympy.abc import x *class* sympy.functions.elementary.miscellaneous.Min(*\\\\*args*)¶ *class* sympy.functions.elementary.miscellaneous.Max(*\\\\*args*)¶ sympy.functions.elementary.miscellaneous.root(*arg*, *n*, *k=0*, *evaluate=None*)¶ >>> from sympy.abc import x, n x**(1/3) x**(-3/2) sympy.functions.elementary.miscellaneous.sqrt(*arg*, *evaluate=None*)¶ sympy.functions.elementary.miscellaneous.cbrt(*arg*, *evaluate=None*)¶ x**(1/3) (x**3)**(1/3) sympy.functions.elementary.miscellaneous.real\\\\_root(*arg*, *n=None*, *evaluate=None*)¶',\n",
       "   'score': 0.6072213,\n",
       "   'raw_content': None},\n",
       "  {'url': 'https://stackoverflow.com/questions/77970382/using-sympy-to-calculate-the-exact-values-of-sin-and-cos-of-m-npi',\n",
       "   'title': 'Using sympy to calculate the exact values of sin and cos of (m/n)*pi',\n",
       "   'content': 'Feb 9, 2024·I want to find the exact values of the sine and cosine of a good amount of the rational values*pi. I am doing this mostly to learn new mathematics and python.How to use sine in sympy? - python - Stack OverflowHow to solve equation sets with SymPy to find some angles?More results from stackoverflow.com',\n",
       "   'score': 0.51091194,\n",
       "   'raw_content': None}],\n",
       " 'response_time': 1.2,\n",
       " 'request_id': '75e70e2a-86c5-4b44-b94b-783b1e68b04d'}"
      ]
     },
     "execution_count": 65,
     "metadata": {},
     "output_type": "execute_result"
    }
   ],
   "source": [
    "tool.invoke('Can you explain what sympy functions used foe calculating sin values')"
   ]
  },
  {
   "cell_type": "code",
   "execution_count": null,
   "metadata": {},
   "outputs": [],
   "source": [
    "result_crawler = smartcrawler.invoke(\n"
   ]
  },
  {
   "cell_type": "code",
   "execution_count": 16,
   "metadata": {},
   "outputs": [],
   "source": [
    "import math"
   ]
  },
  {
   "cell_type": "code",
   "execution_count": 33,
   "metadata": {},
   "outputs": [],
   "source": [
    "def sqrt(a:int) -> float:\n",
    "    \"\"\"\n",
    "    Find square root of a number\n",
    "    \"\"\"\n",
    "\n",
    "    return math.sqrt(a)"
   ]
  },
  {
   "cell_type": "code",
   "execution_count": 21,
   "metadata": {},
   "outputs": [
    {
     "data": {
      "text/plain": [
       "6.0"
      ]
     },
     "execution_count": 21,
     "metadata": {},
     "output_type": "execute_result"
    }
   ],
   "source": [
    "ans = sqrt(36)\n",
    "ans"
   ]
  },
  {
   "cell_type": "code",
   "execution_count": 34,
   "metadata": {},
   "outputs": [],
   "source": [
    "tools = [tool, sqrt]"
   ]
  },
  {
   "cell_type": "code",
   "execution_count": null,
   "metadata": {},
   "outputs": [],
   "source": []
  },
  {
   "cell_type": "code",
   "execution_count": 35,
   "metadata": {},
   "outputs": [],
   "source": [
    "llm_with_tool = llm.bind_tools(tools)"
   ]
  },
  {
   "cell_type": "code",
   "execution_count": 36,
   "metadata": {},
   "outputs": [],
   "source": [
    "## Stategraph\n",
    "from langgraph.graph import StateGraph,START,END\n",
    "from langgraph.prebuilt import ToolNode\n",
    "from langgraph.prebuilt import tools_condition"
   ]
  },
  {
   "cell_type": "code",
   "execution_count": 37,
   "metadata": {},
   "outputs": [],
   "source": [
    "## Node definition\n",
    "def tool_calling_llm(state:State):\n",
    "    return {\"messages\":[llm_with_tool.invoke(state[\"messages\"])]}\n"
   ]
  },
  {
   "cell_type": "code",
   "execution_count": 26,
   "metadata": {},
   "outputs": [
    {
     "data": {
      "text/plain": [
       "<langgraph.graph.state.StateGraph at 0x10c842490>"
      ]
     },
     "execution_count": 26,
     "metadata": {},
     "output_type": "execute_result"
    }
   ],
   "source": [
    "## Grpah\n",
    "builder=StateGraph(State)\n",
    "builder.add_node(\"tool_calling_llm\",tool_calling_llm)\n",
    "builder.add_node(\"tools\",ToolNode(tools))\n",
    "\n",
    "## Add Edges\n",
    "builder.add_edge(START, \"tool_calling_llm\")\n",
    "builder.add_conditional_edges(\n",
    "    \"tool_calling_llm\",\n",
    "    # If the latest message (result) from assistant is a tool call -> tools_condition routes to tools\n",
    "    # If the latest message (result) from assistant is a not a tool call -> tools_condition routes to END\n",
    "    tools_condition\n",
    ")\n",
    "builder.add_edge(\"tools\",END)\n",
    "\n"
   ]
  },
  {
   "cell_type": "code",
   "execution_count": 38,
   "metadata": {},
   "outputs": [
    {
     "data": {
      "image/png": "[encoded data removed]",
      "text/plain": [
       "<IPython.core.display.Image object>"
      ]
     },
     "metadata": {},
     "output_type": "display_data"
    }
   ],
   "source": [
    "## compile the graph\n",
    "graph=builder.compile()\n",
    "\n",
    "from IPython.display import Image, display\n",
    "display(Image(graph.get_graph().draw_mermaid_png()))"
   ]
  },
  {
   "cell_type": "code",
   "execution_count": 43,
   "metadata": {},
   "outputs": [],
   "source": [
    "response=graph.invoke({\"messages\":\"Is AI agent going to be the next big thing according to the latest news\"})"
   ]
  },
  {
   "cell_type": "code",
   "execution_count": 44,
   "metadata": {},
   "outputs": [
    {
     "data": {
      "text/plain": [
       "'{\"query\": \"AI agents next big thing latest news 2024\", \"follow_up_questions\": null, \"answer\": null, \"images\": [], \"results\": [{\"url\": \"https://www.ainvest.com/news/walmart-ai-driven-retail-transformation-implications-amazon-market-2509/\", \"title\": \"Walmart’s AI-Driven Retail Transformation and Its Implications for Amazon and the Market - AInvest\", \"score\": 0.8170061, \"published_date\": \"Fri, 05 Sep 2025 00:52:56 GMT\", \"content\": \"The agentic AI market is projected to grow from $2.9 billion in 2024 to $48.2 billion by 2030, with 60% of enterprise AI deployments in 2025 incorporating agentic capabilities . Walmart’s early adoption of this technology positions it to capitalize on this growth. By embedding AI into its supply chain, customer service, and employee workflows, Walmart is creating a flywheel effect: enhanced efficiency drives lower costs, which in turn fund further AI innovation.\", \"raw_content\": null}, {\"url\": \"https://www.csoonline.com/article/4047974/agentic-ai-a-cisos-security-nightmare-in-the-making.html\", \"title\": \"Agentic AI: A CISO’s security nightmare in the making? - csoonline.com\", \"score\": 0.6922474, \"published_date\": \"Tue, 02 Sep 2025 07:04:02 GMT\", \"content\": \"In a 2024 report noting how threat actors could leverage AI in 2025, Cisco Talos said AI systems and models that can act autonomously to achieve goals without the need for constant human guidance could imperil organizations that are neither prepared nor equipped to handle agentic systems and their potential for compromise. [...] ### Aflac’s shift to passkeys brings big business benefits\\\\n\\\\n  Sep 13, 2024 7 mins\\\\n\\\\n## Show me more\\\\n\\\\nnews analysis\\\\n\\\\n### 88% of CISOs struggle to implement zero trust\\\\n\\\\nBy Evan Schuman\\\\n\\\\nSep 2, 20255 mins\\\\n\\\\nIdentity and Access ManagementSecurity PracticesZero Trust\\\\n\\\\nfeature\\\\n\\\\n### Agentic AI: A CISO’s security nightmare in the making?\\\\n\\\\nBy Bob Violino\\\\n\\\\nSep 2, 20259 mins\\\\n\\\\nApplication SecurityBusiness IT AlignmentData and Information Security\\\\n\\\\nfeature\\\\n\\\\n### Spotlight report: IT careers in the AI era [...] ### How to establish an effective AI GRC framework\\\\n\\\\n  May 16, 2025 2 mins\\\\n feature\\\\n\\\\n  ### Deepfake attacks are inevitable. CISOs can’t prepare soon enough.\\\\n\\\\n  May 13, 2025 11 mins\\\\n how-to\\\\n\\\\n  ### Download the UEM vendor comparison chart, 2025 edition\\\\n\\\\n  Mar 3, 2025 1 min\\\\n feature\\\\n\\\\n  ### How to create an effective incident response plan\\\\n\\\\n  Feb 25, 2025 11 mins\\\\n feature\\\\n\\\\n  ### Carrier Global takes collaborative approach to cybersecurity\\\\n\\\\n  Sep 27, 2024 6 mins\\\\n feature\", \"raw_content\": null}], \"response_time\": 1.03, \"request_id\": \"8e0ec659-c2c1-482c-89a7-f436170377d2\"}'"
      ]
     },
     "execution_count": 44,
     "metadata": {},
     "output_type": "execute_result"
    }
   ],
   "source": [
    "response['messages'][-1].content"
   ]
  },
  {
   "cell_type": "code",
   "execution_count": 45,
   "metadata": {},
   "outputs": [
    {
     "name": "stdout",
     "output_type": "stream",
     "text": [
      "================================\u001b[1m Human Message \u001b[0m=================================\n",
      "\n",
      "Is AI agent going to be the next big thing according to the latest news\n",
      "==================================\u001b[1m Ai Message \u001b[0m==================================\n",
      "Tool Calls:\n",
      "  tavily_search (fc_17f49cdd-c03e-4de9-bcda-e8fcfd74ca9f)\n",
      " Call ID: fc_17f49cdd-c03e-4de9-bcda-e8fcfd74ca9f\n",
      "  Args:\n",
      "    query: AI agents next big thing latest news 2024\n",
      "    search_depth: advanced\n",
      "    time_range: week\n",
      "    topic: news\n",
      "=================================\u001b[1m Tool Message \u001b[0m=================================\n",
      "Name: tavily_search\n",
      "\n",
      "{\"query\": \"AI agents next big thing latest news 2024\", \"follow_up_questions\": null, \"answer\": null, \"images\": [], \"results\": [{\"url\": \"https://www.ainvest.com/news/walmart-ai-driven-retail-transformation-implications-amazon-market-2509/\", \"title\": \"Walmart’s AI-Driven Retail Transformation and Its Implications for Amazon and the Market - AInvest\", \"score\": 0.8170061, \"published_date\": \"Fri, 05 Sep 2025 00:52:56 GMT\", \"content\": \"The agentic AI market is projected to grow from $2.9 billion in 2024 to $48.2 billion by 2030, with 60% of enterprise AI deployments in 2025 incorporating agentic capabilities . Walmart’s early adoption of this technology positions it to capitalize on this growth. By embedding AI into its supply chain, customer service, and employee workflows, Walmart is creating a flywheel effect: enhanced efficiency drives lower costs, which in turn fund further AI innovation.\", \"raw_content\": null}, {\"url\": \"https://www.csoonline.com/article/4047974/agentic-ai-a-cisos-security-nightmare-in-the-making.html\", \"title\": \"Agentic AI: A CISO’s security nightmare in the making? - csoonline.com\", \"score\": 0.6922474, \"published_date\": \"Tue, 02 Sep 2025 07:04:02 GMT\", \"content\": \"In a 2024 report noting how threat actors could leverage AI in 2025, Cisco Talos said AI systems and models that can act autonomously to achieve goals without the need for constant human guidance could imperil organizations that are neither prepared nor equipped to handle agentic systems and their potential for compromise. [...] ### Aflac’s shift to passkeys brings big business benefits\\n\\n  Sep 13, 2024 7 mins\\n\\n## Show me more\\n\\nnews analysis\\n\\n### 88% of CISOs struggle to implement zero trust\\n\\nBy Evan Schuman\\n\\nSep 2, 20255 mins\\n\\nIdentity and Access ManagementSecurity PracticesZero Trust\\n\\nfeature\\n\\n### Agentic AI: A CISO’s security nightmare in the making?\\n\\nBy Bob Violino\\n\\nSep 2, 20259 mins\\n\\nApplication SecurityBusiness IT AlignmentData and Information Security\\n\\nfeature\\n\\n### Spotlight report: IT careers in the AI era [...] ### How to establish an effective AI GRC framework\\n\\n  May 16, 2025 2 mins\\n feature\\n\\n  ### Deepfake attacks are inevitable. CISOs can’t prepare soon enough.\\n\\n  May 13, 2025 11 mins\\n how-to\\n\\n  ### Download the UEM vendor comparison chart, 2025 edition\\n\\n  Mar 3, 2025 1 min\\n feature\\n\\n  ### How to create an effective incident response plan\\n\\n  Feb 25, 2025 11 mins\\n feature\\n\\n  ### Carrier Global takes collaborative approach to cybersecurity\\n\\n  Sep 27, 2024 6 mins\\n feature\", \"raw_content\": null}], \"response_time\": 1.03, \"request_id\": \"8e0ec659-c2c1-482c-89a7-f436170377d2\"}\n"
     ]
    }
   ],
   "source": [
    "for m in response['messages']:\n",
    "    m.pretty_print()"
   ]
  },
  {
   "cell_type": "code",
   "execution_count": 46,
   "metadata": {},
   "outputs": [
    {
     "name": "stdout",
     "output_type": "stream",
     "text": [
      "================================\u001b[1m Human Message \u001b[0m=================================\n",
      "\n",
      "What is the square root of 9843765983475?\n",
      "==================================\u001b[1m Ai Message \u001b[0m==================================\n",
      "Tool Calls:\n",
      "  sqrt (fc_13a8ea6a-2c75-4f29-9a7b-7b24e78f33d6)\n",
      " Call ID: fc_13a8ea6a-2c75-4f29-9a7b-7b24e78f33d6\n",
      "  Args:\n",
      "    a: 9843765983475\n",
      "=================================\u001b[1m Tool Message \u001b[0m=================================\n",
      "Name: sqrt\n",
      "\n",
      "3137477.646689296\n"
     ]
    }
   ],
   "source": [
    "\n",
    "response=graph.invoke({\"messages\":\"What is the square root of 9843765983475?\"})\n",
    "for m in response['messages']:\n",
    "    m.pretty_print()"
   ]
  },
  {
   "cell_type": "markdown",
   "metadata": {},
   "source": [
    "# ReAct Agent Architecture "
   ]
  },
  {
   "cell_type": "code",
   "execution_count": 63,
   "metadata": {},
   "outputs": [
    {
     "data": {
      "image/png": "[encoded data removed]",
      "text/plain": [
       "<IPython.core.display.Image object>"
      ]
     },
     "metadata": {},
     "output_type": "display_data"
    }
   ],
   "source": [
    "## Stategraph\n",
    "from langgraph.graph import StateGraph,START,END\n",
    "from langgraph.prebuilt import ToolNode\n",
    "from langgraph.prebuilt import tools_condition\n",
    "\n",
    "## Node definition\n",
    "def tool_calling_llm(state:State):\n",
    "    return {\"messages\":[llm_with_tool.invoke(state[\"messages\"])]}\n",
    "\n",
    "## Grpah\n",
    "builder=StateGraph(State)\n",
    "builder.add_node(\"tool_calling_llm\",tool_calling_llm)\n",
    "builder.add_node(\"tools\",ToolNode(tools))\n",
    "\n",
    "## Add Edges\n",
    "builder.add_edge(START, \"tool_calling_llm\")\n",
    "builder.add_conditional_edges(\n",
    "    \"tool_calling_llm\",\n",
    "    # If the latest message (result) from assistant is a tool call -> tools_condition routes to tools\n",
    "    # If the latest message (result) from assistant is a not a tool call -> tools_condition routes to END\n",
    "    tools_condition\n",
    ")\n",
    "builder.add_edge(\"tools\",\"tool_calling_llm\")\n",
    "\n",
    "## compile the graph\n",
    "graph=builder.compile()\n",
    "\n",
    "from IPython.display import Image, display\n",
    "display(Image(graph.get_graph().draw_mermaid_png()))"
   ]
  },
  {
   "cell_type": "code",
   "execution_count": 66,
   "metadata": {},
   "outputs": [],
   "source": [
    "response=graph.invoke({\"messages\":\"Can you write simple code in sympy to calculate roots of an equation\"})"
   ]
  },
  {
   "cell_type": "code",
   "execution_count": 67,
   "metadata": {},
   "outputs": [
    {
     "data": {
      "text/plain": [
       "{'messages': [HumanMessage(content='Can you write simple code in sympy to calculate roots of an equation', additional_kwargs={}, response_metadata={}, id='ed6a3730-f7b5-47a3-a8c4-f9c85251dcc7'),\n",
       "  AIMessage(content='Sure! Below is a short, self‑contained example that shows how to use **SymPy** (the Python symbolic mathematics library) to find the roots of an algebraic equation.\\n\\n```python\\n# -------------------------------------------------\\n#  SymPy – Finding the roots of an equation\\n# -------------------------------------------------\\n#  1. Install SymPy (if you haven\\'t already):\\n#       pip install sympy\\n#\\n#  2. Run the script / paste it into a Jupyter notebook.\\n# -------------------------------------------------\\n\\nimport sympy as sp\\n\\n# -------------------------------------------------\\n#  Define the symbolic variable(s)\\n# -------------------------------------------------\\nx = sp.Symbol(\\'x\\')          # the variable we will solve for\\n\\n# -------------------------------------------------\\n#  Write the equation you want to solve.\\n#  Example:  x**3 - 6*x**2 + 11*x - 6 = 0\\n# -------------------------------------------------\\neq = x**3 - 6*x**2 + 11*x - 6   # left‑hand side of the equation\\n\\n# -------------------------------------------------\\n#  Compute the roots\\n# -------------------------------------------------\\nroots = sp.solve(eq, x)        # solve(eq, x) returns a list of solutions\\n\\n# -------------------------------------------------\\n#  Display the results\\n# -------------------------------------------------\\nprint(\"Equation:   \", sp.Eq(eq, 0))\\nprint(\"Roots:      \", roots)\\n\\n# -------------------------------------------------\\n#  Optional: factor the polynomial to see the roots\\n# -------------------------------------------------\\nfactored = sp.factor(eq)\\nprint(\"Factored form:\", factored)\\n```\\n\\n### What the code does\\n\\n| Step | Explanation |\\n|------|-------------|\\n| **Import** | Brings the `sympy` module into the namespace. |\\n| **Symbol** | Declares `x` as a symbolic variable that SymPy can manipulate algebraically. |\\n| **Equation** | Constructs the left‑hand side of the equation you want to solve. (You can replace the polynomial with any expression.) |\\n| **solve** | `sp.solve(expr, var)` finds all values of `var` that satisfy `expr = 0`. It returns a Python list of exact (symbolic) solutions. |\\n| **Print** | Shows the original equation, the list of roots, and (optionally) the factorised form, which makes the roots obvious. |\\n\\n### Trying other equations\\n\\nJust change the definition of `eq` (or add more symbols) to solve different problems, e.g.:\\n\\n```python\\n# Quadratic equation: 2*x**2 - 5*x + 2 = 0\\neq = 2*x**2 - 5*x + 2\\n```\\n\\nor a system of equations:\\n\\n```python\\ny = sp.Symbol(\\'y\\')\\neq1 = x + y - 3\\neq2 = x**2 + y**2 - 9\\nsolutions = sp.solve((eq1, eq2), (x, y))\\nprint(solutions)   # → [(x, y) pairs that satisfy both equations]\\n```\\n\\n### Notes\\n\\n* **Exact vs. numeric** – `solve` returns exact symbolic results (fractions, radicals, etc.). If you need floating‑point approximations, call `n()` on the result:\\n\\n  ```python\\n  numeric_roots = [r.n() for r in roots]\\n  print(numeric_roots)\\n  ```\\n\\n* **Higher‑degree polynomials** – SymPy can handle polynomials up to degree 4 analytically. For degree\\u202f5 and higher it may return roots in terms of `RootOf` objects, which can be numerically evaluated with `.evalf()`.\\n\\nThat’s all there is to it—just a few lines of code and you can find the roots of virtually any algebraic equation with SymPy!', additional_kwargs={'reasoning_content': 'The user asks: \"Can you write simple code in sympy to calculate roots of an equation\". We need to respond with simple Sympy code example. No need to browse. Provide explanation.'}, response_metadata={'token_usage': {'completion_tokens': 816, 'prompt_tokens': 1391, 'total_tokens': 2207, 'completion_time': 1.6227620200000001, 'prompt_time': 0.050882895, 'queue_time': 0.186606083, 'total_time': 1.6736449150000001}, 'model_name': 'openai/gpt-oss-120b', 'system_fingerprint': 'fp_82669fd91d', 'service_tier': 'on_demand', 'finish_reason': 'stop', 'logprobs': None}, id='run--8bed41bb-898c-4511-a39a-9a1f43cb3ba0-0', usage_metadata={'input_tokens': 1391, 'output_tokens': 816, 'total_tokens': 2207})]}"
      ]
     },
     "execution_count": 67,
     "metadata": {},
     "output_type": "execute_result"
    }
   ],
   "source": [
    "response"
   ]
  },
  {
   "cell_type": "code",
   "execution_count": 68,
   "metadata": {},
   "outputs": [
    {
     "name": "stdout",
     "output_type": "stream",
     "text": [
      "================================\u001b[1m Human Message \u001b[0m=================================\n",
      "\n",
      "Can you write simple code in sympy to calculate roots of an equation\n",
      "==================================\u001b[1m Ai Message \u001b[0m==================================\n",
      "\n",
      "Sure! Below is a short, self‑contained example that shows how to use **SymPy** (the Python symbolic mathematics library) to find the roots of an algebraic equation.\n",
      "\n",
      "```python\n",
      "# -------------------------------------------------\n",
      "#  SymPy – Finding the roots of an equation\n",
      "# -------------------------------------------------\n",
      "#  1. Install SymPy (if you haven't already):\n",
      "#       pip install sympy\n",
      "#\n",
      "#  2. Run the script / paste it into a Jupyter notebook.\n",
      "# -------------------------------------------------\n",
      "\n",
      "import sympy as sp\n",
      "\n",
      "# -------------------------------------------------\n",
      "#  Define the symbolic variable(s)\n",
      "# -------------------------------------------------\n",
      "x = sp.Symbol('x')          # the variable we will solve for\n",
      "\n",
      "# -------------------------------------------------\n",
      "#  Write the equation you want to solve.\n",
      "#  Example:  x**3 - 6*x**2 + 11*x - 6 = 0\n",
      "# -------------------------------------------------\n",
      "eq = x**3 - 6*x**2 + 11*x - 6   # left‑hand side of the equation\n",
      "\n",
      "# -------------------------------------------------\n",
      "#  Compute the roots\n",
      "# -------------------------------------------------\n",
      "roots = sp.solve(eq, x)        # solve(eq, x) returns a list of solutions\n",
      "\n",
      "# -------------------------------------------------\n",
      "#  Display the results\n",
      "# -------------------------------------------------\n",
      "print(\"Equation:   \", sp.Eq(eq, 0))\n",
      "print(\"Roots:      \", roots)\n",
      "\n",
      "# -------------------------------------------------\n",
      "#  Optional: factor the polynomial to see the roots\n",
      "# -------------------------------------------------\n",
      "factored = sp.factor(eq)\n",
      "print(\"Factored form:\", factored)\n",
      "```\n",
      "\n",
      "### What the code does\n",
      "\n",
      "| Step | Explanation |\n",
      "|------|-------------|\n",
      "| **Import** | Brings the `sympy` module into the namespace. |\n",
      "| **Symbol** | Declares `x` as a symbolic variable that SymPy can manipulate algebraically. |\n",
      "| **Equation** | Constructs the left‑hand side of the equation you want to solve. (You can replace the polynomial with any expression.) |\n",
      "| **solve** | `sp.solve(expr, var)` finds all values of `var` that satisfy `expr = 0`. It returns a Python list of exact (symbolic) solutions. |\n",
      "| **Print** | Shows the original equation, the list of roots, and (optionally) the factorised form, which makes the roots obvious. |\n",
      "\n",
      "### Trying other equations\n",
      "\n",
      "Just change the definition of `eq` (or add more symbols) to solve different problems, e.g.:\n",
      "\n",
      "```python\n",
      "# Quadratic equation: 2*x**2 - 5*x + 2 = 0\n",
      "eq = 2*x**2 - 5*x + 2\n",
      "```\n",
      "\n",
      "or a system of equations:\n",
      "\n",
      "```python\n",
      "y = sp.Symbol('y')\n",
      "eq1 = x + y - 3\n",
      "eq2 = x**2 + y**2 - 9\n",
      "solutions = sp.solve((eq1, eq2), (x, y))\n",
      "print(solutions)   # → [(x, y) pairs that satisfy both equations]\n",
      "```\n",
      "\n",
      "### Notes\n",
      "\n",
      "* **Exact vs. numeric** – `solve` returns exact symbolic results (fractions, radicals, etc.). If you need floating‑point approximations, call `n()` on the result:\n",
      "\n",
      "  ```python\n",
      "  numeric_roots = [r.n() for r in roots]\n",
      "  print(numeric_roots)\n",
      "  ```\n",
      "\n",
      "* **Higher‑degree polynomials** – SymPy can handle polynomials up to degree 4 analytically. For degree 5 and higher it may return roots in terms of `RootOf` objects, which can be numerically evaluated with `.evalf()`.\n",
      "\n",
      "That’s all there is to it—just a few lines of code and you can find the roots of virtually any algebraic equation with SymPy!\n"
     ]
    }
   ],
   "source": [
    "for m in response['messages']:\n",
    "    m.pretty_print()"
   ]
  },
  {
   "cell_type": "code",
   "execution_count": 48,
   "metadata": {},
   "outputs": [
    {
     "name": "stdout",
     "output_type": "stream",
     "text": [
      "================================\u001b[1m Human Message \u001b[0m=================================\n",
      "\n",
      "Give me the recent ai news and then tell me the square root of 81\n",
      "==================================\u001b[1m Ai Message \u001b[0m==================================\n",
      "Tool Calls:\n",
      "  tavily_search (fc_23b30b46-3fc4-431d-b7d8-16c8fb0d788b)\n",
      " Call ID: fc_23b30b46-3fc4-431d-b7d8-16c8fb0d788b\n",
      "  Args:\n",
      "    query: latest AI news\n",
      "    search_depth: advanced\n",
      "    time_range: week\n",
      "    topic: news\n",
      "=================================\u001b[1m Tool Message \u001b[0m=================================\n",
      "Name: tavily_search\n",
      "\n",
      "{\"query\": \"latest AI news\", \"follow_up_questions\": null, \"answer\": null, \"images\": [], \"results\": [{\"url\": \"https://www.finextra.com/newsarticle/46539/banks-set-to-accelerate-spend-on-ai-as-productivity-surges\", \"title\": \"Banks set to accelerate spend on AI as productivity surges - Finextra Research\", \"score\": 0.76385427, \"published_date\": \"Wed, 03 Sep 2025 23:02:11 GMT\", \"content\": \"/ai### Lloyds puts leadership team through AI training programme25 March 2025\\n/security### Lloyds Banking Group patents AI-powered cybersecurity tech03 March 2025\\n/people### Lloyds appoints head of responsible AI31 January 2025\\n/ai### Lloyds to use AI to automate trade finance checks04 September 2024\\n/people### Lloyds hires AWS exec to head up new AI and analytics unit05 August 2024 [...] /ai### Lloyds trumpets GenAI knowledge hub's impact15 July 2025\\n/ai### Lloyds to run two-month Data and AI Summer School for employees09 July 2025\\n/ai### Lloyds Banking Group to test neurosymbolic AI02 July 2025\\n/people### Lloyds appoints head of agentic AI28 May 2025\\n/ai### Aveni launches FinLLM with backing from Lloyds and Nationwide19 May 2025\\n/ai### Lloyds Banking Group accelerates AI development with Google Cloud10 April 2025 [...] Earlier this year, Lloyds revealed that it was building a new machine learning and GenAI platform using Google Cloud’s Vertex AI. The bank says it expects the technology to bring in at least £50 million in revenue growth and productivity improvements in 2025.\\n\\n Rohit Dhawan, director of AI and advanced analytics at Lloyds Banking Group, says the bank now have over 800 models in operation, representing more than 200 AI use cases.\", \"raw_content\": null}, {\"url\": \"https://futurism.com/china-ai-deepseek-everywhere\", \"title\": \"China Is Suddenly Deploying AI Everywhere - Futurism\", \"score\": 0.62523276, \"published_date\": \"Sun, 07 Sep 2025 12:15:19 GMT\", \"content\": \"Last week, the Chinese State Council unveiled its ten-year plan to fully integrate AI into every aspect of the country's economy by 2035. Called \\\"AI+,\\\" the ambitious plan sees AI becoming a \\\"key growth engine for the country's economic development,\\\" a transformation mirroring that of the internet age. [...] As the WSJnoted, earlier this year the central government launched an AI investment fund worth some $8.4 billion, to support practical startups in conjunction with various funds run by local governments and state banks.\\n\\n\\\"They [China] see highly impactful AI applications not as something to theorize about in the future but as something to take advantage of here and now,\\\" Julian Gewirtz, a former security official with the Biden administration told the WSJ. [...] In practice, this means the internet is being flooded with algorithmic slop. In the meantime, the US government is focusing $500 billion worth of its attention on developing a massive AI infrastructure project, in the hopes that it will bring the country that much closer to human-level artificial intelligence.\\n\\nIn China, meanwhile, that kind of state backing is reserved for companies working on pragmatic uses for AI.\", \"raw_content\": null}], \"response_time\": 1.01, \"request_id\": \"6c9a5d4e-42f0-42ff-8ea2-490a5c16d287\"}\n",
      "==================================\u001b[1m Ai Message \u001b[0m==================================\n",
      "Tool Calls:\n",
      "  sqrt (fc_7eac2fd7-8f86-4b38-94cd-4156b53686bc)\n",
      " Call ID: fc_7eac2fd7-8f86-4b38-94cd-4156b53686bc\n",
      "  Args:\n",
      "    a: 81\n",
      "=================================\u001b[1m Tool Message \u001b[0m=================================\n",
      "Name: sqrt\n",
      "\n",
      "9.0\n",
      "==================================\u001b[1m Ai Message \u001b[0m==================================\n",
      "\n",
      "**Recent AI News (last week)**  \n",
      "\n",
      "| Source | Headline / Focus | Key Take‑aways (Sept 2025) |\n",
      "|--------|------------------|----------------------------|\n",
      "| **Finextra – “Banks set to accelerate spend on AI as productivity surges”** | Lloyds Banking Group is rolling out a large‑scale AI program across the bank. | • Over 800 AI models are already in production, covering >200 use‑cases.<br>• New GenAI knowledge hub and two‑month “Data & AI Summer School” for staff aim to boost AI literacy.<br>• The bank expects at least **£50 million** of revenue growth and productivity gains in 2025 from the AI platform built on Google Cloud’s Vertex AI. |\n",
      "| **Futurism – “China Is Suddenly Deploying AI Everywhere”** | China’s State Council unveiled a ten‑year “AI+” plan to embed artificial intelligence in every sector by 2035. | • The plan treats AI as a “key growth engine” and is backed by an **$8.4 billion** state‑fund for AI‑focused startups.<br>• The government is pushing rapid, pragmatic AI deployments (e.g., in finance, manufacturing, public services).<br>• By contrast, the U.S. is channeling **$500 billion** into a national AI infrastructure project aimed at reaching human‑level AI. |\n",
      "\n",
      "**Bottom line:**  \n",
      "- **Financial institutions** (exemplified by Lloyds) are rapidly scaling AI to drive productivity and new revenue streams.  \n",
      "- **Governments** (notably China) are making AI a strategic, economy‑wide priority, pouring billions into both research and commercial rollout.\n",
      "\n",
      "---\n",
      "\n",
      "**Square root of 81**\n",
      "\n",
      "\\[\n",
      "\\sqrt{81}=9\n",
      "\\]\n"
     ]
    }
   ],
   "source": [
    "response=graph.invoke({\"messages\":\"Give me the recent ai news and then tell me the square root of 81\"})\n",
    "for m in response['messages']:\n",
    "    m.pretty_print()"
   ]
  },
  {
   "cell_type": "code",
   "execution_count": 49,
   "metadata": {},
   "outputs": [
    {
     "name": "stdout",
     "output_type": "stream",
     "text": [
      "================================\u001b[1m Human Message \u001b[0m=================================\n",
      "\n",
      "Hello my name is Rutvi\n",
      "==================================\u001b[1m Ai Message \u001b[0m==================================\n",
      "\n",
      "Hello Rutvi! 👋 Nice to meet you. How can I assist you today?\n"
     ]
    }
   ],
   "source": [
    "response=graph.invoke({\"messages\":\"Hello my name is Rutvi\"})\n",
    "for m in response['messages']:\n",
    "    m.pretty_print()"
   ]
  },
  {
   "cell_type": "code",
   "execution_count": 50,
   "metadata": {},
   "outputs": [
    {
     "name": "stdout",
     "output_type": "stream",
     "text": [
      "================================\u001b[1m Human Message \u001b[0m=================================\n",
      "\n",
      "What is my name\n",
      "==================================\u001b[1m Ai Message \u001b[0m==================================\n",
      "\n",
      "I’m sorry, but I don’t have any information about your name. If you’d like me to address you by a particular name, just let me know!\n"
     ]
    }
   ],
   "source": [
    "response=graph.invoke({\"messages\":\"What is my name\"})\n",
    "for m in response['messages']:\n",
    "    m.pretty_print()"
   ]
  },
  {
   "cell_type": "code",
   "execution_count": 51,
   "metadata": {},
   "outputs": [
    {
     "data": {
      "image/png": "[encoded data removed]",
      "text/plain": [
       "<IPython.core.display.Image object>"
      ]
     },
     "metadata": {},
     "output_type": "display_data"
    }
   ],
   "source": [
    "## Stategraph\n",
    "from langgraph.graph import StateGraph,START,END\n",
    "from langgraph.prebuilt import ToolNode\n",
    "from langgraph.prebuilt import tools_condition\n",
    "from langgraph.checkpoint.memory import MemorySaver\n",
    "\n",
    "memory = MemorySaver()\n",
    "\n",
    "## Node definition\n",
    "def tool_calling_llm(state:State):\n",
    "    return {\"messages\":[llm_with_tool.invoke(state[\"messages\"])]}\n",
    "\n",
    "## Grpah\n",
    "builder=StateGraph(State)\n",
    "builder.add_node(\"tool_calling_llm\",tool_calling_llm)\n",
    "builder.add_node(\"tools\",ToolNode(tools))\n",
    "\n",
    "## Add Edges\n",
    "builder.add_edge(START, \"tool_calling_llm\")\n",
    "builder.add_conditional_edges(\n",
    "    \"tool_calling_llm\",\n",
    "    # If the latest message (result) from assistant is a tool call -> tools_condition routes to tools\n",
    "    # If the latest message (result) from assistant is a not a tool call -> tools_condition routes to END\n",
    "    tools_condition\n",
    ")\n",
    "builder.add_edge(\"tools\",\"tool_calling_llm\")\n",
    "\n",
    "## compile the graph\n",
    "graph=builder.compile(checkpointer=memory)\n",
    "\n",
    "from IPython.display import Image, display\n",
    "display(Image(graph.get_graph().draw_mermaid_png()))"
   ]
  },
  {
   "cell_type": "code",
   "execution_count": 54,
   "metadata": {},
   "outputs": [
    {
     "data": {
      "text/plain": [
       "{'messages': [HumanMessage(content='Hi my name is Rutvi', additional_kwargs={}, response_metadata={}, id='0eaf4135-b847-46b9-a04e-b0d58a91f090'),\n",
       "  AIMessage(content='Hello Rutvi! 👋 Nice to meet you. I’m ChatGPT—here to help with answers, ideas, or anything you’d like to chat about. How can I assist you today?', additional_kwargs={'reasoning_content': 'The user says \"Hi my name is Rutvi\". We should respond friendly, introduce ourselves, maybe ask how can help.'}, response_metadata={'token_usage': {'completion_tokens': 75, 'prompt_tokens': 1383, 'total_tokens': 1458, 'completion_time': 0.149476523, 'prompt_time': 0.05083327, 'queue_time': 0.186275343, 'total_time': 0.200309793}, 'model_name': 'openai/gpt-oss-120b', 'system_fingerprint': 'fp_213abb2467', 'service_tier': 'on_demand', 'finish_reason': 'stop', 'logprobs': None}, id='run--b0352e5f-fb5e-4989-9ce7-750aea4ee828-0', usage_metadata={'input_tokens': 1383, 'output_tokens': 75, 'total_tokens': 1458})]}"
      ]
     },
     "execution_count": 54,
     "metadata": {},
     "output_type": "execute_result"
    }
   ],
   "source": [
    "config={\"configurable\":{\"thread_id\":\"2\"}}\n",
    "\n",
    "response=graph.invoke({\"messages\":\"Hi my name is Rutvi\"},config=config)\n",
    "\n",
    "response"
   ]
  },
  {
   "cell_type": "code",
   "execution_count": 55,
   "metadata": {},
   "outputs": [
    {
     "name": "stdout",
     "output_type": "stream",
     "text": [
      "Your name is Rutvi! 🌟 How can I help you today?\n"
     ]
    }
   ],
   "source": [
    "response=graph.invoke({\"messages\":\"Hey what is my name\"},config=config)\n",
    "\n",
    "print(response['messages'][-1].content)"
   ]
  },
  {
   "cell_type": "code",
   "execution_count": 56,
   "metadata": {},
   "outputs": [],
   "source": [
    "\n",
    "from langgraph.checkpoint.memory import MemorySaver\n",
    "memory=MemorySaver()"
   ]
  },
  {
   "cell_type": "code",
   "execution_count": 57,
   "metadata": {},
   "outputs": [],
   "source": [
    "def superbot(state:State):\n",
    "    return {\"messages\":[llm.invoke(state['messages'])]}"
   ]
  },
  {
   "cell_type": "code",
   "execution_count": 58,
   "metadata": {},
   "outputs": [
    {
     "data": {
      "image/png": "[encoded data removed]",
      "text/plain": [
       "<IPython.core.display.Image object>"
      ]
     },
     "metadata": {},
     "output_type": "display_data"
    }
   ],
   "source": [
    "graph=StateGraph(State)\n",
    "\n",
    "## node\n",
    "graph.add_node(\"SuperBot\",superbot)\n",
    "## Edges\n",
    "\n",
    "graph.add_edge(START,\"SuperBot\")\n",
    "graph.add_edge(\"SuperBot\",END)\n",
    "\n",
    "\n",
    "graph_builder=graph.compile(checkpointer=memory)\n",
    "\n",
    "\n",
    "## Display\n",
    "from IPython.display import Image, display\n",
    "display(Image(graph_builder.get_graph().draw_mermaid_png()))"
   ]
  },
  {
   "cell_type": "code",
   "execution_count": 59,
   "metadata": {},
   "outputs": [
    {
     "data": {
      "text/plain": [
       "{'messages': [HumanMessage(content='Hi,My name is Rutvi And I like Surfing', additional_kwargs={}, response_metadata={}, id='0ba44bc3-4d0b-4be1-a0a9-c9f77f946237'),\n",
       "  AIMessage(content=\"Hello Rutvi! 👋 Great to meet you. Surfing sounds like an awesome hobby—there’s something magical about catching a wave and feeling that rush. Do you have a favorite spot you like to surf, or are you just getting started? I'd love to hear more about your surfing adventures!\", additional_kwargs={'reasoning_content': 'We need to respond as ChatGPT. The user says \"Hi, My name is Rutvi And I like Surfing\". Probably respond friendly, ask about surfing, etc. No policy issues.'}, response_metadata={'token_usage': {'completion_tokens': 109, 'prompt_tokens': 83, 'total_tokens': 192, 'completion_time': 0.216779086, 'prompt_time': 0.002895762, 'queue_time': 0.186194118, 'total_time': 0.219674848}, 'model_name': 'openai/gpt-oss-120b', 'system_fingerprint': 'fp_82669fd91d', 'service_tier': 'on_demand', 'finish_reason': 'stop', 'logprobs': None}, id='run--30f1df8f-b578-466a-823f-dc32d44715b1-0', usage_metadata={'input_tokens': 83, 'output_tokens': 109, 'total_tokens': 192})]}"
      ]
     },
     "execution_count": 59,
     "metadata": {},
     "output_type": "execute_result"
    }
   ],
   "source": [
    "## Invocation\n",
    "\n",
    "config = {\"configurable\": {\"thread_id\": \"1\"}}\n",
    "\n",
    "graph_builder.invoke({'messages':\"Hi,My name is Rutvi And I like Surfing\"},config)\n"
   ]
  },
  {
   "cell_type": "code",
   "execution_count": 60,
   "metadata": {},
   "outputs": [
    {
     "name": "stdout",
     "output_type": "stream",
     "text": [
      "{'SuperBot': {'messages': [AIMessage(content='Hello Rutvi! 👋 Great to meet you. Surfing sounds like an amazing hobby—there’s something special about riding the waves and feeling that blend of freedom and focus. \\n\\nDo you have a favorite spot you like to surf, or are you looking for tips on gear, techniques, or maybe some new surf destinations? I’d love to hear more about your surfing adventures! 🌊🏄\\u200d♂️', additional_kwargs={'reasoning_content': 'We need to respond as ChatGPT. The user says \"Hi, My name is Rutvi And I like Surfing\". Probably respond friendly, ask about surfing, etc. No policy issues.'}, response_metadata={'token_usage': {'completion_tokens': 133, 'prompt_tokens': 83, 'total_tokens': 216, 'completion_time': 0.264489985, 'prompt_time': 0.002924232, 'queue_time': 0.186231207, 'total_time': 0.267414217}, 'model_name': 'openai/gpt-oss-120b', 'system_fingerprint': 'fp_3a688838c3', 'service_tier': 'on_demand', 'finish_reason': 'stop', 'logprobs': None}, id='run--ebe88b07-0936-4849-b019-0cde3fc2d240-0', usage_metadata={'input_tokens': 83, 'output_tokens': 133, 'total_tokens': 216})]}}\n"
     ]
    }
   ],
   "source": [
    "\n",
    "# Create a thread\n",
    "config = {\"configurable\": {\"thread_id\": \"3\"}}\n",
    "\n",
    "for chunk in graph_builder.stream({'messages':\"Hi,My name is Rutvi And I like Surfing\"},config,stream_mode=\"updates\"):\n",
    "    print(chunk)"
   ]
  },
  {
   "cell_type": "code",
   "execution_count": 61,
   "metadata": {},
   "outputs": [
    {
     "name": "stdout",
     "output_type": "stream",
     "text": [
      "{'messages': [HumanMessage(content='Hi,My name is Rutvi And I like Surfing', additional_kwargs={}, response_metadata={}, id='76714ad5-332f-42dd-9a93-55c78817c58f'), AIMessage(content='Hello Rutvi! 👋 Great to meet you. Surfing sounds like an amazing hobby—there’s something special about riding the waves and feeling that blend of freedom and focus. \\n\\nDo you have a favorite spot you like to surf, or are you looking for tips on gear, techniques, or maybe some new surf destinations? I’d love to hear more about your surfing adventures! 🌊🏄\\u200d♂️', additional_kwargs={'reasoning_content': 'We need to respond as ChatGPT. The user says \"Hi, My name is Rutvi And I like Surfing\". Probably respond friendly, ask about surfing, etc. No policy issues.'}, response_metadata={'token_usage': {'completion_tokens': 133, 'prompt_tokens': 83, 'total_tokens': 216, 'completion_time': 0.264489985, 'prompt_time': 0.002924232, 'queue_time': 0.186231207, 'total_time': 0.267414217}, 'model_name': 'openai/gpt-oss-120b', 'system_fingerprint': 'fp_3a688838c3', 'service_tier': 'on_demand', 'finish_reason': 'stop', 'logprobs': None}, id='run--ebe88b07-0936-4849-b019-0cde3fc2d240-0', usage_metadata={'input_tokens': 83, 'output_tokens': 133, 'total_tokens': 216}), HumanMessage(content='Hi,My name is Rutvi And I like Surfing', additional_kwargs={}, response_metadata={}, id='48a35dfd-94d7-44c2-ab7f-fcc68ea131d7')]}\n",
      "{'messages': [HumanMessage(content='Hi,My name is Rutvi And I like Surfing', additional_kwargs={}, response_metadata={}, id='76714ad5-332f-42dd-9a93-55c78817c58f'), AIMessage(content='Hello Rutvi! 👋 Great to meet you. Surfing sounds like an amazing hobby—there’s something special about riding the waves and feeling that blend of freedom and focus. \\n\\nDo you have a favorite spot you like to surf, or are you looking for tips on gear, techniques, or maybe some new surf destinations? I’d love to hear more about your surfing adventures! 🌊🏄\\u200d♂️', additional_kwargs={'reasoning_content': 'We need to respond as ChatGPT. The user says \"Hi, My name is Rutvi And I like Surfing\". Probably respond friendly, ask about surfing, etc. No policy issues.'}, response_metadata={'token_usage': {'completion_tokens': 133, 'prompt_tokens': 83, 'total_tokens': 216, 'completion_time': 0.264489985, 'prompt_time': 0.002924232, 'queue_time': 0.186231207, 'total_time': 0.267414217}, 'model_name': 'openai/gpt-oss-120b', 'system_fingerprint': 'fp_3a688838c3', 'service_tier': 'on_demand', 'finish_reason': 'stop', 'logprobs': None}, id='run--ebe88b07-0936-4849-b019-0cde3fc2d240-0', usage_metadata={'input_tokens': 83, 'output_tokens': 133, 'total_tokens': 216}), HumanMessage(content='Hi,My name is Rutvi And I like Surfing', additional_kwargs={}, response_metadata={}, id='48a35dfd-94d7-44c2-ab7f-fcc68ea131d7'), AIMessage(content='Hey Rutvi! 👋 Great to meet you. Surfing is such an awesome way to connect with the ocean and catch some serious thrills.\\n\\nDo you have a favorite break you ride most often?  \\nOr maybe you’re looking for tips on:\\n\\n* Choosing the right board for your skill level  \\n* Improving your paddling and pop‑up technique  \\n* Spotting the best surf conditions (tide, swell, wind)  \\n* Finding new surf spots—whether it’s a local hidden gem or a bucket‑list destination  \\n\\nLet me know what you’re interested in, and we can dive right in! 🌊🏄\\u200d♂️', additional_kwargs={'reasoning_content': 'The user repeats the same intro. Possibly wants a response acknowledging and maybe ask about surfing. Should respond friendly, ask more details.'}, response_metadata={'token_usage': {'completion_tokens': 166, 'prompt_tokens': 189, 'total_tokens': 355, 'completion_time': 0.330553024, 'prompt_time': 0.006803007, 'queue_time': 0.186219715, 'total_time': 0.337356031}, 'model_name': 'openai/gpt-oss-120b', 'system_fingerprint': 'fp_213abb2467', 'service_tier': 'on_demand', 'finish_reason': 'stop', 'logprobs': None}, id='run--2a5247da-1087-487f-9568-07d535749592-0', usage_metadata={'input_tokens': 189, 'output_tokens': 166, 'total_tokens': 355})]}\n"
     ]
    }
   ],
   "source": [
    "for chunk in graph_builder.stream({'messages':\"Hi,My name is Rutvi And I like Surfing\"},config,stream_mode=\"values\"):\n",
    "    print(chunk)"
   ]
  },
  {
   "cell_type": "code",
   "execution_count": 62,
   "metadata": {},
   "outputs": [
    {
     "name": "stdout",
     "output_type": "stream",
     "text": [
      "{'event': 'on_chain_start', 'data': {'input': {'messages': ['Hi,My name is Rutvi And I like Surfing']}}, 'name': 'LangGraph', 'tags': [], 'run_id': 'e9c8ccb5-8522-4735-85c5-21e63e0d488e', 'metadata': {'thread_id': '5'}, 'parent_ids': []}\n",
      "{'event': 'on_chain_start', 'data': {'input': {'messages': [HumanMessage(content='Hi,My name is Rutvi And I like Surfing', additional_kwargs={}, response_metadata={}, id='5694ed12-aec2-4e4f-88a2-be72061f84f8')]}}, 'name': 'SuperBot', 'tags': ['graph:step:1'], 'run_id': '7a51946f-4b8d-46c3-a10b-75445a4219d0', 'metadata': {'thread_id': '5', 'langgraph_step': 1, 'langgraph_node': 'SuperBot', 'langgraph_triggers': ('branch:to:SuperBot',), 'langgraph_path': ('__pregel_pull', 'SuperBot'), 'langgraph_checkpoint_ns': 'SuperBot:ee084c3b-af32-59e1-eecc-a45ee84b2b82'}, 'parent_ids': ['e9c8ccb5-8522-4735-85c5-21e63e0d488e']}\n",
      "{'event': 'on_chat_model_start', 'data': {'input': {'messages': [[HumanMessage(content='Hi,My name is Rutvi And I like Surfing', additional_kwargs={}, response_metadata={}, id='5694ed12-aec2-4e4f-88a2-be72061f84f8')]]}}, 'name': 'ChatGroq', 'tags': ['seq:step:1'], 'run_id': '0f108b1c-38d2-40da-a641-d3d3bd8b1fca', 'metadata': {'thread_id': '5', 'langgraph_step': 1, 'langgraph_node': 'SuperBot', 'langgraph_triggers': ('branch:to:SuperBot',), 'langgraph_path': ('__pregel_pull', 'SuperBot'), 'langgraph_checkpoint_ns': 'SuperBot:ee084c3b-af32-59e1-eecc-a45ee84b2b82', 'checkpoint_ns': 'SuperBot:ee084c3b-af32-59e1-eecc-a45ee84b2b82', 'ls_provider': 'groq', 'ls_model_name': 'openai/gpt-oss-120b', 'ls_model_type': 'chat', 'ls_temperature': 0.7}, 'parent_ids': ['e9c8ccb5-8522-4735-85c5-21e63e0d488e', '7a51946f-4b8d-46c3-a10b-75445a4219d0']}\n",
      "{'event': 'on_chat_model_stream', 'data': {'chunk': AIMessageChunk(content='', additional_kwargs={}, response_metadata={}, id='run--0f108b1c-38d2-40da-a641-d3d3bd8b1fca')}, 'run_id': '0f108b1c-38d2-40da-a641-d3d3bd8b1fca', 'name': 'ChatGroq', 'tags': ['seq:step:1'], 'metadata': {'thread_id': '5', 'langgraph_step': 1, 'langgraph_node': 'SuperBot', 'langgraph_triggers': ('branch:to:SuperBot',), 'langgraph_path': ('__pregel_pull', 'SuperBot'), 'langgraph_checkpoint_ns': 'SuperBot:ee084c3b-af32-59e1-eecc-a45ee84b2b82', 'checkpoint_ns': 'SuperBot:ee084c3b-af32-59e1-eecc-a45ee84b2b82', 'ls_provider': 'groq', 'ls_model_name': 'openai/gpt-oss-120b', 'ls_model_type': 'chat', 'ls_temperature': 0.7}, 'parent_ids': ['e9c8ccb5-8522-4735-85c5-21e63e0d488e', '7a51946f-4b8d-46c3-a10b-75445a4219d0']}\n",
      "{'event': 'on_chat_model_stream', 'data': {'chunk': AIMessageChunk(content='', additional_kwargs={'reasoning_content': 'We'}, response_metadata={}, id='run--0f108b1c-38d2-40da-a641-d3d3bd8b1fca')}, 'run_id': '0f108b1c-38d2-40da-a641-d3d3bd8b1fca', 'name': 'ChatGroq', 'tags': ['seq:step:1'], 'metadata': {'thread_id': '5', 'langgraph_step': 1, 'langgraph_node': 'SuperBot', 'langgraph_triggers': ('branch:to:SuperBot',), 'langgraph_path': ('__pregel_pull', 'SuperBot'), 'langgraph_checkpoint_ns': 'SuperBot:ee084c3b-af32-59e1-eecc-a45ee84b2b82', 'checkpoint_ns': 'SuperBot:ee084c3b-af32-59e1-eecc-a45ee84b2b82', 'ls_provider': 'groq', 'ls_model_name': 'openai/gpt-oss-120b', 'ls_model_type': 'chat', 'ls_temperature': 0.7}, 'parent_ids': ['e9c8ccb5-8522-4735-85c5-21e63e0d488e', '7a51946f-4b8d-46c3-a10b-75445a4219d0']}\n",
      "{'event': 'on_chat_model_stream', 'data': {'chunk': AIMessageChunk(content='', additional_kwargs={'reasoning_content': ' need'}, response_metadata={}, id='run--0f108b1c-38d2-40da-a641-d3d3bd8b1fca')}, 'run_id': '0f108b1c-38d2-40da-a641-d3d3bd8b1fca', 'name': 'ChatGroq', 'tags': ['seq:step:1'], 'metadata': {'thread_id': '5', 'langgraph_step': 1, 'langgraph_node': 'SuperBot', 'langgraph_triggers': ('branch:to:SuperBot',), 'langgraph_path': ('__pregel_pull', 'SuperBot'), 'langgraph_checkpoint_ns': 'SuperBot:ee084c3b-af32-59e1-eecc-a45ee84b2b82', 'checkpoint_ns': 'SuperBot:ee084c3b-af32-59e1-eecc-a45ee84b2b82', 'ls_provider': 'groq', 'ls_model_name': 'openai/gpt-oss-120b', 'ls_model_type': 'chat', 'ls_temperature': 0.7}, 'parent_ids': ['e9c8ccb5-8522-4735-85c5-21e63e0d488e', '7a51946f-4b8d-46c3-a10b-75445a4219d0']}\n",
      "{'event': 'on_chat_model_stream', 'data': {'chunk': AIMessageChunk(content='', additional_kwargs={'reasoning_content': ' to'}, response_metadata={}, id='run--0f108b1c-38d2-40da-a641-d3d3bd8b1fca')}, 'run_id': '0f108b1c-38d2-40da-a641-d3d3bd8b1fca', 'name': 'ChatGroq', 'tags': ['seq:step:1'], 'metadata': {'thread_id': '5', 'langgraph_step': 1, 'langgraph_node': 'SuperBot', 'langgraph_triggers': ('branch:to:SuperBot',), 'langgraph_path': ('__pregel_pull', 'SuperBot'), 'langgraph_checkpoint_ns': 'SuperBot:ee084c3b-af32-59e1-eecc-a45ee84b2b82', 'checkpoint_ns': 'SuperBot:ee084c3b-af32-59e1-eecc-a45ee84b2b82', 'ls_provider': 'groq', 'ls_model_name': 'openai/gpt-oss-120b', 'ls_model_type': 'chat', 'ls_temperature': 0.7}, 'parent_ids': ['e9c8ccb5-8522-4735-85c5-21e63e0d488e', '7a51946f-4b8d-46c3-a10b-75445a4219d0']}\n",
      "{'event': 'on_chat_model_stream', 'data': {'chunk': AIMessageChunk(content='', additional_kwargs={'reasoning_content': ' respond'}, response_metadata={}, id='run--0f108b1c-38d2-40da-a641-d3d3bd8b1fca')}, 'run_id': '0f108b1c-38d2-40da-a641-d3d3bd8b1fca', 'name': 'ChatGroq', 'tags': ['seq:step:1'], 'metadata': {'thread_id': '5', 'langgraph_step': 1, 'langgraph_node': 'SuperBot', 'langgraph_triggers': ('branch:to:SuperBot',), 'langgraph_path': ('__pregel_pull', 'SuperBot'), 'langgraph_checkpoint_ns': 'SuperBot:ee084c3b-af32-59e1-eecc-a45ee84b2b82', 'checkpoint_ns': 'SuperBot:ee084c3b-af32-59e1-eecc-a45ee84b2b82', 'ls_provider': 'groq', 'ls_model_name': 'openai/gpt-oss-120b', 'ls_model_type': 'chat', 'ls_temperature': 0.7}, 'parent_ids': ['e9c8ccb5-8522-4735-85c5-21e63e0d488e', '7a51946f-4b8d-46c3-a10b-75445a4219d0']}\n",
      "{'event': 'on_chat_model_stream', 'data': {'chunk': AIMessageChunk(content='', additional_kwargs={'reasoning_content': '.'}, response_metadata={}, id='run--0f108b1c-38d2-40da-a641-d3d3bd8b1fca')}, 'run_id': '0f108b1c-38d2-40da-a641-d3d3bd8b1fca', 'name': 'ChatGroq', 'tags': ['seq:step:1'], 'metadata': {'thread_id': '5', 'langgraph_step': 1, 'langgraph_node': 'SuperBot', 'langgraph_triggers': ('branch:to:SuperBot',), 'langgraph_path': ('__pregel_pull', 'SuperBot'), 'langgraph_checkpoint_ns': 'SuperBot:ee084c3b-af32-59e1-eecc-a45ee84b2b82', 'checkpoint_ns': 'SuperBot:ee084c3b-af32-59e1-eecc-a45ee84b2b82', 'ls_provider': 'groq', 'ls_model_name': 'openai/gpt-oss-120b', 'ls_model_type': 'chat', 'ls_temperature': 0.7}, 'parent_ids': ['e9c8ccb5-8522-4735-85c5-21e63e0d488e', '7a51946f-4b8d-46c3-a10b-75445a4219d0']}\n",
      "{'event': 'on_chat_model_stream', 'data': {'chunk': AIMessageChunk(content='', additional_kwargs={'reasoning_content': ' The'}, response_metadata={}, id='run--0f108b1c-38d2-40da-a641-d3d3bd8b1fca')}, 'run_id': '0f108b1c-38d2-40da-a641-d3d3bd8b1fca', 'name': 'ChatGroq', 'tags': ['seq:step:1'], 'metadata': {'thread_id': '5', 'langgraph_step': 1, 'langgraph_node': 'SuperBot', 'langgraph_triggers': ('branch:to:SuperBot',), 'langgraph_path': ('__pregel_pull', 'SuperBot'), 'langgraph_checkpoint_ns': 'SuperBot:ee084c3b-af32-59e1-eecc-a45ee84b2b82', 'checkpoint_ns': 'SuperBot:ee084c3b-af32-59e1-eecc-a45ee84b2b82', 'ls_provider': 'groq', 'ls_model_name': 'openai/gpt-oss-120b', 'ls_model_type': 'chat', 'ls_temperature': 0.7}, 'parent_ids': ['e9c8ccb5-8522-4735-85c5-21e63e0d488e', '7a51946f-4b8d-46c3-a10b-75445a4219d0']}\n",
      "{'event': 'on_chat_model_stream', 'data': {'chunk': AIMessageChunk(content='', additional_kwargs={'reasoning_content': ' user'}, response_metadata={}, id='run--0f108b1c-38d2-40da-a641-d3d3bd8b1fca')}, 'run_id': '0f108b1c-38d2-40da-a641-d3d3bd8b1fca', 'name': 'ChatGroq', 'tags': ['seq:step:1'], 'metadata': {'thread_id': '5', 'langgraph_step': 1, 'langgraph_node': 'SuperBot', 'langgraph_triggers': ('branch:to:SuperBot',), 'langgraph_path': ('__pregel_pull', 'SuperBot'), 'langgraph_checkpoint_ns': 'SuperBot:ee084c3b-af32-59e1-eecc-a45ee84b2b82', 'checkpoint_ns': 'SuperBot:ee084c3b-af32-59e1-eecc-a45ee84b2b82', 'ls_provider': 'groq', 'ls_model_name': 'openai/gpt-oss-120b', 'ls_model_type': 'chat', 'ls_temperature': 0.7}, 'parent_ids': ['e9c8ccb5-8522-4735-85c5-21e63e0d488e', '7a51946f-4b8d-46c3-a10b-75445a4219d0']}\n",
      "{'event': 'on_chat_model_stream', 'data': {'chunk': AIMessageChunk(content='', additional_kwargs={'reasoning_content': ' says'}, response_metadata={}, id='run--0f108b1c-38d2-40da-a641-d3d3bd8b1fca')}, 'run_id': '0f108b1c-38d2-40da-a641-d3d3bd8b1fca', 'name': 'ChatGroq', 'tags': ['seq:step:1'], 'metadata': {'thread_id': '5', 'langgraph_step': 1, 'langgraph_node': 'SuperBot', 'langgraph_triggers': ('branch:to:SuperBot',), 'langgraph_path': ('__pregel_pull', 'SuperBot'), 'langgraph_checkpoint_ns': 'SuperBot:ee084c3b-af32-59e1-eecc-a45ee84b2b82', 'checkpoint_ns': 'SuperBot:ee084c3b-af32-59e1-eecc-a45ee84b2b82', 'ls_provider': 'groq', 'ls_model_name': 'openai/gpt-oss-120b', 'ls_model_type': 'chat', 'ls_temperature': 0.7}, 'parent_ids': ['e9c8ccb5-8522-4735-85c5-21e63e0d488e', '7a51946f-4b8d-46c3-a10b-75445a4219d0']}\n",
      "{'event': 'on_chat_model_stream', 'data': {'chunk': AIMessageChunk(content='', additional_kwargs={'reasoning_content': ' hi'}, response_metadata={}, id='run--0f108b1c-38d2-40da-a641-d3d3bd8b1fca')}, 'run_id': '0f108b1c-38d2-40da-a641-d3d3bd8b1fca', 'name': 'ChatGroq', 'tags': ['seq:step:1'], 'metadata': {'thread_id': '5', 'langgraph_step': 1, 'langgraph_node': 'SuperBot', 'langgraph_triggers': ('branch:to:SuperBot',), 'langgraph_path': ('__pregel_pull', 'SuperBot'), 'langgraph_checkpoint_ns': 'SuperBot:ee084c3b-af32-59e1-eecc-a45ee84b2b82', 'checkpoint_ns': 'SuperBot:ee084c3b-af32-59e1-eecc-a45ee84b2b82', 'ls_provider': 'groq', 'ls_model_name': 'openai/gpt-oss-120b', 'ls_model_type': 'chat', 'ls_temperature': 0.7}, 'parent_ids': ['e9c8ccb5-8522-4735-85c5-21e63e0d488e', '7a51946f-4b8d-46c3-a10b-75445a4219d0']}\n",
      "{'event': 'on_chat_model_stream', 'data': {'chunk': AIMessageChunk(content='', additional_kwargs={'reasoning_content': ','}, response_metadata={}, id='run--0f108b1c-38d2-40da-a641-d3d3bd8b1fca')}, 'run_id': '0f108b1c-38d2-40da-a641-d3d3bd8b1fca', 'name': 'ChatGroq', 'tags': ['seq:step:1'], 'metadata': {'thread_id': '5', 'langgraph_step': 1, 'langgraph_node': 'SuperBot', 'langgraph_triggers': ('branch:to:SuperBot',), 'langgraph_path': ('__pregel_pull', 'SuperBot'), 'langgraph_checkpoint_ns': 'SuperBot:ee084c3b-af32-59e1-eecc-a45ee84b2b82', 'checkpoint_ns': 'SuperBot:ee084c3b-af32-59e1-eecc-a45ee84b2b82', 'ls_provider': 'groq', 'ls_model_name': 'openai/gpt-oss-120b', 'ls_model_type': 'chat', 'ls_temperature': 0.7}, 'parent_ids': ['e9c8ccb5-8522-4735-85c5-21e63e0d488e', '7a51946f-4b8d-46c3-a10b-75445a4219d0']}\n",
      "{'event': 'on_chat_model_stream', 'data': {'chunk': AIMessageChunk(content='', additional_kwargs={'reasoning_content': ' introduces'}, response_metadata={}, id='run--0f108b1c-38d2-40da-a641-d3d3bd8b1fca')}, 'run_id': '0f108b1c-38d2-40da-a641-d3d3bd8b1fca', 'name': 'ChatGroq', 'tags': ['seq:step:1'], 'metadata': {'thread_id': '5', 'langgraph_step': 1, 'langgraph_node': 'SuperBot', 'langgraph_triggers': ('branch:to:SuperBot',), 'langgraph_path': ('__pregel_pull', 'SuperBot'), 'langgraph_checkpoint_ns': 'SuperBot:ee084c3b-af32-59e1-eecc-a45ee84b2b82', 'checkpoint_ns': 'SuperBot:ee084c3b-af32-59e1-eecc-a45ee84b2b82', 'ls_provider': 'groq', 'ls_model_name': 'openai/gpt-oss-120b', 'ls_model_type': 'chat', 'ls_temperature': 0.7}, 'parent_ids': ['e9c8ccb5-8522-4735-85c5-21e63e0d488e', '7a51946f-4b8d-46c3-a10b-75445a4219d0']}\n",
      "{'event': 'on_chat_model_stream', 'data': {'chunk': AIMessageChunk(content='', additional_kwargs={'reasoning_content': ' themselves'}, response_metadata={}, id='run--0f108b1c-38d2-40da-a641-d3d3bd8b1fca')}, 'run_id': '0f108b1c-38d2-40da-a641-d3d3bd8b1fca', 'name': 'ChatGroq', 'tags': ['seq:step:1'], 'metadata': {'thread_id': '5', 'langgraph_step': 1, 'langgraph_node': 'SuperBot', 'langgraph_triggers': ('branch:to:SuperBot',), 'langgraph_path': ('__pregel_pull', 'SuperBot'), 'langgraph_checkpoint_ns': 'SuperBot:ee084c3b-af32-59e1-eecc-a45ee84b2b82', 'checkpoint_ns': 'SuperBot:ee084c3b-af32-59e1-eecc-a45ee84b2b82', 'ls_provider': 'groq', 'ls_model_name': 'openai/gpt-oss-120b', 'ls_model_type': 'chat', 'ls_temperature': 0.7}, 'parent_ids': ['e9c8ccb5-8522-4735-85c5-21e63e0d488e', '7a51946f-4b8d-46c3-a10b-75445a4219d0']}\n",
      "{'event': 'on_chat_model_stream', 'data': {'chunk': AIMessageChunk(content='', additional_kwargs={'reasoning_content': '.'}, response_metadata={}, id='run--0f108b1c-38d2-40da-a641-d3d3bd8b1fca')}, 'run_id': '0f108b1c-38d2-40da-a641-d3d3bd8b1fca', 'name': 'ChatGroq', 'tags': ['seq:step:1'], 'metadata': {'thread_id': '5', 'langgraph_step': 1, 'langgraph_node': 'SuperBot', 'langgraph_triggers': ('branch:to:SuperBot',), 'langgraph_path': ('__pregel_pull', 'SuperBot'), 'langgraph_checkpoint_ns': 'SuperBot:ee084c3b-af32-59e1-eecc-a45ee84b2b82', 'checkpoint_ns': 'SuperBot:ee084c3b-af32-59e1-eecc-a45ee84b2b82', 'ls_provider': 'groq', 'ls_model_name': 'openai/gpt-oss-120b', 'ls_model_type': 'chat', 'ls_temperature': 0.7}, 'parent_ids': ['e9c8ccb5-8522-4735-85c5-21e63e0d488e', '7a51946f-4b8d-46c3-a10b-75445a4219d0']}\n",
      "{'event': 'on_chat_model_stream', 'data': {'chunk': AIMessageChunk(content='', additional_kwargs={'reasoning_content': ' Should'}, response_metadata={}, id='run--0f108b1c-38d2-40da-a641-d3d3bd8b1fca')}, 'run_id': '0f108b1c-38d2-40da-a641-d3d3bd8b1fca', 'name': 'ChatGroq', 'tags': ['seq:step:1'], 'metadata': {'thread_id': '5', 'langgraph_step': 1, 'langgraph_node': 'SuperBot', 'langgraph_triggers': ('branch:to:SuperBot',), 'langgraph_path': ('__pregel_pull', 'SuperBot'), 'langgraph_checkpoint_ns': 'SuperBot:ee084c3b-af32-59e1-eecc-a45ee84b2b82', 'checkpoint_ns': 'SuperBot:ee084c3b-af32-59e1-eecc-a45ee84b2b82', 'ls_provider': 'groq', 'ls_model_name': 'openai/gpt-oss-120b', 'ls_model_type': 'chat', 'ls_temperature': 0.7}, 'parent_ids': ['e9c8ccb5-8522-4735-85c5-21e63e0d488e', '7a51946f-4b8d-46c3-a10b-75445a4219d0']}\n",
      "{'event': 'on_chat_model_stream', 'data': {'chunk': AIMessageChunk(content='', additional_kwargs={'reasoning_content': ' greet'}, response_metadata={}, id='run--0f108b1c-38d2-40da-a641-d3d3bd8b1fca')}, 'run_id': '0f108b1c-38d2-40da-a641-d3d3bd8b1fca', 'name': 'ChatGroq', 'tags': ['seq:step:1'], 'metadata': {'thread_id': '5', 'langgraph_step': 1, 'langgraph_node': 'SuperBot', 'langgraph_triggers': ('branch:to:SuperBot',), 'langgraph_path': ('__pregel_pull', 'SuperBot'), 'langgraph_checkpoint_ns': 'SuperBot:ee084c3b-af32-59e1-eecc-a45ee84b2b82', 'checkpoint_ns': 'SuperBot:ee084c3b-af32-59e1-eecc-a45ee84b2b82', 'ls_provider': 'groq', 'ls_model_name': 'openai/gpt-oss-120b', 'ls_model_type': 'chat', 'ls_temperature': 0.7}, 'parent_ids': ['e9c8ccb5-8522-4735-85c5-21e63e0d488e', '7a51946f-4b8d-46c3-a10b-75445a4219d0']}\n",
      "{'event': 'on_chat_model_stream', 'data': {'chunk': AIMessageChunk(content='', additional_kwargs={'reasoning_content': ' back'}, response_metadata={}, id='run--0f108b1c-38d2-40da-a641-d3d3bd8b1fca')}, 'run_id': '0f108b1c-38d2-40da-a641-d3d3bd8b1fca', 'name': 'ChatGroq', 'tags': ['seq:step:1'], 'metadata': {'thread_id': '5', 'langgraph_step': 1, 'langgraph_node': 'SuperBot', 'langgraph_triggers': ('branch:to:SuperBot',), 'langgraph_path': ('__pregel_pull', 'SuperBot'), 'langgraph_checkpoint_ns': 'SuperBot:ee084c3b-af32-59e1-eecc-a45ee84b2b82', 'checkpoint_ns': 'SuperBot:ee084c3b-af32-59e1-eecc-a45ee84b2b82', 'ls_provider': 'groq', 'ls_model_name': 'openai/gpt-oss-120b', 'ls_model_type': 'chat', 'ls_temperature': 0.7}, 'parent_ids': ['e9c8ccb5-8522-4735-85c5-21e63e0d488e', '7a51946f-4b8d-46c3-a10b-75445a4219d0']}\n",
      "{'event': 'on_chat_model_stream', 'data': {'chunk': AIMessageChunk(content='', additional_kwargs={'reasoning_content': ' and'}, response_metadata={}, id='run--0f108b1c-38d2-40da-a641-d3d3bd8b1fca')}, 'run_id': '0f108b1c-38d2-40da-a641-d3d3bd8b1fca', 'name': 'ChatGroq', 'tags': ['seq:step:1'], 'metadata': {'thread_id': '5', 'langgraph_step': 1, 'langgraph_node': 'SuperBot', 'langgraph_triggers': ('branch:to:SuperBot',), 'langgraph_path': ('__pregel_pull', 'SuperBot'), 'langgraph_checkpoint_ns': 'SuperBot:ee084c3b-af32-59e1-eecc-a45ee84b2b82', 'checkpoint_ns': 'SuperBot:ee084c3b-af32-59e1-eecc-a45ee84b2b82', 'ls_provider': 'groq', 'ls_model_name': 'openai/gpt-oss-120b', 'ls_model_type': 'chat', 'ls_temperature': 0.7}, 'parent_ids': ['e9c8ccb5-8522-4735-85c5-21e63e0d488e', '7a51946f-4b8d-46c3-a10b-75445a4219d0']}\n",
      "{'event': 'on_chat_model_stream', 'data': {'chunk': AIMessageChunk(content='', additional_kwargs={'reasoning_content': ' ask'}, response_metadata={}, id='run--0f108b1c-38d2-40da-a641-d3d3bd8b1fca')}, 'run_id': '0f108b1c-38d2-40da-a641-d3d3bd8b1fca', 'name': 'ChatGroq', 'tags': ['seq:step:1'], 'metadata': {'thread_id': '5', 'langgraph_step': 1, 'langgraph_node': 'SuperBot', 'langgraph_triggers': ('branch:to:SuperBot',), 'langgraph_path': ('__pregel_pull', 'SuperBot'), 'langgraph_checkpoint_ns': 'SuperBot:ee084c3b-af32-59e1-eecc-a45ee84b2b82', 'checkpoint_ns': 'SuperBot:ee084c3b-af32-59e1-eecc-a45ee84b2b82', 'ls_provider': 'groq', 'ls_model_name': 'openai/gpt-oss-120b', 'ls_model_type': 'chat', 'ls_temperature': 0.7}, 'parent_ids': ['e9c8ccb5-8522-4735-85c5-21e63e0d488e', '7a51946f-4b8d-46c3-a10b-75445a4219d0']}\n",
      "{'event': 'on_chat_model_stream', 'data': {'chunk': AIMessageChunk(content='', additional_kwargs={'reasoning_content': ' about'}, response_metadata={}, id='run--0f108b1c-38d2-40da-a641-d3d3bd8b1fca')}, 'run_id': '0f108b1c-38d2-40da-a641-d3d3bd8b1fca', 'name': 'ChatGroq', 'tags': ['seq:step:1'], 'metadata': {'thread_id': '5', 'langgraph_step': 1, 'langgraph_node': 'SuperBot', 'langgraph_triggers': ('branch:to:SuperBot',), 'langgraph_path': ('__pregel_pull', 'SuperBot'), 'langgraph_checkpoint_ns': 'SuperBot:ee084c3b-af32-59e1-eecc-a45ee84b2b82', 'checkpoint_ns': 'SuperBot:ee084c3b-af32-59e1-eecc-a45ee84b2b82', 'ls_provider': 'groq', 'ls_model_name': 'openai/gpt-oss-120b', 'ls_model_type': 'chat', 'ls_temperature': 0.7}, 'parent_ids': ['e9c8ccb5-8522-4735-85c5-21e63e0d488e', '7a51946f-4b8d-46c3-a10b-75445a4219d0']}\n",
      "{'event': 'on_chat_model_stream', 'data': {'chunk': AIMessageChunk(content='', additional_kwargs={'reasoning_content': ' surfing'}, response_metadata={}, id='run--0f108b1c-38d2-40da-a641-d3d3bd8b1fca')}, 'run_id': '0f108b1c-38d2-40da-a641-d3d3bd8b1fca', 'name': 'ChatGroq', 'tags': ['seq:step:1'], 'metadata': {'thread_id': '5', 'langgraph_step': 1, 'langgraph_node': 'SuperBot', 'langgraph_triggers': ('branch:to:SuperBot',), 'langgraph_path': ('__pregel_pull', 'SuperBot'), 'langgraph_checkpoint_ns': 'SuperBot:ee084c3b-af32-59e1-eecc-a45ee84b2b82', 'checkpoint_ns': 'SuperBot:ee084c3b-af32-59e1-eecc-a45ee84b2b82', 'ls_provider': 'groq', 'ls_model_name': 'openai/gpt-oss-120b', 'ls_model_type': 'chat', 'ls_temperature': 0.7}, 'parent_ids': ['e9c8ccb5-8522-4735-85c5-21e63e0d488e', '7a51946f-4b8d-46c3-a10b-75445a4219d0']}\n",
      "{'event': 'on_chat_model_stream', 'data': {'chunk': AIMessageChunk(content='', additional_kwargs={'reasoning_content': '?'}, response_metadata={}, id='run--0f108b1c-38d2-40da-a641-d3d3bd8b1fca')}, 'run_id': '0f108b1c-38d2-40da-a641-d3d3bd8b1fca', 'name': 'ChatGroq', 'tags': ['seq:step:1'], 'metadata': {'thread_id': '5', 'langgraph_step': 1, 'langgraph_node': 'SuperBot', 'langgraph_triggers': ('branch:to:SuperBot',), 'langgraph_path': ('__pregel_pull', 'SuperBot'), 'langgraph_checkpoint_ns': 'SuperBot:ee084c3b-af32-59e1-eecc-a45ee84b2b82', 'checkpoint_ns': 'SuperBot:ee084c3b-af32-59e1-eecc-a45ee84b2b82', 'ls_provider': 'groq', 'ls_model_name': 'openai/gpt-oss-120b', 'ls_model_type': 'chat', 'ls_temperature': 0.7}, 'parent_ids': ['e9c8ccb5-8522-4735-85c5-21e63e0d488e', '7a51946f-4b8d-46c3-a10b-75445a4219d0']}\n",
      "{'event': 'on_chat_model_stream', 'data': {'chunk': AIMessageChunk(content='', additional_kwargs={'reasoning_content': ' Keep'}, response_metadata={}, id='run--0f108b1c-38d2-40da-a641-d3d3bd8b1fca')}, 'run_id': '0f108b1c-38d2-40da-a641-d3d3bd8b1fca', 'name': 'ChatGroq', 'tags': ['seq:step:1'], 'metadata': {'thread_id': '5', 'langgraph_step': 1, 'langgraph_node': 'SuperBot', 'langgraph_triggers': ('branch:to:SuperBot',), 'langgraph_path': ('__pregel_pull', 'SuperBot'), 'langgraph_checkpoint_ns': 'SuperBot:ee084c3b-af32-59e1-eecc-a45ee84b2b82', 'checkpoint_ns': 'SuperBot:ee084c3b-af32-59e1-eecc-a45ee84b2b82', 'ls_provider': 'groq', 'ls_model_name': 'openai/gpt-oss-120b', 'ls_model_type': 'chat', 'ls_temperature': 0.7}, 'parent_ids': ['e9c8ccb5-8522-4735-85c5-21e63e0d488e', '7a51946f-4b8d-46c3-a10b-75445a4219d0']}\n",
      "{'event': 'on_chat_model_stream', 'data': {'chunk': AIMessageChunk(content='', additional_kwargs={'reasoning_content': ' friendly'}, response_metadata={}, id='run--0f108b1c-38d2-40da-a641-d3d3bd8b1fca')}, 'run_id': '0f108b1c-38d2-40da-a641-d3d3bd8b1fca', 'name': 'ChatGroq', 'tags': ['seq:step:1'], 'metadata': {'thread_id': '5', 'langgraph_step': 1, 'langgraph_node': 'SuperBot', 'langgraph_triggers': ('branch:to:SuperBot',), 'langgraph_path': ('__pregel_pull', 'SuperBot'), 'langgraph_checkpoint_ns': 'SuperBot:ee084c3b-af32-59e1-eecc-a45ee84b2b82', 'checkpoint_ns': 'SuperBot:ee084c3b-af32-59e1-eecc-a45ee84b2b82', 'ls_provider': 'groq', 'ls_model_name': 'openai/gpt-oss-120b', 'ls_model_type': 'chat', 'ls_temperature': 0.7}, 'parent_ids': ['e9c8ccb5-8522-4735-85c5-21e63e0d488e', '7a51946f-4b8d-46c3-a10b-75445a4219d0']}\n",
      "{'event': 'on_chat_model_stream', 'data': {'chunk': AIMessageChunk(content='', additional_kwargs={'reasoning_content': '.'}, response_metadata={}, id='run--0f108b1c-38d2-40da-a641-d3d3bd8b1fca')}, 'run_id': '0f108b1c-38d2-40da-a641-d3d3bd8b1fca', 'name': 'ChatGroq', 'tags': ['seq:step:1'], 'metadata': {'thread_id': '5', 'langgraph_step': 1, 'langgraph_node': 'SuperBot', 'langgraph_triggers': ('branch:to:SuperBot',), 'langgraph_path': ('__pregel_pull', 'SuperBot'), 'langgraph_checkpoint_ns': 'SuperBot:ee084c3b-af32-59e1-eecc-a45ee84b2b82', 'checkpoint_ns': 'SuperBot:ee084c3b-af32-59e1-eecc-a45ee84b2b82', 'ls_provider': 'groq', 'ls_model_name': 'openai/gpt-oss-120b', 'ls_model_type': 'chat', 'ls_temperature': 0.7}, 'parent_ids': ['e9c8ccb5-8522-4735-85c5-21e63e0d488e', '7a51946f-4b8d-46c3-a10b-75445a4219d0']}\n",
      "{'event': 'on_chat_model_stream', 'data': {'chunk': AIMessageChunk(content='', additional_kwargs={'reasoning_content': ' No'}, response_metadata={}, id='run--0f108b1c-38d2-40da-a641-d3d3bd8b1fca')}, 'run_id': '0f108b1c-38d2-40da-a641-d3d3bd8b1fca', 'name': 'ChatGroq', 'tags': ['seq:step:1'], 'metadata': {'thread_id': '5', 'langgraph_step': 1, 'langgraph_node': 'SuperBot', 'langgraph_triggers': ('branch:to:SuperBot',), 'langgraph_path': ('__pregel_pull', 'SuperBot'), 'langgraph_checkpoint_ns': 'SuperBot:ee084c3b-af32-59e1-eecc-a45ee84b2b82', 'checkpoint_ns': 'SuperBot:ee084c3b-af32-59e1-eecc-a45ee84b2b82', 'ls_provider': 'groq', 'ls_model_name': 'openai/gpt-oss-120b', 'ls_model_type': 'chat', 'ls_temperature': 0.7}, 'parent_ids': ['e9c8ccb5-8522-4735-85c5-21e63e0d488e', '7a51946f-4b8d-46c3-a10b-75445a4219d0']}\n",
      "{'event': 'on_chat_model_stream', 'data': {'chunk': AIMessageChunk(content='', additional_kwargs={'reasoning_content': ' policy'}, response_metadata={}, id='run--0f108b1c-38d2-40da-a641-d3d3bd8b1fca')}, 'run_id': '0f108b1c-38d2-40da-a641-d3d3bd8b1fca', 'name': 'ChatGroq', 'tags': ['seq:step:1'], 'metadata': {'thread_id': '5', 'langgraph_step': 1, 'langgraph_node': 'SuperBot', 'langgraph_triggers': ('branch:to:SuperBot',), 'langgraph_path': ('__pregel_pull', 'SuperBot'), 'langgraph_checkpoint_ns': 'SuperBot:ee084c3b-af32-59e1-eecc-a45ee84b2b82', 'checkpoint_ns': 'SuperBot:ee084c3b-af32-59e1-eecc-a45ee84b2b82', 'ls_provider': 'groq', 'ls_model_name': 'openai/gpt-oss-120b', 'ls_model_type': 'chat', 'ls_temperature': 0.7}, 'parent_ids': ['e9c8ccb5-8522-4735-85c5-21e63e0d488e', '7a51946f-4b8d-46c3-a10b-75445a4219d0']}\n",
      "{'event': 'on_chat_model_stream', 'data': {'chunk': AIMessageChunk(content='', additional_kwargs={'reasoning_content': ' issues'}, response_metadata={}, id='run--0f108b1c-38d2-40da-a641-d3d3bd8b1fca')}, 'run_id': '0f108b1c-38d2-40da-a641-d3d3bd8b1fca', 'name': 'ChatGroq', 'tags': ['seq:step:1'], 'metadata': {'thread_id': '5', 'langgraph_step': 1, 'langgraph_node': 'SuperBot', 'langgraph_triggers': ('branch:to:SuperBot',), 'langgraph_path': ('__pregel_pull', 'SuperBot'), 'langgraph_checkpoint_ns': 'SuperBot:ee084c3b-af32-59e1-eecc-a45ee84b2b82', 'checkpoint_ns': 'SuperBot:ee084c3b-af32-59e1-eecc-a45ee84b2b82', 'ls_provider': 'groq', 'ls_model_name': 'openai/gpt-oss-120b', 'ls_model_type': 'chat', 'ls_temperature': 0.7}, 'parent_ids': ['e9c8ccb5-8522-4735-85c5-21e63e0d488e', '7a51946f-4b8d-46c3-a10b-75445a4219d0']}\n",
      "{'event': 'on_chat_model_stream', 'data': {'chunk': AIMessageChunk(content='', additional_kwargs={'reasoning_content': '.'}, response_metadata={}, id='run--0f108b1c-38d2-40da-a641-d3d3bd8b1fca')}, 'run_id': '0f108b1c-38d2-40da-a641-d3d3bd8b1fca', 'name': 'ChatGroq', 'tags': ['seq:step:1'], 'metadata': {'thread_id': '5', 'langgraph_step': 1, 'langgraph_node': 'SuperBot', 'langgraph_triggers': ('branch:to:SuperBot',), 'langgraph_path': ('__pregel_pull', 'SuperBot'), 'langgraph_checkpoint_ns': 'SuperBot:ee084c3b-af32-59e1-eecc-a45ee84b2b82', 'checkpoint_ns': 'SuperBot:ee084c3b-af32-59e1-eecc-a45ee84b2b82', 'ls_provider': 'groq', 'ls_model_name': 'openai/gpt-oss-120b', 'ls_model_type': 'chat', 'ls_temperature': 0.7}, 'parent_ids': ['e9c8ccb5-8522-4735-85c5-21e63e0d488e', '7a51946f-4b8d-46c3-a10b-75445a4219d0']}\n",
      "{'event': 'on_chat_model_stream', 'data': {'chunk': AIMessageChunk(content='Hey', additional_kwargs={}, response_metadata={}, id='run--0f108b1c-38d2-40da-a641-d3d3bd8b1fca')}, 'run_id': '0f108b1c-38d2-40da-a641-d3d3bd8b1fca', 'name': 'ChatGroq', 'tags': ['seq:step:1'], 'metadata': {'thread_id': '5', 'langgraph_step': 1, 'langgraph_node': 'SuperBot', 'langgraph_triggers': ('branch:to:SuperBot',), 'langgraph_path': ('__pregel_pull', 'SuperBot'), 'langgraph_checkpoint_ns': 'SuperBot:ee084c3b-af32-59e1-eecc-a45ee84b2b82', 'checkpoint_ns': 'SuperBot:ee084c3b-af32-59e1-eecc-a45ee84b2b82', 'ls_provider': 'groq', 'ls_model_name': 'openai/gpt-oss-120b', 'ls_model_type': 'chat', 'ls_temperature': 0.7}, 'parent_ids': ['e9c8ccb5-8522-4735-85c5-21e63e0d488e', '7a51946f-4b8d-46c3-a10b-75445a4219d0']}\n",
      "{'event': 'on_chat_model_stream', 'data': {'chunk': AIMessageChunk(content=' Rut', additional_kwargs={}, response_metadata={}, id='run--0f108b1c-38d2-40da-a641-d3d3bd8b1fca')}, 'run_id': '0f108b1c-38d2-40da-a641-d3d3bd8b1fca', 'name': 'ChatGroq', 'tags': ['seq:step:1'], 'metadata': {'thread_id': '5', 'langgraph_step': 1, 'langgraph_node': 'SuperBot', 'langgraph_triggers': ('branch:to:SuperBot',), 'langgraph_path': ('__pregel_pull', 'SuperBot'), 'langgraph_checkpoint_ns': 'SuperBot:ee084c3b-af32-59e1-eecc-a45ee84b2b82', 'checkpoint_ns': 'SuperBot:ee084c3b-af32-59e1-eecc-a45ee84b2b82', 'ls_provider': 'groq', 'ls_model_name': 'openai/gpt-oss-120b', 'ls_model_type': 'chat', 'ls_temperature': 0.7}, 'parent_ids': ['e9c8ccb5-8522-4735-85c5-21e63e0d488e', '7a51946f-4b8d-46c3-a10b-75445a4219d0']}\n",
      "{'event': 'on_chat_model_stream', 'data': {'chunk': AIMessageChunk(content='vi', additional_kwargs={}, response_metadata={}, id='run--0f108b1c-38d2-40da-a641-d3d3bd8b1fca')}, 'run_id': '0f108b1c-38d2-40da-a641-d3d3bd8b1fca', 'name': 'ChatGroq', 'tags': ['seq:step:1'], 'metadata': {'thread_id': '5', 'langgraph_step': 1, 'langgraph_node': 'SuperBot', 'langgraph_triggers': ('branch:to:SuperBot',), 'langgraph_path': ('__pregel_pull', 'SuperBot'), 'langgraph_checkpoint_ns': 'SuperBot:ee084c3b-af32-59e1-eecc-a45ee84b2b82', 'checkpoint_ns': 'SuperBot:ee084c3b-af32-59e1-eecc-a45ee84b2b82', 'ls_provider': 'groq', 'ls_model_name': 'openai/gpt-oss-120b', 'ls_model_type': 'chat', 'ls_temperature': 0.7}, 'parent_ids': ['e9c8ccb5-8522-4735-85c5-21e63e0d488e', '7a51946f-4b8d-46c3-a10b-75445a4219d0']}\n",
      "{'event': 'on_chat_model_stream', 'data': {'chunk': AIMessageChunk(content='!', additional_kwargs={}, response_metadata={}, id='run--0f108b1c-38d2-40da-a641-d3d3bd8b1fca')}, 'run_id': '0f108b1c-38d2-40da-a641-d3d3bd8b1fca', 'name': 'ChatGroq', 'tags': ['seq:step:1'], 'metadata': {'thread_id': '5', 'langgraph_step': 1, 'langgraph_node': 'SuperBot', 'langgraph_triggers': ('branch:to:SuperBot',), 'langgraph_path': ('__pregel_pull', 'SuperBot'), 'langgraph_checkpoint_ns': 'SuperBot:ee084c3b-af32-59e1-eecc-a45ee84b2b82', 'checkpoint_ns': 'SuperBot:ee084c3b-af32-59e1-eecc-a45ee84b2b82', 'ls_provider': 'groq', 'ls_model_name': 'openai/gpt-oss-120b', 'ls_model_type': 'chat', 'ls_temperature': 0.7}, 'parent_ids': ['e9c8ccb5-8522-4735-85c5-21e63e0d488e', '7a51946f-4b8d-46c3-a10b-75445a4219d0']}\n",
      "{'event': 'on_chat_model_stream', 'data': {'chunk': AIMessageChunk(content=' 👋', additional_kwargs={}, response_metadata={}, id='run--0f108b1c-38d2-40da-a641-d3d3bd8b1fca')}, 'run_id': '0f108b1c-38d2-40da-a641-d3d3bd8b1fca', 'name': 'ChatGroq', 'tags': ['seq:step:1'], 'metadata': {'thread_id': '5', 'langgraph_step': 1, 'langgraph_node': 'SuperBot', 'langgraph_triggers': ('branch:to:SuperBot',), 'langgraph_path': ('__pregel_pull', 'SuperBot'), 'langgraph_checkpoint_ns': 'SuperBot:ee084c3b-af32-59e1-eecc-a45ee84b2b82', 'checkpoint_ns': 'SuperBot:ee084c3b-af32-59e1-eecc-a45ee84b2b82', 'ls_provider': 'groq', 'ls_model_name': 'openai/gpt-oss-120b', 'ls_model_type': 'chat', 'ls_temperature': 0.7}, 'parent_ids': ['e9c8ccb5-8522-4735-85c5-21e63e0d488e', '7a51946f-4b8d-46c3-a10b-75445a4219d0']}\n",
      "{'event': 'on_chat_model_stream', 'data': {'chunk': AIMessageChunk(content=' Great', additional_kwargs={}, response_metadata={}, id='run--0f108b1c-38d2-40da-a641-d3d3bd8b1fca')}, 'run_id': '0f108b1c-38d2-40da-a641-d3d3bd8b1fca', 'name': 'ChatGroq', 'tags': ['seq:step:1'], 'metadata': {'thread_id': '5', 'langgraph_step': 1, 'langgraph_node': 'SuperBot', 'langgraph_triggers': ('branch:to:SuperBot',), 'langgraph_path': ('__pregel_pull', 'SuperBot'), 'langgraph_checkpoint_ns': 'SuperBot:ee084c3b-af32-59e1-eecc-a45ee84b2b82', 'checkpoint_ns': 'SuperBot:ee084c3b-af32-59e1-eecc-a45ee84b2b82', 'ls_provider': 'groq', 'ls_model_name': 'openai/gpt-oss-120b', 'ls_model_type': 'chat', 'ls_temperature': 0.7}, 'parent_ids': ['e9c8ccb5-8522-4735-85c5-21e63e0d488e', '7a51946f-4b8d-46c3-a10b-75445a4219d0']}\n",
      "{'event': 'on_chat_model_stream', 'data': {'chunk': AIMessageChunk(content=' to', additional_kwargs={}, response_metadata={}, id='run--0f108b1c-38d2-40da-a641-d3d3bd8b1fca')}, 'run_id': '0f108b1c-38d2-40da-a641-d3d3bd8b1fca', 'name': 'ChatGroq', 'tags': ['seq:step:1'], 'metadata': {'thread_id': '5', 'langgraph_step': 1, 'langgraph_node': 'SuperBot', 'langgraph_triggers': ('branch:to:SuperBot',), 'langgraph_path': ('__pregel_pull', 'SuperBot'), 'langgraph_checkpoint_ns': 'SuperBot:ee084c3b-af32-59e1-eecc-a45ee84b2b82', 'checkpoint_ns': 'SuperBot:ee084c3b-af32-59e1-eecc-a45ee84b2b82', 'ls_provider': 'groq', 'ls_model_name': 'openai/gpt-oss-120b', 'ls_model_type': 'chat', 'ls_temperature': 0.7}, 'parent_ids': ['e9c8ccb5-8522-4735-85c5-21e63e0d488e', '7a51946f-4b8d-46c3-a10b-75445a4219d0']}\n",
      "{'event': 'on_chat_model_stream', 'data': {'chunk': AIMessageChunk(content=' meet', additional_kwargs={}, response_metadata={}, id='run--0f108b1c-38d2-40da-a641-d3d3bd8b1fca')}, 'run_id': '0f108b1c-38d2-40da-a641-d3d3bd8b1fca', 'name': 'ChatGroq', 'tags': ['seq:step:1'], 'metadata': {'thread_id': '5', 'langgraph_step': 1, 'langgraph_node': 'SuperBot', 'langgraph_triggers': ('branch:to:SuperBot',), 'langgraph_path': ('__pregel_pull', 'SuperBot'), 'langgraph_checkpoint_ns': 'SuperBot:ee084c3b-af32-59e1-eecc-a45ee84b2b82', 'checkpoint_ns': 'SuperBot:ee084c3b-af32-59e1-eecc-a45ee84b2b82', 'ls_provider': 'groq', 'ls_model_name': 'openai/gpt-oss-120b', 'ls_model_type': 'chat', 'ls_temperature': 0.7}, 'parent_ids': ['e9c8ccb5-8522-4735-85c5-21e63e0d488e', '7a51946f-4b8d-46c3-a10b-75445a4219d0']}\n",
      "{'event': 'on_chat_model_stream', 'data': {'chunk': AIMessageChunk(content=' you', additional_kwargs={}, response_metadata={}, id='run--0f108b1c-38d2-40da-a641-d3d3bd8b1fca')}, 'run_id': '0f108b1c-38d2-40da-a641-d3d3bd8b1fca', 'name': 'ChatGroq', 'tags': ['seq:step:1'], 'metadata': {'thread_id': '5', 'langgraph_step': 1, 'langgraph_node': 'SuperBot', 'langgraph_triggers': ('branch:to:SuperBot',), 'langgraph_path': ('__pregel_pull', 'SuperBot'), 'langgraph_checkpoint_ns': 'SuperBot:ee084c3b-af32-59e1-eecc-a45ee84b2b82', 'checkpoint_ns': 'SuperBot:ee084c3b-af32-59e1-eecc-a45ee84b2b82', 'ls_provider': 'groq', 'ls_model_name': 'openai/gpt-oss-120b', 'ls_model_type': 'chat', 'ls_temperature': 0.7}, 'parent_ids': ['e9c8ccb5-8522-4735-85c5-21e63e0d488e', '7a51946f-4b8d-46c3-a10b-75445a4219d0']}\n",
      "{'event': 'on_chat_model_stream', 'data': {'chunk': AIMessageChunk(content='.', additional_kwargs={}, response_metadata={}, id='run--0f108b1c-38d2-40da-a641-d3d3bd8b1fca')}, 'run_id': '0f108b1c-38d2-40da-a641-d3d3bd8b1fca', 'name': 'ChatGroq', 'tags': ['seq:step:1'], 'metadata': {'thread_id': '5', 'langgraph_step': 1, 'langgraph_node': 'SuperBot', 'langgraph_triggers': ('branch:to:SuperBot',), 'langgraph_path': ('__pregel_pull', 'SuperBot'), 'langgraph_checkpoint_ns': 'SuperBot:ee084c3b-af32-59e1-eecc-a45ee84b2b82', 'checkpoint_ns': 'SuperBot:ee084c3b-af32-59e1-eecc-a45ee84b2b82', 'ls_provider': 'groq', 'ls_model_name': 'openai/gpt-oss-120b', 'ls_model_type': 'chat', 'ls_temperature': 0.7}, 'parent_ids': ['e9c8ccb5-8522-4735-85c5-21e63e0d488e', '7a51946f-4b8d-46c3-a10b-75445a4219d0']}\n",
      "{'event': 'on_chat_model_stream', 'data': {'chunk': AIMessageChunk(content=' How', additional_kwargs={}, response_metadata={}, id='run--0f108b1c-38d2-40da-a641-d3d3bd8b1fca')}, 'run_id': '0f108b1c-38d2-40da-a641-d3d3bd8b1fca', 'name': 'ChatGroq', 'tags': ['seq:step:1'], 'metadata': {'thread_id': '5', 'langgraph_step': 1, 'langgraph_node': 'SuperBot', 'langgraph_triggers': ('branch:to:SuperBot',), 'langgraph_path': ('__pregel_pull', 'SuperBot'), 'langgraph_checkpoint_ns': 'SuperBot:ee084c3b-af32-59e1-eecc-a45ee84b2b82', 'checkpoint_ns': 'SuperBot:ee084c3b-af32-59e1-eecc-a45ee84b2b82', 'ls_provider': 'groq', 'ls_model_name': 'openai/gpt-oss-120b', 'ls_model_type': 'chat', 'ls_temperature': 0.7}, 'parent_ids': ['e9c8ccb5-8522-4735-85c5-21e63e0d488e', '7a51946f-4b8d-46c3-a10b-75445a4219d0']}\n",
      "{'event': 'on_chat_model_stream', 'data': {'chunk': AIMessageChunk(content='’s', additional_kwargs={}, response_metadata={}, id='run--0f108b1c-38d2-40da-a641-d3d3bd8b1fca')}, 'run_id': '0f108b1c-38d2-40da-a641-d3d3bd8b1fca', 'name': 'ChatGroq', 'tags': ['seq:step:1'], 'metadata': {'thread_id': '5', 'langgraph_step': 1, 'langgraph_node': 'SuperBot', 'langgraph_triggers': ('branch:to:SuperBot',), 'langgraph_path': ('__pregel_pull', 'SuperBot'), 'langgraph_checkpoint_ns': 'SuperBot:ee084c3b-af32-59e1-eecc-a45ee84b2b82', 'checkpoint_ns': 'SuperBot:ee084c3b-af32-59e1-eecc-a45ee84b2b82', 'ls_provider': 'groq', 'ls_model_name': 'openai/gpt-oss-120b', 'ls_model_type': 'chat', 'ls_temperature': 0.7}, 'parent_ids': ['e9c8ccb5-8522-4735-85c5-21e63e0d488e', '7a51946f-4b8d-46c3-a10b-75445a4219d0']}\n",
      "{'event': 'on_chat_model_stream', 'data': {'chunk': AIMessageChunk(content=' the', additional_kwargs={}, response_metadata={}, id='run--0f108b1c-38d2-40da-a641-d3d3bd8b1fca')}, 'run_id': '0f108b1c-38d2-40da-a641-d3d3bd8b1fca', 'name': 'ChatGroq', 'tags': ['seq:step:1'], 'metadata': {'thread_id': '5', 'langgraph_step': 1, 'langgraph_node': 'SuperBot', 'langgraph_triggers': ('branch:to:SuperBot',), 'langgraph_path': ('__pregel_pull', 'SuperBot'), 'langgraph_checkpoint_ns': 'SuperBot:ee084c3b-af32-59e1-eecc-a45ee84b2b82', 'checkpoint_ns': 'SuperBot:ee084c3b-af32-59e1-eecc-a45ee84b2b82', 'ls_provider': 'groq', 'ls_model_name': 'openai/gpt-oss-120b', 'ls_model_type': 'chat', 'ls_temperature': 0.7}, 'parent_ids': ['e9c8ccb5-8522-4735-85c5-21e63e0d488e', '7a51946f-4b8d-46c3-a10b-75445a4219d0']}\n",
      "{'event': 'on_chat_model_stream', 'data': {'chunk': AIMessageChunk(content=' surfing', additional_kwargs={}, response_metadata={}, id='run--0f108b1c-38d2-40da-a641-d3d3bd8b1fca')}, 'run_id': '0f108b1c-38d2-40da-a641-d3d3bd8b1fca', 'name': 'ChatGroq', 'tags': ['seq:step:1'], 'metadata': {'thread_id': '5', 'langgraph_step': 1, 'langgraph_node': 'SuperBot', 'langgraph_triggers': ('branch:to:SuperBot',), 'langgraph_path': ('__pregel_pull', 'SuperBot'), 'langgraph_checkpoint_ns': 'SuperBot:ee084c3b-af32-59e1-eecc-a45ee84b2b82', 'checkpoint_ns': 'SuperBot:ee084c3b-af32-59e1-eecc-a45ee84b2b82', 'ls_provider': 'groq', 'ls_model_name': 'openai/gpt-oss-120b', 'ls_model_type': 'chat', 'ls_temperature': 0.7}, 'parent_ids': ['e9c8ccb5-8522-4735-85c5-21e63e0d488e', '7a51946f-4b8d-46c3-a10b-75445a4219d0']}\n",
      "{'event': 'on_chat_model_stream', 'data': {'chunk': AIMessageChunk(content=' lately', additional_kwargs={}, response_metadata={}, id='run--0f108b1c-38d2-40da-a641-d3d3bd8b1fca')}, 'run_id': '0f108b1c-38d2-40da-a641-d3d3bd8b1fca', 'name': 'ChatGroq', 'tags': ['seq:step:1'], 'metadata': {'thread_id': '5', 'langgraph_step': 1, 'langgraph_node': 'SuperBot', 'langgraph_triggers': ('branch:to:SuperBot',), 'langgraph_path': ('__pregel_pull', 'SuperBot'), 'langgraph_checkpoint_ns': 'SuperBot:ee084c3b-af32-59e1-eecc-a45ee84b2b82', 'checkpoint_ns': 'SuperBot:ee084c3b-af32-59e1-eecc-a45ee84b2b82', 'ls_provider': 'groq', 'ls_model_name': 'openai/gpt-oss-120b', 'ls_model_type': 'chat', 'ls_temperature': 0.7}, 'parent_ids': ['e9c8ccb5-8522-4735-85c5-21e63e0d488e', '7a51946f-4b8d-46c3-a10b-75445a4219d0']}\n",
      "{'event': 'on_chat_model_stream', 'data': {'chunk': AIMessageChunk(content='?', additional_kwargs={}, response_metadata={}, id='run--0f108b1c-38d2-40da-a641-d3d3bd8b1fca')}, 'run_id': '0f108b1c-38d2-40da-a641-d3d3bd8b1fca', 'name': 'ChatGroq', 'tags': ['seq:step:1'], 'metadata': {'thread_id': '5', 'langgraph_step': 1, 'langgraph_node': 'SuperBot', 'langgraph_triggers': ('branch:to:SuperBot',), 'langgraph_path': ('__pregel_pull', 'SuperBot'), 'langgraph_checkpoint_ns': 'SuperBot:ee084c3b-af32-59e1-eecc-a45ee84b2b82', 'checkpoint_ns': 'SuperBot:ee084c3b-af32-59e1-eecc-a45ee84b2b82', 'ls_provider': 'groq', 'ls_model_name': 'openai/gpt-oss-120b', 'ls_model_type': 'chat', 'ls_temperature': 0.7}, 'parent_ids': ['e9c8ccb5-8522-4735-85c5-21e63e0d488e', '7a51946f-4b8d-46c3-a10b-75445a4219d0']}\n",
      "{'event': 'on_chat_model_stream', 'data': {'chunk': AIMessageChunk(content=' Catch', additional_kwargs={}, response_metadata={}, id='run--0f108b1c-38d2-40da-a641-d3d3bd8b1fca')}, 'run_id': '0f108b1c-38d2-40da-a641-d3d3bd8b1fca', 'name': 'ChatGroq', 'tags': ['seq:step:1'], 'metadata': {'thread_id': '5', 'langgraph_step': 1, 'langgraph_node': 'SuperBot', 'langgraph_triggers': ('branch:to:SuperBot',), 'langgraph_path': ('__pregel_pull', 'SuperBot'), 'langgraph_checkpoint_ns': 'SuperBot:ee084c3b-af32-59e1-eecc-a45ee84b2b82', 'checkpoint_ns': 'SuperBot:ee084c3b-af32-59e1-eecc-a45ee84b2b82', 'ls_provider': 'groq', 'ls_model_name': 'openai/gpt-oss-120b', 'ls_model_type': 'chat', 'ls_temperature': 0.7}, 'parent_ids': ['e9c8ccb5-8522-4735-85c5-21e63e0d488e', '7a51946f-4b8d-46c3-a10b-75445a4219d0']}\n",
      "{'event': 'on_chat_model_stream', 'data': {'chunk': AIMessageChunk(content='ing', additional_kwargs={}, response_metadata={}, id='run--0f108b1c-38d2-40da-a641-d3d3bd8b1fca')}, 'run_id': '0f108b1c-38d2-40da-a641-d3d3bd8b1fca', 'name': 'ChatGroq', 'tags': ['seq:step:1'], 'metadata': {'thread_id': '5', 'langgraph_step': 1, 'langgraph_node': 'SuperBot', 'langgraph_triggers': ('branch:to:SuperBot',), 'langgraph_path': ('__pregel_pull', 'SuperBot'), 'langgraph_checkpoint_ns': 'SuperBot:ee084c3b-af32-59e1-eecc-a45ee84b2b82', 'checkpoint_ns': 'SuperBot:ee084c3b-af32-59e1-eecc-a45ee84b2b82', 'ls_provider': 'groq', 'ls_model_name': 'openai/gpt-oss-120b', 'ls_model_type': 'chat', 'ls_temperature': 0.7}, 'parent_ids': ['e9c8ccb5-8522-4735-85c5-21e63e0d488e', '7a51946f-4b8d-46c3-a10b-75445a4219d0']}\n",
      "{'event': 'on_chat_model_stream', 'data': {'chunk': AIMessageChunk(content=' any', additional_kwargs={}, response_metadata={}, id='run--0f108b1c-38d2-40da-a641-d3d3bd8b1fca')}, 'run_id': '0f108b1c-38d2-40da-a641-d3d3bd8b1fca', 'name': 'ChatGroq', 'tags': ['seq:step:1'], 'metadata': {'thread_id': '5', 'langgraph_step': 1, 'langgraph_node': 'SuperBot', 'langgraph_triggers': ('branch:to:SuperBot',), 'langgraph_path': ('__pregel_pull', 'SuperBot'), 'langgraph_checkpoint_ns': 'SuperBot:ee084c3b-af32-59e1-eecc-a45ee84b2b82', 'checkpoint_ns': 'SuperBot:ee084c3b-af32-59e1-eecc-a45ee84b2b82', 'ls_provider': 'groq', 'ls_model_name': 'openai/gpt-oss-120b', 'ls_model_type': 'chat', 'ls_temperature': 0.7}, 'parent_ids': ['e9c8ccb5-8522-4735-85c5-21e63e0d488e', '7a51946f-4b8d-46c3-a10b-75445a4219d0']}\n",
      "{'event': 'on_chat_model_stream', 'data': {'chunk': AIMessageChunk(content=' good', additional_kwargs={}, response_metadata={}, id='run--0f108b1c-38d2-40da-a641-d3d3bd8b1fca')}, 'run_id': '0f108b1c-38d2-40da-a641-d3d3bd8b1fca', 'name': 'ChatGroq', 'tags': ['seq:step:1'], 'metadata': {'thread_id': '5', 'langgraph_step': 1, 'langgraph_node': 'SuperBot', 'langgraph_triggers': ('branch:to:SuperBot',), 'langgraph_path': ('__pregel_pull', 'SuperBot'), 'langgraph_checkpoint_ns': 'SuperBot:ee084c3b-af32-59e1-eecc-a45ee84b2b82', 'checkpoint_ns': 'SuperBot:ee084c3b-af32-59e1-eecc-a45ee84b2b82', 'ls_provider': 'groq', 'ls_model_name': 'openai/gpt-oss-120b', 'ls_model_type': 'chat', 'ls_temperature': 0.7}, 'parent_ids': ['e9c8ccb5-8522-4735-85c5-21e63e0d488e', '7a51946f-4b8d-46c3-a10b-75445a4219d0']}\n",
      "{'event': 'on_chat_model_stream', 'data': {'chunk': AIMessageChunk(content=' waves', additional_kwargs={}, response_metadata={}, id='run--0f108b1c-38d2-40da-a641-d3d3bd8b1fca')}, 'run_id': '0f108b1c-38d2-40da-a641-d3d3bd8b1fca', 'name': 'ChatGroq', 'tags': ['seq:step:1'], 'metadata': {'thread_id': '5', 'langgraph_step': 1, 'langgraph_node': 'SuperBot', 'langgraph_triggers': ('branch:to:SuperBot',), 'langgraph_path': ('__pregel_pull', 'SuperBot'), 'langgraph_checkpoint_ns': 'SuperBot:ee084c3b-af32-59e1-eecc-a45ee84b2b82', 'checkpoint_ns': 'SuperBot:ee084c3b-af32-59e1-eecc-a45ee84b2b82', 'ls_provider': 'groq', 'ls_model_name': 'openai/gpt-oss-120b', 'ls_model_type': 'chat', 'ls_temperature': 0.7}, 'parent_ids': ['e9c8ccb5-8522-4735-85c5-21e63e0d488e', '7a51946f-4b8d-46c3-a10b-75445a4219d0']}\n",
      "{'event': 'on_chat_model_stream', 'data': {'chunk': AIMessageChunk(content='?', additional_kwargs={}, response_metadata={}, id='run--0f108b1c-38d2-40da-a641-d3d3bd8b1fca')}, 'run_id': '0f108b1c-38d2-40da-a641-d3d3bd8b1fca', 'name': 'ChatGroq', 'tags': ['seq:step:1'], 'metadata': {'thread_id': '5', 'langgraph_step': 1, 'langgraph_node': 'SuperBot', 'langgraph_triggers': ('branch:to:SuperBot',), 'langgraph_path': ('__pregel_pull', 'SuperBot'), 'langgraph_checkpoint_ns': 'SuperBot:ee084c3b-af32-59e1-eecc-a45ee84b2b82', 'checkpoint_ns': 'SuperBot:ee084c3b-af32-59e1-eecc-a45ee84b2b82', 'ls_provider': 'groq', 'ls_model_name': 'openai/gpt-oss-120b', 'ls_model_type': 'chat', 'ls_temperature': 0.7}, 'parent_ids': ['e9c8ccb5-8522-4735-85c5-21e63e0d488e', '7a51946f-4b8d-46c3-a10b-75445a4219d0']}\n",
      "{'event': 'on_chat_model_stream', 'data': {'chunk': AIMessageChunk(content=' 🌊', additional_kwargs={}, response_metadata={}, id='run--0f108b1c-38d2-40da-a641-d3d3bd8b1fca')}, 'run_id': '0f108b1c-38d2-40da-a641-d3d3bd8b1fca', 'name': 'ChatGroq', 'tags': ['seq:step:1'], 'metadata': {'thread_id': '5', 'langgraph_step': 1, 'langgraph_node': 'SuperBot', 'langgraph_triggers': ('branch:to:SuperBot',), 'langgraph_path': ('__pregel_pull', 'SuperBot'), 'langgraph_checkpoint_ns': 'SuperBot:ee084c3b-af32-59e1-eecc-a45ee84b2b82', 'checkpoint_ns': 'SuperBot:ee084c3b-af32-59e1-eecc-a45ee84b2b82', 'ls_provider': 'groq', 'ls_model_name': 'openai/gpt-oss-120b', 'ls_model_type': 'chat', 'ls_temperature': 0.7}, 'parent_ids': ['e9c8ccb5-8522-4735-85c5-21e63e0d488e', '7a51946f-4b8d-46c3-a10b-75445a4219d0']}\n",
      "{'event': 'on_chat_model_stream', 'data': {'chunk': AIMessageChunk(content='🏄', additional_kwargs={}, response_metadata={}, id='run--0f108b1c-38d2-40da-a641-d3d3bd8b1fca')}, 'run_id': '0f108b1c-38d2-40da-a641-d3d3bd8b1fca', 'name': 'ChatGroq', 'tags': ['seq:step:1'], 'metadata': {'thread_id': '5', 'langgraph_step': 1, 'langgraph_node': 'SuperBot', 'langgraph_triggers': ('branch:to:SuperBot',), 'langgraph_path': ('__pregel_pull', 'SuperBot'), 'langgraph_checkpoint_ns': 'SuperBot:ee084c3b-af32-59e1-eecc-a45ee84b2b82', 'checkpoint_ns': 'SuperBot:ee084c3b-af32-59e1-eecc-a45ee84b2b82', 'ls_provider': 'groq', 'ls_model_name': 'openai/gpt-oss-120b', 'ls_model_type': 'chat', 'ls_temperature': 0.7}, 'parent_ids': ['e9c8ccb5-8522-4735-85c5-21e63e0d488e', '7a51946f-4b8d-46c3-a10b-75445a4219d0']}\n",
      "{'event': 'on_chat_model_stream', 'data': {'chunk': AIMessageChunk(content='\\u200d', additional_kwargs={}, response_metadata={}, id='run--0f108b1c-38d2-40da-a641-d3d3bd8b1fca')}, 'run_id': '0f108b1c-38d2-40da-a641-d3d3bd8b1fca', 'name': 'ChatGroq', 'tags': ['seq:step:1'], 'metadata': {'thread_id': '5', 'langgraph_step': 1, 'langgraph_node': 'SuperBot', 'langgraph_triggers': ('branch:to:SuperBot',), 'langgraph_path': ('__pregel_pull', 'SuperBot'), 'langgraph_checkpoint_ns': 'SuperBot:ee084c3b-af32-59e1-eecc-a45ee84b2b82', 'checkpoint_ns': 'SuperBot:ee084c3b-af32-59e1-eecc-a45ee84b2b82', 'ls_provider': 'groq', 'ls_model_name': 'openai/gpt-oss-120b', 'ls_model_type': 'chat', 'ls_temperature': 0.7}, 'parent_ids': ['e9c8ccb5-8522-4735-85c5-21e63e0d488e', '7a51946f-4b8d-46c3-a10b-75445a4219d0']}\n",
      "{'event': 'on_chat_model_stream', 'data': {'chunk': AIMessageChunk(content='♀', additional_kwargs={}, response_metadata={}, id='run--0f108b1c-38d2-40da-a641-d3d3bd8b1fca')}, 'run_id': '0f108b1c-38d2-40da-a641-d3d3bd8b1fca', 'name': 'ChatGroq', 'tags': ['seq:step:1'], 'metadata': {'thread_id': '5', 'langgraph_step': 1, 'langgraph_node': 'SuperBot', 'langgraph_triggers': ('branch:to:SuperBot',), 'langgraph_path': ('__pregel_pull', 'SuperBot'), 'langgraph_checkpoint_ns': 'SuperBot:ee084c3b-af32-59e1-eecc-a45ee84b2b82', 'checkpoint_ns': 'SuperBot:ee084c3b-af32-59e1-eecc-a45ee84b2b82', 'ls_provider': 'groq', 'ls_model_name': 'openai/gpt-oss-120b', 'ls_model_type': 'chat', 'ls_temperature': 0.7}, 'parent_ids': ['e9c8ccb5-8522-4735-85c5-21e63e0d488e', '7a51946f-4b8d-46c3-a10b-75445a4219d0']}\n",
      "{'event': 'on_chat_model_stream', 'data': {'chunk': AIMessageChunk(content='️', additional_kwargs={}, response_metadata={}, id='run--0f108b1c-38d2-40da-a641-d3d3bd8b1fca')}, 'run_id': '0f108b1c-38d2-40da-a641-d3d3bd8b1fca', 'name': 'ChatGroq', 'tags': ['seq:step:1'], 'metadata': {'thread_id': '5', 'langgraph_step': 1, 'langgraph_node': 'SuperBot', 'langgraph_triggers': ('branch:to:SuperBot',), 'langgraph_path': ('__pregel_pull', 'SuperBot'), 'langgraph_checkpoint_ns': 'SuperBot:ee084c3b-af32-59e1-eecc-a45ee84b2b82', 'checkpoint_ns': 'SuperBot:ee084c3b-af32-59e1-eecc-a45ee84b2b82', 'ls_provider': 'groq', 'ls_model_name': 'openai/gpt-oss-120b', 'ls_model_type': 'chat', 'ls_temperature': 0.7}, 'parent_ids': ['e9c8ccb5-8522-4735-85c5-21e63e0d488e', '7a51946f-4b8d-46c3-a10b-75445a4219d0']}\n",
      "{'event': 'on_chat_model_stream', 'data': {'chunk': AIMessageChunk(content='\"}', additional_kwargs={}, response_metadata={}, id='run--0f108b1c-38d2-40da-a641-d3d3bd8b1fca')}, 'run_id': '0f108b1c-38d2-40da-a641-d3d3bd8b1fca', 'name': 'ChatGroq', 'tags': ['seq:step:1'], 'metadata': {'thread_id': '5', 'langgraph_step': 1, 'langgraph_node': 'SuperBot', 'langgraph_triggers': ('branch:to:SuperBot',), 'langgraph_path': ('__pregel_pull', 'SuperBot'), 'langgraph_checkpoint_ns': 'SuperBot:ee084c3b-af32-59e1-eecc-a45ee84b2b82', 'checkpoint_ns': 'SuperBot:ee084c3b-af32-59e1-eecc-a45ee84b2b82', 'ls_provider': 'groq', 'ls_model_name': 'openai/gpt-oss-120b', 'ls_model_type': 'chat', 'ls_temperature': 0.7}, 'parent_ids': ['e9c8ccb5-8522-4735-85c5-21e63e0d488e', '7a51946f-4b8d-46c3-a10b-75445a4219d0']}\n",
      "{'event': 'on_chat_model_stream', 'data': {'chunk': AIMessageChunk(content='', additional_kwargs={}, response_metadata={'finish_reason': 'stop', 'model_name': 'openai/gpt-oss-120b', 'system_fingerprint': 'fp_ed9190d8b7', 'service_tier': 'on_demand'}, id='run--0f108b1c-38d2-40da-a641-d3d3bd8b1fca', usage_metadata={'input_tokens': 83, 'output_tokens': 69, 'total_tokens': 152})}, 'run_id': '0f108b1c-38d2-40da-a641-d3d3bd8b1fca', 'name': 'ChatGroq', 'tags': ['seq:step:1'], 'metadata': {'thread_id': '5', 'langgraph_step': 1, 'langgraph_node': 'SuperBot', 'langgraph_triggers': ('branch:to:SuperBot',), 'langgraph_path': ('__pregel_pull', 'SuperBot'), 'langgraph_checkpoint_ns': 'SuperBot:ee084c3b-af32-59e1-eecc-a45ee84b2b82', 'checkpoint_ns': 'SuperBot:ee084c3b-af32-59e1-eecc-a45ee84b2b82', 'ls_provider': 'groq', 'ls_model_name': 'openai/gpt-oss-120b', 'ls_model_type': 'chat', 'ls_temperature': 0.7}, 'parent_ids': ['e9c8ccb5-8522-4735-85c5-21e63e0d488e', '7a51946f-4b8d-46c3-a10b-75445a4219d0']}\n",
      "{'event': 'on_chat_model_end', 'data': {'output': AIMessage(content='Hey Rutvi! 👋 Great to meet you. How’s the surfing lately? Catching any good waves? 🌊🏄\\u200d♀️\"}', additional_kwargs={'reasoning_content': 'We need to respond. The user says hi, introduces themselves. Should greet back and ask about surfing? Keep friendly. No policy issues.'}, response_metadata={'finish_reason': 'stop', 'model_name': 'openai/gpt-oss-120b', 'system_fingerprint': 'fp_ed9190d8b7', 'service_tier': 'on_demand'}, id='run--0f108b1c-38d2-40da-a641-d3d3bd8b1fca', usage_metadata={'input_tokens': 83, 'output_tokens': 69, 'total_tokens': 152}), 'input': {'messages': [[HumanMessage(content='Hi,My name is Rutvi And I like Surfing', additional_kwargs={}, response_metadata={}, id='5694ed12-aec2-4e4f-88a2-be72061f84f8')]]}}, 'run_id': '0f108b1c-38d2-40da-a641-d3d3bd8b1fca', 'name': 'ChatGroq', 'tags': ['seq:step:1'], 'metadata': {'thread_id': '5', 'langgraph_step': 1, 'langgraph_node': 'SuperBot', 'langgraph_triggers': ('branch:to:SuperBot',), 'langgraph_path': ('__pregel_pull', 'SuperBot'), 'langgraph_checkpoint_ns': 'SuperBot:ee084c3b-af32-59e1-eecc-a45ee84b2b82', 'checkpoint_ns': 'SuperBot:ee084c3b-af32-59e1-eecc-a45ee84b2b82', 'ls_provider': 'groq', 'ls_model_name': 'openai/gpt-oss-120b', 'ls_model_type': 'chat', 'ls_temperature': 0.7}, 'parent_ids': ['e9c8ccb5-8522-4735-85c5-21e63e0d488e', '7a51946f-4b8d-46c3-a10b-75445a4219d0']}\n",
      "{'event': 'on_chain_stream', 'run_id': '7a51946f-4b8d-46c3-a10b-75445a4219d0', 'name': 'SuperBot', 'tags': ['graph:step:1'], 'metadata': {'thread_id': '5', 'langgraph_step': 1, 'langgraph_node': 'SuperBot', 'langgraph_triggers': ('branch:to:SuperBot',), 'langgraph_path': ('__pregel_pull', 'SuperBot'), 'langgraph_checkpoint_ns': 'SuperBot:ee084c3b-af32-59e1-eecc-a45ee84b2b82'}, 'data': {'chunk': {'messages': [AIMessage(content='Hey Rutvi! 👋 Great to meet you. How’s the surfing lately? Catching any good waves? 🌊🏄\\u200d♀️\"}', additional_kwargs={'reasoning_content': 'We need to respond. The user says hi, introduces themselves. Should greet back and ask about surfing? Keep friendly. No policy issues.'}, response_metadata={'finish_reason': 'stop', 'model_name': 'openai/gpt-oss-120b', 'system_fingerprint': 'fp_ed9190d8b7', 'service_tier': 'on_demand'}, id='run--0f108b1c-38d2-40da-a641-d3d3bd8b1fca', usage_metadata={'input_tokens': 83, 'output_tokens': 69, 'total_tokens': 152})]}}, 'parent_ids': ['e9c8ccb5-8522-4735-85c5-21e63e0d488e']}\n",
      "{'event': 'on_chain_end', 'data': {'output': {'messages': [AIMessage(content='Hey Rutvi! 👋 Great to meet you. How’s the surfing lately? Catching any good waves? 🌊🏄\\u200d♀️\"}', additional_kwargs={'reasoning_content': 'We need to respond. The user says hi, introduces themselves. Should greet back and ask about surfing? Keep friendly. No policy issues.'}, response_metadata={'finish_reason': 'stop', 'model_name': 'openai/gpt-oss-120b', 'system_fingerprint': 'fp_ed9190d8b7', 'service_tier': 'on_demand'}, id='run--0f108b1c-38d2-40da-a641-d3d3bd8b1fca', usage_metadata={'input_tokens': 83, 'output_tokens': 69, 'total_tokens': 152})]}, 'input': {'messages': [HumanMessage(content='Hi,My name is Rutvi And I like Surfing', additional_kwargs={}, response_metadata={}, id='5694ed12-aec2-4e4f-88a2-be72061f84f8')]}}, 'run_id': '7a51946f-4b8d-46c3-a10b-75445a4219d0', 'name': 'SuperBot', 'tags': ['graph:step:1'], 'metadata': {'thread_id': '5', 'langgraph_step': 1, 'langgraph_node': 'SuperBot', 'langgraph_triggers': ('branch:to:SuperBot',), 'langgraph_path': ('__pregel_pull', 'SuperBot'), 'langgraph_checkpoint_ns': 'SuperBot:ee084c3b-af32-59e1-eecc-a45ee84b2b82'}, 'parent_ids': ['e9c8ccb5-8522-4735-85c5-21e63e0d488e']}\n",
      "{'event': 'on_chain_stream', 'run_id': 'e9c8ccb5-8522-4735-85c5-21e63e0d488e', 'name': 'LangGraph', 'tags': [], 'metadata': {'thread_id': '5'}, 'data': {'chunk': {'SuperBot': {'messages': [AIMessage(content='Hey Rutvi! 👋 Great to meet you. How’s the surfing lately? Catching any good waves? 🌊🏄\\u200d♀️\"}', additional_kwargs={'reasoning_content': 'We need to respond. The user says hi, introduces themselves. Should greet back and ask about surfing? Keep friendly. No policy issues.'}, response_metadata={'finish_reason': 'stop', 'model_name': 'openai/gpt-oss-120b', 'system_fingerprint': 'fp_ed9190d8b7', 'service_tier': 'on_demand'}, id='run--0f108b1c-38d2-40da-a641-d3d3bd8b1fca', usage_metadata={'input_tokens': 83, 'output_tokens': 69, 'total_tokens': 152})]}}}, 'parent_ids': []}\n",
      "{'event': 'on_chain_end', 'data': {'output': {'messages': [HumanMessage(content='Hi,My name is Rutvi And I like Surfing', additional_kwargs={}, response_metadata={}, id='5694ed12-aec2-4e4f-88a2-be72061f84f8'), AIMessage(content='Hey Rutvi! 👋 Great to meet you. How’s the surfing lately? Catching any good waves? 🌊🏄\\u200d♀️\"}', additional_kwargs={'reasoning_content': 'We need to respond. The user says hi, introduces themselves. Should greet back and ask about surfing? Keep friendly. No policy issues.'}, response_metadata={'finish_reason': 'stop', 'model_name': 'openai/gpt-oss-120b', 'system_fingerprint': 'fp_ed9190d8b7', 'service_tier': 'on_demand'}, id='run--0f108b1c-38d2-40da-a641-d3d3bd8b1fca', usage_metadata={'input_tokens': 83, 'output_tokens': 69, 'total_tokens': 152})]}}, 'run_id': 'e9c8ccb5-8522-4735-85c5-21e63e0d488e', 'name': 'LangGraph', 'tags': [], 'metadata': {'thread_id': '5'}, 'parent_ids': []}\n"
     ]
    }
   ],
   "source": [
    "config = {\"configurable\": {\"thread_id\": \"5\"}}\n",
    "\n",
    "async for event in graph_builder.astream_events({\"messages\":[\"Hi,My name is Rutvi And I like Surfing\"]},config,version=\"v2\"):\n",
    "    print(event)"
   ]
  },
  {
   "cell_type": "code",
   "execution_count": null,
   "metadata": {},
   "outputs": [],
   "source": []
  },
  {
   "cell_type": "code",
   "execution_count": null,
   "metadata": {},
   "outputs": [],
   "source": []
  },
  {
   "cell_type": "code",
   "execution_count": null,
   "metadata": {},
   "outputs": [],
   "source": []
  },
  {
   "cell_type": "code",
   "execution_count": null,
   "metadata": {},
   "outputs": [],
   "source": []
  }
 ],
 "metadata": {
  "kernelspec": {
   "display_name": ".venv",
   "language": "python",
   "name": "python3"
  },
  "language_info": {
   "codemirror_mode": {
    "name": "ipython",
    "version": 3
   },
   "file_extension": ".py",
   "mimetype": "text/x-python",
   "name": "python",
   "nbconvert_exporter": "python",
   "pygments_lexer": "ipython3",
   "version": "3.13.1"
  }
 },
 "nbformat": 4,
 "nbformat_minor": 2
}
